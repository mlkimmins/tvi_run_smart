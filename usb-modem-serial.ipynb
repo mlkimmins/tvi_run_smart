{
 "cells": [
  {
   "cell_type": "code",
   "execution_count": null,
   "id": "4d6654a8",
   "metadata": {
    "scrolled": true
   },
   "outputs": [],
   "source": [
    "import serial\n",
    "\n",
    "import time\n",
    "import csv\n",
    "import matplotlib\n",
    "matplotlib.use(\"tkAgg\")\n",
    "import matplotlib.pyplot as plt\n",
    "import numpy as np\n",
    "\n",
    "import re\n",
    "import pandas as pd\n",
    "import dask.dataframe as dd\n",
    "import streamz.dataframe as sdf\n",
    "# from streamz.dataframe import StreamingDataFrame\n",
    "\n",
    "import threading, queue\n"
   ]
  },
  {
   "cell_type": "code",
   "execution_count": null,
   "id": "5f8a50a4",
   "metadata": {},
   "outputs": [],
   "source": []
  },
  {
   "cell_type": "code",
   "execution_count": null,
   "id": "2304f405",
   "metadata": {},
   "outputs": [],
   "source": []
  },
  {
   "cell_type": "code",
   "execution_count": null,
   "id": "bafc8d9b",
   "metadata": {},
   "outputs": [],
   "source": [
    "portAddr = \"/dev/cu.usbmodem14201\"\n",
    "baud = 115200"
   ]
  },
  {
   "cell_type": "code",
   "execution_count": null,
   "id": "59493c4d",
   "metadata": {},
   "outputs": [],
   "source": [
    "ser = serial.Serial(\n",
    "    port=portAddr,\n",
    "    baudrate=baud,\n",
    "    bytesize=8,\n",
    "    timeout=2,\n",
    "    stopbits=serial.STOPBITS_ONE\n",
    ")\n",
    "ser.flushInput()\n",
    "\n"
   ]
  },
  {
   "cell_type": "code",
   "execution_count": null,
   "id": "51e2aa66",
   "metadata": {},
   "outputs": [],
   "source": [
    "plot_window = 20\n",
    "y_var = np.array(np.zeros([plot_window]))\n",
    "\n",
    "plt.ion()\n",
    "fig, ax = plt.subplots()\n",
    "line, = ax.plot(y_var)\n"
   ]
  },
  {
   "cell_type": "code",
   "execution_count": null,
   "id": "9cb77b2a",
   "metadata": {},
   "outputs": [],
   "source": [
    "def process_serial_out(ascii_string):\n",
    "    ascii_string += ','\n",
    "    findall = re.findall(r'(?P<var>.*?):(?P<out>.*?),', msg)\n",
    "    extracted = {k.strip(): v.strip() for k,v in findall}\n",
    "    return extracted"
   ]
  },
  {
   "cell_type": "code",
   "execution_count": null,
   "id": "a893b6e5",
   "metadata": {},
   "outputs": [],
   "source": []
  },
  {
   "cell_type": "code",
   "execution_count": null,
   "id": "1c546184",
   "metadata": {},
   "outputs": [],
   "source": [
    "\n",
    "def arduino_worker(queue):\n",
    "    while True:\n",
    "        try:\n",
    "            ser_bytes = ser.readline()\n",
    "            try:\n",
    "                decoded_bytes = ser_bytes.decode('ascii')\n",
    "                row = process_serial_out(decoded_bytes)\n",
    "                print(decoded_bytes)\n",
    "                queue.put(row)\n",
    "            except:\n",
    "                print_exc()\n",
    "                print(\"exception reading one line from arduino\")\n",
    "                continue\n",
    "        except:\n",
    "            print(\"Keyboard Interrupt\")\n",
    "            break"
   ]
  },
  {
   "cell_type": "code",
   "execution_count": null,
   "id": "ef2537bf",
   "metadata": {},
   "outputs": [],
   "source": [
    "def stride_boundary(row, this_stride):\n",
    "#     just a dummy code. We need to implement the logic.\n",
    "    if this_stride.qsize()>500:\n",
    "        return True\n",
    "    else:\n",
    "        return False"
   ]
  },
  {
   "cell_type": "code",
   "execution_count": null,
   "id": "77d7932b",
   "metadata": {},
   "outputs": [],
   "source": []
  },
  {
   "cell_type": "code",
   "execution_count": null,
   "id": "8d8fc4d1",
   "metadata": {},
   "outputs": [],
   "source": []
  },
  {
   "cell_type": "code",
   "execution_count": null,
   "id": "f470f389",
   "metadata": {},
   "outputs": [],
   "source": [
    "\n",
    "\n",
    "#worker to process one stride boundary, sort data into buckets\n",
    "def stride_processor_worker(total_data):\n",
    "    this_stride = queue.Queue()\n",
    "    while True:\n",
    "        #Infinitely 1. appends to this_stride, then when boundary is met,\n",
    "        #appends that stride to total_data, reinitializes this_stride\n",
    "        #and loops forever.\n",
    "        try:\n",
    "            row = queue.get()\n",
    "            if stride_boundary(row, this_stride):\n",
    "                #put away the current stride in total data as one stride\n",
    "                total_data.put(this_stride)\n",
    "                print(\"finished writing this one stride\", this_stride.qsize()\n",
    "                     )\n",
    "                #reinitialize the stride queue\n",
    "                this_stride = queue.Queue()\n",
    "            else:\n",
    "                this_stride.put(row)\n",
    "        except:\n",
    "            print(\"exception in stride processor worker\")\n",
    "            \n",
    "    "
   ]
  },
  {
   "cell_type": "code",
   "execution_count": null,
   "id": "6393412c",
   "metadata": {},
   "outputs": [],
   "source": []
  },
  {
   "cell_type": "code",
   "execution_count": null,
   "id": "980edca6",
   "metadata": {},
   "outputs": [],
   "source": []
  },
  {
   "cell_type": "code",
   "execution_count": null,
   "id": "e3bb0478",
   "metadata": {},
   "outputs": [],
   "source": [
    "usb_reading_queue = queue.Queue()\n",
    "total_data = queue.Queue()"
   ]
  },
  {
   "cell_type": "code",
   "execution_count": null,
   "id": "4f979309",
   "metadata": {},
   "outputs": [],
   "source": [
    "\n",
    "#  set up worker threads\n",
    "arduino_thread = threading.Thread(target=arduino_worker, args=[usb_reading_queue], daemon=True)"
   ]
  },
  {
   "cell_type": "code",
   "execution_count": null,
   "id": "b120ff87",
   "metadata": {},
   "outputs": [],
   "source": [
    "stride_thread = threading.Thread(target=stride_processor_worker, args=[total_data], daemon=True)"
   ]
  },
  {
   "cell_type": "code",
   "execution_count": null,
   "id": "fee241b8",
   "metadata": {
    "scrolled": false
   },
   "outputs": [],
   "source": []
  },
  {
   "cell_type": "code",
   "execution_count": null,
   "id": "8468d801",
   "metadata": {
    "scrolled": false
   },
   "outputs": [],
   "source": [
    "# start\n",
    "arduino_thread.start()\n",
    "stride_thread.start()"
   ]
  },
  {
   "cell_type": "code",
   "execution_count": null,
   "id": "ed3af5fe",
   "metadata": {
    "scrolled": false
   },
   "outputs": [],
   "source": [
    "# end\n",
    "arduino_thread.join()\n",
    "stride_thread.join()"
   ]
  },
  {
   "cell_type": "code",
   "execution_count": null,
   "id": "7081bcc3",
   "metadata": {},
   "outputs": [],
   "source": []
  },
  {
   "cell_type": "code",
   "execution_count": null,
   "id": "db00e538",
   "metadata": {},
   "outputs": [],
   "source": []
  },
  {
   "cell_type": "code",
   "execution_count": null,
   "id": "ec70bf48",
   "metadata": {},
   "outputs": [],
   "source": []
  },
  {
   "cell_type": "code",
   "execution_count": null,
   "id": "e87bc6ac",
   "metadata": {},
   "outputs": [],
   "source": []
  },
  {
   "cell_type": "code",
   "execution_count": null,
   "id": "b7bdad49",
   "metadata": {},
   "outputs": [],
   "source": []
  },
  {
   "cell_type": "code",
   "execution_count": null,
   "id": "73707456",
   "metadata": {},
   "outputs": [],
   "source": []
  },
  {
   "cell_type": "code",
   "execution_count": null,
   "id": "9721114e",
   "metadata": {},
   "outputs": [],
   "source": []
  },
  {
   "cell_type": "code",
   "execution_count": null,
   "id": "3d022e7b",
   "metadata": {},
   "outputs": [],
   "source": []
  },
  {
   "cell_type": "code",
   "execution_count": null,
   "id": "224ea244",
   "metadata": {},
   "outputs": [],
   "source": []
  },
  {
   "cell_type": "code",
   "execution_count": null,
   "id": "7a559262",
   "metadata": {},
   "outputs": [],
   "source": []
  },
  {
   "cell_type": "code",
   "execution_count": null,
   "id": "cc5d2ea3",
   "metadata": {},
   "outputs": [],
   "source": []
  },
  {
   "cell_type": "code",
   "execution_count": null,
   "id": "199553b1",
   "metadata": {},
   "outputs": [],
   "source": [
    "ser_bytes = ser.readline()"
   ]
  },
  {
   "cell_type": "code",
   "execution_count": null,
   "id": "018cc16c",
   "metadata": {},
   "outputs": [],
   "source": [
    "ser_bytes"
   ]
  },
  {
   "cell_type": "code",
   "execution_count": null,
   "id": "c714ea30",
   "metadata": {},
   "outputs": [],
   "source": []
  },
  {
   "cell_type": "code",
   "execution_count": null,
   "id": "930e3d5c",
   "metadata": {},
   "outputs": [],
   "source": []
  },
  {
   "cell_type": "code",
   "execution_count": null,
   "id": "410399b6",
   "metadata": {},
   "outputs": [],
   "source": [
    "sdf = (source.map(pd.read_csv)                  # stream of Pandas dataframes\n",
    "             .to_dataframe(example=...))        # logical streaming dataframe\n"
   ]
  },
  {
   "cell_type": "code",
   "execution_count": null,
   "id": "fca88059",
   "metadata": {
    "scrolled": false
   },
   "outputs": [],
   "source": [
    "\n",
    "this_stride = []\n",
    "full_data = []\n",
    "data_chunk = []\n",
    "while True:\n",
    "#     if [chu]\n",
    "    try:\n",
    "        ser_bytes = ser.readline()\n",
    "        try:\n",
    "            decoded_bytes = ser_bytes.decode('ascii')\n",
    "            row = process_serial_out(decoded_bytes)\n",
    "            print(decoded_bytes)\n",
    "            data_chunk.append(row)\n",
    "        except:\n",
    "            print(\"exception?\")\n",
    "            continue\n",
    "#         with open(\"test_data.csv\",\"a\") as f:\n",
    "#             writer = csv.writer(f,delimiter=\",\")\n",
    "#             writer.writerow([time.time(),decoded_bytes])\n",
    "#         y_var = np.append(y_var,decoded_bytes)\n",
    "#         y_var = y_var[1:plot_window+1]\n",
    "#         line.set_ydata(y_var)\n",
    "#         ax.relim()\n",
    "#         ax.autoscale_view()\n",
    "#         fig.canvas.draw()\n",
    "#         fig.canvas.flush_events()\n",
    "    except:\n",
    "        print(\"Keyboard Interrupt\")\n",
    "        break"
   ]
  },
  {
   "cell_type": "code",
   "execution_count": null,
   "id": "6c6d6bf7",
   "metadata": {},
   "outputs": [],
   "source": []
  },
  {
   "cell_type": "code",
   "execution_count": null,
   "id": "1cdad830",
   "metadata": {},
   "outputs": [],
   "source": []
  },
  {
   "cell_type": "code",
   "execution_count": null,
   "id": "f195ff72",
   "metadata": {},
   "outputs": [],
   "source": [
    "dummy = {'Time':'5948', 'Pitch': '3.65',\n",
    " 'Yaw': '-119.85',\n",
    " 'Roll': '179.54',\n",
    " 'Accel_x': '-0.50',\n",
    " 'Accel_y': '0.86',\n",
    " 'Accel_z': '0.02',\n",
    " 'Gyro_x': '-0.50',\n",
    " 'Gyro_y': '0.86',\n",
    " 'Gyro_z': '0.02',\n",
    " 'Mag_x': '-0.50',\n",
    " 'Magl_y': '0.86',\n",
    " 'Mag_z': '0.02'}"
   ]
  },
  {
   "cell_type": "code",
   "execution_count": null,
   "id": "81514e4e",
   "metadata": {},
   "outputs": [],
   "source": [
    "pd.DataFrame([dummy, dummy])"
   ]
  },
  {
   "cell_type": "code",
   "execution_count": null,
   "id": "00ac28b8",
   "metadata": {},
   "outputs": [],
   "source": []
  },
  {
   "cell_type": "code",
   "execution_count": null,
   "id": "ac06ed13",
   "metadata": {},
   "outputs": [],
   "source": []
  },
  {
   "cell_type": "code",
   "execution_count": null,
   "id": "6c22a401",
   "metadata": {},
   "outputs": [],
   "source": [
    "df = pd.DataFrame(dummy, columns = [\n",
    "    'Yaw'\n",
    ",'Roll'\n",
    ",'Accel_x'\n",
    ",'Accel_y'\n",
    ",'Accel_z'\n",
    ",'Gyro_x'\n",
    ",'Gyro_y'\n",
    ",'Gyro_z'\n",
    ",'Mag_x' \n",
    ",'Magl_y'\n",
    ",'Mag_z'])\n"
   ]
  },
  {
   "cell_type": "code",
   "execution_count": null,
   "id": "f82c3acd",
   "metadata": {},
   "outputs": [],
   "source": []
  },
  {
   "cell_type": "code",
   "execution_count": null,
   "id": "0056b89e",
   "metadata": {},
   "outputs": [],
   "source": []
  },
  {
   "cell_type": "code",
   "execution_count": null,
   "id": "28dcbef9",
   "metadata": {},
   "outputs": [],
   "source": [
    "pd.DataFrame.from_dict(dummy, orient='columns', dtype=None,typ='series')\n"
   ]
  },
  {
   "cell_type": "code",
   "execution_count": null,
   "id": "8d1d2a3c",
   "metadata": {},
   "outputs": [],
   "source": []
  },
  {
   "cell_type": "code",
   "execution_count": null,
   "id": "2c969948",
   "metadata": {},
   "outputs": [],
   "source": []
  },
  {
   "cell_type": "code",
   "execution_count": null,
   "id": "a220e88a",
   "metadata": {},
   "outputs": [],
   "source": []
  },
  {
   "cell_type": "code",
   "execution_count": null,
   "id": "1ca6550e",
   "metadata": {},
   "outputs": [],
   "source": []
  },
  {
   "cell_type": "code",
   "execution_count": null,
   "id": "af3a1e09",
   "metadata": {},
   "outputs": [],
   "source": []
  },
  {
   "cell_type": "code",
   "execution_count": null,
   "id": "b1e683d4",
   "metadata": {},
   "outputs": [],
   "source": [
    "# serialPort = serial.Serial(port = portAddr, baudrate=115200, bytesize=8, timeout=2, stopbits=serial.STOPBITS_ONE)"
   ]
  },
  {
   "cell_type": "code",
   "execution_count": null,
   "id": "d4be6594",
   "metadata": {},
   "outputs": [],
   "source": []
  },
  {
   "cell_type": "code",
   "execution_count": null,
   "id": "dd302e84",
   "metadata": {
    "scrolled": true
   },
   "outputs": [],
   "source": [
    "with open('hexdatafile.dat', 'wb') as datafile:\n",
    "    datafile.write(ser.read(10000))"
   ]
  },
  {
   "cell_type": "code",
   "execution_count": null,
   "id": "b7b3d04a",
   "metadata": {},
   "outputs": [],
   "source": []
  },
  {
   "cell_type": "code",
   "execution_count": null,
   "id": "ade574d6",
   "metadata": {},
   "outputs": [],
   "source": []
  },
  {
   "cell_type": "code",
   "execution_count": null,
   "id": "4a2d9c8d",
   "metadata": {},
   "outputs": [],
   "source": [
    "msg = \"Pitch:3.65,Yaw:-119.85,Roll:179.54,Accel_x: -0.50,Accel_y: 0.86,Accel_z: 0.02,Gyro_x: -0.50,Gyro_y: 0.86,Gyro_z: 0.02,Mag_x: -0.50,Magl_y: 0.86,Mag_z: 0.02\"\n",
    "msg += \",\""
   ]
  },
  {
   "cell_type": "code",
   "execution_count": null,
   "id": "9d77b13d",
   "metadata": {},
   "outputs": [],
   "source": [
    "findall = re.findall(r'(?P<var>.*?):(?P<out>.*?),', msg)"
   ]
  },
  {
   "cell_type": "code",
   "execution_count": null,
   "id": "8c94eb43",
   "metadata": {},
   "outputs": [],
   "source": [
    "extracted = {k.strip(): v.strip() for k,v in findall}"
   ]
  },
  {
   "cell_type": "code",
   "execution_count": null,
   "id": "6c3d4731",
   "metadata": {},
   "outputs": [],
   "source": [
    "extracted"
   ]
  },
  {
   "cell_type": "code",
   "execution_count": null,
   "id": "d8d11306",
   "metadata": {},
   "outputs": [],
   "source": []
  },
  {
   "cell_type": "code",
   "execution_count": null,
   "id": "425e57f7",
   "metadata": {},
   "outputs": [],
   "source": []
  },
  {
   "cell_type": "code",
   "execution_count": null,
   "id": "7d0c5b1d",
   "metadata": {},
   "outputs": [],
   "source": []
  },
  {
   "cell_type": "code",
   "execution_count": null,
   "id": "6b1a14b9",
   "metadata": {},
   "outputs": [],
   "source": []
  },
  {
   "cell_type": "code",
   "execution_count": null,
   "id": "b98ac2f9",
   "metadata": {},
   "outputs": [],
   "source": []
  },
  {
   "cell_type": "code",
   "execution_count": null,
   "id": "148b9cd0",
   "metadata": {},
   "outputs": [],
   "source": []
  }
 ],
 "metadata": {
  "kernelspec": {
   "display_name": "Python 3",
   "language": "python",
   "name": "python3"
  },
  "language_info": {
   "codemirror_mode": {
    "name": "ipython",
    "version": 3
   },
   "file_extension": ".py",
   "mimetype": "text/x-python",
   "name": "python",
   "nbconvert_exporter": "python",
   "pygments_lexer": "ipython3",
   "version": "3.9.5"
  }
 },
 "nbformat": 4,
 "nbformat_minor": 5
}
