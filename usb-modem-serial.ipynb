{
 "cells": [
  {
   "cell_type": "code",
   "execution_count": 8,
   "id": "4d6654a8",
   "metadata": {
    "scrolled": true
   },
   "outputs": [],
   "source": [
    "import serial\n",
    "\n",
    "import time\n",
    "import csv\n",
    "import matplotlib\n",
    "matplotlib.use(\"tkAgg\")\n",
    "import matplotlib.pyplot as plt\n",
    "import numpy as np\n",
    "\n",
    "import re\n",
    "import pandas as pd\n",
    "import dask.dataframe as dd\n",
    "import streamz.dataframe as sdf\n",
    "# from streamz.dataframe import StreamingDataFrame\n",
    "\n",
    "# import threading, queue\n",
    "import multiprocess as mp\n",
    "# from multiprocessing import Process, Pipe\n",
    "import signal\n",
    "import os\n",
    "from subprocess import check_output"
   ]
  },
  {
   "cell_type": "code",
   "execution_count": 9,
   "id": "bafc8d9b",
   "metadata": {},
   "outputs": [],
   "source": [
    "portAddr = \"/dev/cu.usbmodem14101\"\n",
    "baud = 115200"
   ]
  },
  {
   "cell_type": "code",
   "execution_count": 10,
   "id": "59493c4d",
   "metadata": {},
   "outputs": [],
   "source": [
    "ser = serial.Serial(\n",
    "    port=portAddr,\n",
    "    baudrate=baud,\n",
    "    bytesize=8,\n",
    "    timeout=2,\n",
    "    stopbits=serial.STOPBITS_ONE\n",
    ")\n",
    "ser.flushInput()\n",
    "\n"
   ]
  },
  {
   "cell_type": "code",
   "execution_count": 11,
   "id": "51e2aa66",
   "metadata": {},
   "outputs": [],
   "source": [
    "# plot_window = 20\n",
    "# y_var = np.array(np.zeros([plot_window]))\n",
    "\n",
    "# plt.ion()\n",
    "# fig, ax = plt.subplots()\n",
    "# line, = ax.plot(y_var)\n"
   ]
  },
  {
   "cell_type": "code",
   "execution_count": 12,
   "id": "9cb77b2a",
   "metadata": {},
   "outputs": [],
   "source": [
    "def process_serial_out(ascii_string):\n",
    "    ascii_string += ','\n",
    "    findall = re.findall(r'(?P<var>.*?):(?P<out>.*?),', ascii_string)\n",
    "    extracted = {k.strip(): v.strip() for k,v in findall}\n",
    "    return extracted"
   ]
  },
  {
   "cell_type": "code",
   "execution_count": null,
   "id": "a893b6e5",
   "metadata": {},
   "outputs": [],
   "source": []
  },
  {
   "cell_type": "code",
   "execution_count": 13,
   "id": "1c546184",
   "metadata": {},
   "outputs": [],
   "source": [
    "\n",
    "def arduino_worker(queue):\n",
    "    print(\"worker starting...\")\n",
    "    while True:\n",
    "        try:\n",
    "            ser_bytes = ser.readline()\n",
    "            try:\n",
    "                print(\"got\", ser_bytes)\n",
    "                decoded_bytes = ser_bytes.decode('ascii')\n",
    "                row = process_serial_out(decoded_bytes)\n",
    "                print(decoded_bytes)\n",
    "                queue.put(row)\n",
    "            except:\n",
    "                print_exc()\n",
    "                print(\"exception reading one line from arduino\")\n",
    "                continue\n",
    "        except:\n",
    "            print_exc()\n",
    "            print(\"Keyboard Interrupt\")\n",
    "            break"
   ]
  },
  {
   "cell_type": "code",
   "execution_count": 14,
   "id": "ef2537bf",
   "metadata": {},
   "outputs": [],
   "source": [
    "import random\n",
    "\n",
    "def stride_boundary(row, this_stride):\n",
    "#     just a dummy code. We need to implement the logic.\n",
    "    if (bool(random.getrandbits(1))):\n",
    "        return True\n",
    "    else:\n",
    "        return False"
   ]
  },
  {
   "cell_type": "code",
   "execution_count": null,
   "id": "77d7932b",
   "metadata": {},
   "outputs": [],
   "source": []
  },
  {
   "cell_type": "code",
   "execution_count": null,
   "id": "23b048aa",
   "metadata": {},
   "outputs": [],
   "source": []
  },
  {
   "cell_type": "code",
   "execution_count": 15,
   "id": "f470f389",
   "metadata": {
    "scrolled": false
   },
   "outputs": [],
   "source": [
    "\n",
    "\n",
    "#worker to process one stride boundary, sort data into buckets\n",
    "def stride_processor_worker(total_data, raw_stream):\n",
    "    this_stride = []\n",
    "    print(\"stride_processor starting...\")\n",
    "    while True:\n",
    "        #Infinitely 1. appends to this_stride, then when boundary is met,\n",
    "        #appends that stride to total_data, reinitializes this_stride\n",
    "        #and loops forever.\n",
    "        try:\n",
    "            row = raw_stream.get()\n",
    "            print (\"decoded: \", row)\n",
    "            if len(this_stride) > 5:\n",
    "                #put away the current stride in total data as one stride\n",
    "                total_data.put(this_stride)\n",
    "                print(\"finished writing this one stride, size: \", len(this_stride))\n",
    "                #reinitialize the stride queue\n",
    "                this_stride = []\n",
    "            else:\n",
    "                this_stride.append(row)\n",
    "        except:\n",
    "            print_exc()\n",
    "            print(\"exception in stride processor worker\")\n",
    "            \n",
    "    "
   ]
  },
  {
   "cell_type": "code",
   "execution_count": 16,
   "id": "6393412c",
   "metadata": {},
   "outputs": [],
   "source": [
    "# overall structure:\n",
    "# total_data = [stride1, stride2,,,,,,stride500]\n",
    "# stride1 = [{r1}, {r2}, {r3}]"
   ]
  },
  {
   "cell_type": "code",
   "execution_count": 17,
   "id": "980edca6",
   "metadata": {},
   "outputs": [],
   "source": [
    "######### start 'main' ########"
   ]
  },
  {
   "cell_type": "code",
   "execution_count": 18,
   "id": "e3bb0478",
   "metadata": {},
   "outputs": [],
   "source": [
    "pool = mp.Pool()\n",
    "manager = mp.Manager()\n",
    "usb_reading_queue = mp.SimpleQueue()\n",
    "total_data = mp.SimpleQueue()"
   ]
  },
  {
   "cell_type": "code",
   "execution_count": 19,
   "id": "4f979309",
   "metadata": {},
   "outputs": [],
   "source": [
    "\n",
    "#  set up worker threads\n",
    "# arduino_thread = threading.Thread(target=arduino_worker, args=[usb_reading_queue], daemon=True)"
   ]
  },
  {
   "cell_type": "code",
   "execution_count": 20,
   "id": "b120ff87",
   "metadata": {},
   "outputs": [],
   "source": [
    "# stride_thread = threading.Thread(target=stride_processor_worker, args=[total_data], daemon=True)\n",
    "stride_process = mp.Process(target=stride_processor_worker, args=[total_data, usb_reading_queue])\n",
    "# stride_process = mp.Process(target=stride_processor_worker, args=(total_data, usb_reading_queue))\n"
   ]
  },
  {
   "cell_type": "code",
   "execution_count": null,
   "id": "0f46c485",
   "metadata": {},
   "outputs": [],
   "source": []
  },
  {
   "cell_type": "code",
   "execution_count": 21,
   "id": "fee241b8",
   "metadata": {
    "scrolled": false
   },
   "outputs": [],
   "source": [
    "# arduino_res = pool.apply_async(arduino_worker, (usb_reading_queue))\n",
    "# arduino_proc = mp.Process(target=arduino_worker, args=[usb_reading_queue])\n",
    "arduino_proc = mp.Process(target=arduino_worker, args=[usb_reading_queue])\n"
   ]
  },
  {
   "cell_type": "code",
   "execution_count": 22,
   "id": "264a1d1e",
   "metadata": {
    "scrolled": true
   },
   "outputs": [
    {
     "name": "stdout",
     "output_type": "stream",
     "text": [
      "worker starting...\n",
      "got b',Gyro_x: 0.72,Gyro_y: 0.69,Gyro_z: -0.05,Mag_x: 0.72,Magl_y: 0.69,Mag_z: -0.05\\r\\n'\n",
      ",Gyro_x: 0.72,Gyro_y: 0.69,Gyro_z: -0.05,Mag_x: 0.72,Magl_y: 0.69,Mag_z: -0.05\n",
      "\n",
      "got b'Time:5491612,Pitch:5.94,Yaw:88.17,Roll:-177.63,Accel_x: 0.72,Accel_y: 0.69,Accel_z: -0.05,Gyro_x: 0.72,Gyro_y: 0.69,Gyro_z: -0.05,Mag_x: 0.72,Magl_y: 0.69,Mag_z: -0.05\\r\\n'\n",
      "Time:5491612,Pitch:5.94,Yaw:88.17,Roll:-177.63,Accel_x: 0.72,Accel_y: 0.69,Accel_z: -0.05,Gyro_x: 0.72,Gyro_y: 0.69,Gyro_z: -0.05,Mag_x: 0.72,Magl_y: 0.69,Mag_z: -0.05\n",
      "\n",
      "got b'Time:5491619,Pitch:5.94,Yaw:88.17,Roll:-177.63,Accel_x: 0.72,Accel_y: 0.69,Accel_z: -0.05,Gyro_x: 0.72,Gyro_y: 0.69,Gyro_z: -0.05,Mag_x: 0.72,Magl_y: 0.69,Mag_z: -0.05\\r\\n'\n",
      "Time:5491619,Pitch:5.94,Yaw:88.17,Roll:-177.63,Accel_x: 0.72,Accel_y: 0.69,Accel_z: -0.05,Gyro_x: 0.72,Gyro_y: 0.69,Gyro_z: -0.05,Mag_x: 0.72,Magl_y: 0.69,Mag_z: -0.05\n",
      "\n",
      "got b'Time:5491626,Pitch:5.94,Yaw:88.17,Roll:-177.63,Accel_x: 0.72,Accel_y: 0.69,Accel_z: -0.05,Gyro_x: 0.72,Gyro_y: 0.69,Gyro_z: -0.05,Mag_x: 0.72,Magl_y: 0.69,Mag_z: -0.05\\r\\n'\n",
      "Time:5491626,Pitch:5.94,Yaw:88.17,Roll:-177.63,Accel_x: 0.72,Accel_y: 0.69,Accel_z: -0.05,Gyro_x: 0.72,Gyro_y: 0.69,Gyro_z: -0.05,Mag_x: 0.72,Magl_y: 0.69,Mag_z: -0.05\n",
      "\n",
      "got b'Time:5491632,Pitch:5.94,Yaw:88.17,Roll:-177.63,Accel_x: 0.72,Accel_y: 0.69,Accel_z: -0.05,Gyro_x: 0.72,Gyro_y: 0.69,Gyro_z: -0.05,Mag_x: 0.72,Magl_y: 0.69,Mag_z: -0.05\\r\\n'\n",
      "Time:5491632,Pitch:5.94,Yaw:88.17,Roll:-177.63,Accel_x: 0.72,Accel_y: 0.69,Accel_z: -0.05,Gyro_x: 0.72,Gyro_y: 0.69,Gyro_z: -0.05,Mag_x: 0.72,Magl_y: 0.69,Mag_z: -0.05\n",
      "\n",
      "got b'Time:5491640,Pitch:5.94,Yaw:88.17,Roll:-177.63,Accel_x: 0.72,Accel_y: 0.69,Accel_z: -0.05,Gyro_x: 0.72,Gyro_y: 0.69,Gyro_z: -0.05,Mag_x: 0.72,Magl_y: 0.69,Mag_z: -0.05\\r\\n'\n",
      "Time:5491640,Pitch:5.94,Yaw:88.17,Roll:-177.63,Accel_x: 0.72,Accel_y: 0.69,Accel_z: -0.05,Gyro_x: 0.72,Gyro_y: 0.69,Gyro_z: -0.05,Mag_x: 0.72,Magl_y: 0.69,Mag_z: -0.05\n",
      "\n",
      "got b'Time:5491647,Pitch:5.94,Yaw:88.17,Roll:-177.63,Accel_x: 0.72,Accel_y: 0.69,Accel_z: -0.05,Gyro_x: 0.72,Gyro_y: 0.69,Gyro_z: -0.05,Mag_x: 0.72,Magl_y: 0.69,Mag_z: -0.05\\r\\n'\n",
      "Time:5491647,Pitch:5.94,Yaw:88.17,Roll:-177.63,Accel_x: 0.72,Accel_y: 0.69,Accel_z: -0.05,Gyro_x: 0.72,Gyro_y: 0.69,Gyro_z: -0.05,Mag_x: 0.72,Magl_y: 0.69,Mag_z: -0.05\n",
      "\n",
      "got b'Time:5491654,Pitch:5.94,Yaw:88.17,Roll:-177.63,Accel_x: 0.72,Accel_y: 0.69,Accel_z: -0.05,Gyro_x: 0.72,Gyro_y: 0.69,Gyro_z: -0.05,Mag_x: 0.72,Magl_y: 0.69,Mag_z: -0.05\\r\\n'\n",
      "Time:5491654,Pitch:5.94,Yaw:88.17,Roll:-177.63,Accel_x: 0.72,Accel_y: 0.69,Accel_z: -0.05,Gyro_x: 0.72,Gyro_y: 0.69,Gyro_z: -0.05,Mag_x: 0.72,Magl_y: 0.69,Mag_z: -0.05\n",
      "\n",
      "got b'Time:5491662,Pitch:5.94,Yaw:88.17,Roll:-177.63,Accel_x: 0.72,Accel_y: 0.69,Accel_z: -0.05,Gyro_x: 0.72,Gyro_y: 0.69,Gyro_z: -0.05,Mag_x: 0.72,Magl_y: 0.69,Mag_z: -0.05\\r\\n'\n",
      "Time:5491662,Pitch:5.94,Yaw:88.17,Roll:-177.63,Accel_x: 0.72,Accel_y: 0.69,Accel_z: -0.05,Gyro_x: 0.72,Gyro_y: 0.69,Gyro_z: -0.05,Mag_x: 0.72,Magl_y: 0.69,Mag_z: -0.05\n",
      "\n",
      "got b'Time:5491669,Pitch:5.94,Yaw:88.17,Roll:-177.63,Accel_x: 0.72,Accel_y: 0.69,Accel_z: -0.05,Gyro_x: 0.72,Gyro_y: 0.69,Gyro_z: -0.05,Mag_x: 0.72,Magl_y: 0.69,Mag_z: -0.05\\r\\n'\n",
      "Time:5491669,Pitch:5.94,Yaw:88.17,Roll:-177.63,Accel_x: 0.72,Accel_y: 0.69,Accel_z: -0.05,Gyro_x: 0.72,Gyro_y: 0.69,Gyro_z: -0.05,Mag_x: 0.72,Magl_y: 0.69,Mag_z: -0.05\n",
      "\n",
      "got b'Time:5491676,Pitch:5.94,Yaw:88.17,Roll:-177.63,Accel_x: 0.72,Accel_y: 0.69,Accel_z: -0.05,Gyro_x: 0.72,Gyro_y: 0.69,Gyro_z: -0.05,Mag_x: 0.72,Magl_y: 0.69,Mag_z: -0.05\\r\\n'\n",
      "Time:5491676,Pitch:5.94,Yaw:88.17,Roll:-177.63,Accel_x: 0.72,Accel_y: 0.69,Accel_z: -0.05,Gyro_x: 0.72,Gyro_y: 0.69,Gyro_z: -0.05,Mag_x: 0.72,Magl_y: 0.69,Mag_z: -0.05\n",
      "\n",
      "got b'Time:5491682,Pitch:5.94,Yaw:88.17,Roll:-177.63,Accel_x: 0.72,Accel_y: 0.69,Accel_z: -0.05,Gyro_x: 0.72,Gyro_y: 0.69,Gyro_z: -0.05,Mag_x: 0.72,Magl_y: 0.69,Mag_z: -0.05\\r\\n'\n",
      "Time:5491682,Pitch:5.94,Yaw:88.17,Roll:-177.63,Accel_x: 0.72,Accel_y: 0.69,Accel_z: -0.05,Gyro_x: 0.72,Gyro_y: 0.69,Gyro_z: -0.05,Mag_x: 0.72,Magl_y: 0.69,Mag_z: -0.05\n",
      "\n",
      "got b'Time:5491690,Pitch:5.94,Yaw:88.17,Roll:-177.63,Accel_x: 0.72,Accel_y: 0.69,Accel_z: -0.05,Gyro_x: 0.72,Gyro_y: 0.69,Gyro_z: -0.05,Mag_x: 0.72,Magl_y: 0.69,Mag_z: -0.05\\r\\n'\n",
      "Time:5491690,Pitch:5.94,Yaw:88.17,Roll:-177.63,Accel_x: 0.72,Accel_y: 0.69,Accel_z: -0.05,Gyro_x: 0.72,Gyro_y: 0.69,Gyro_z: -0.05,Mag_x: 0.72,Magl_y: 0.69,Mag_z: -0.05\n",
      "\n",
      "got b'Time:5491697,Pitch:5.94,Yaw:88.17,Roll:-177.63,Accel_x: 0.72,Accel_y: 0.69,Accel_z: -0.05,Gyro_x: 0.72,Gyro_y: 0.69,Gyro_z: -0.05,Mag_x: 0.72,Magl_y: 0.69,Mag_z: -0.05\\r\\n'\n",
      "Time:5491697,Pitch:5.94,Yaw:88.17,Roll:-177.63,Accel_x: 0.72,Accel_y: 0.69,Accel_z: -0.05,Gyro_x: 0.72,Gyro_y: 0.69,Gyro_z: -0.05,Mag_x: 0.72,Magl_y: 0.69,Mag_z: -0.05\n",
      "\n",
      "got b'Time:5491704,Pitch:5.94,Yaw:88.17,Roll:-177.63,Accel_x: 0.72,Accel_y: 0.69,Accel_z: -0.05,Gyro_x: 0.72,Gyro_y: 0.69,Gyro_z: -0.05,Mag_x: 0.72,Magl_y: 0.69,Mag_z: -0.05\\r\\n'\n",
      "Time:5491704,Pitch:5.94,Yaw:88.17,Roll:-177.63,Accel_x: 0.72,Accel_y: 0.69,Accel_z: -0.05,Gyro_x: 0.72,Gyro_y: 0.69,Gyro_z: -0.05,Mag_x: 0.72,Magl_y: 0.69,Mag_z: -0.05\n",
      "\n",
      "got b'Time:5491711,Pitch:5.94,Yaw:88.17,Roll:-177.63,Accel_x: 0.72,Accel_y: 0.69,Accel_z: -0.05,Gyro_x: 0.72,Gyro_y: 0.69,Gyro_z: -0.05,Mag_x: 0.72,Magl_y: 0.69,Mag_z: -0.05\\r\\n'\n",
      "Time:5491711,Pitch:5.94,Yaw:88.17,Roll:-177.63,Accel_x: 0.72,Accel_y: 0.69,Accel_z: -0.05,Gyro_x: 0.72,Gyro_y: 0.69,Gyro_z: -0.05,Mag_x: 0.72,Magl_y: 0.69,Mag_z: -0.05\n",
      "\n",
      "got b'Time:5491719,Pitch:5.94,Yaw:88.17,Roll:-177.63,Accel_x: 0.72,Accel_y: 0.69,Accel_z: -0.05,Gyro_x: 0.72,Gyro_y: 0.69,Gyro_z: -0.05,Mag_x: 0.72,Magl_y: 0.69,Mag_z: -0.05\\r\\n'\n",
      "Time:5491719,Pitch:5.94,Yaw:88.17,Roll:-177.63,Accel_x: 0.72,Accel_y: 0.69,Accel_z: -0.05,Gyro_x: 0.72,Gyro_y: 0.69,Gyro_z: -0.05,Mag_x: 0.72,Magl_y: 0.69,Mag_z: -0.05\n",
      "\n",
      "got b'Time:5491726,Pitch:5.94,Yaw:88.17,Roll:-177.63,Accel_x: 0.72,Accel_y: 0.69,Accel_z: -0.05,Gyro_x: 0.72,Gyro_y: 0.69,Gyro_z: -0.05,Mag_x: 0.72,Magl_y: 0.69,Mag_z: -0.05\\r\\n'\n",
      "Time:5491726,Pitch:5.94,Yaw:88.17,Roll:-177.63,Accel_x: 0.72,Accel_y: 0.69,Accel_z: -0.05,Gyro_x: 0.72,Gyro_y: 0.69,Gyro_z: -0.05,Mag_x: 0.72,Magl_y: 0.69,Mag_z: -0.05\n",
      "\n",
      "got b'Time:5491733,Pitch:5.94,Yaw:88.17,Roll:-177.63,Accel_x: 0.72,Accel_y: 0.69,Accel_z: -0.05,Gyro_x: 0.72,Gyro_y: 0.69,Gyro_z: -0.05,Mag_x: 0.72,Magl_y: 0.69,Mag_z: -0.05\\r\\n'\n",
      "Time:5491733,Pitch:5.94,Yaw:88.17,Roll:-177.63,Accel_x: 0.72,Accel_y: 0.69,Accel_z: -0.05,Gyro_x: 0.72,Gyro_y: 0.69,Gyro_z: -0.05,Mag_x: 0.72,Magl_y: 0.69,Mag_z: -0.05\n",
      "\n",
      "got b'Time:5491740,Pitch:5.94,Yaw:88.17,Roll:-177.63,Accel_x: 0.72,Accel_y: 0.69,Accel_z: -0.05,Gyro_x: 0.72,Gyro_y: 0.69,Gyro_z: -0.05,Mag_x: 0.72,Magl_y: 0.69,Mag_z: -0.05\\r\\n'\n",
      "Time:5491740,Pitch:5.94,Yaw:88.17,Roll:-177.63,Accel_x: 0.72,Accel_y: 0.69,Accel_z: -0.05,Gyro_x: 0.72,Gyro_y: 0.69,Gyro_z: -0.05,Mag_x: 0.72,Magl_y: 0.69,Mag_z: -0.05\n",
      "\n",
      "got b'Time:5491747,Pitch:5.94,Yaw:88.17,Roll:-177.63,Accel_x: 0.72,Accel_y: 0.69,Accel_z: -0.05,Gyro_x: 0.72,Gyro_y: 0.69,Gyro_z: -0.05,Mag_x: 0.72,Magl_y: 0.69,Mag_z: -0.05\\r\\n'\n",
      "Time:5491747,Pitch:5.94,Yaw:88.17,Roll:-177.63,Accel_x: 0.72,Accel_y: 0.69,Accel_z: -0.05,Gyro_x: 0.72,Gyro_y: 0.69,Gyro_z: -0.05,Mag_x: 0.72,Magl_y: 0.69,Mag_z: -0.05\n",
      "\n",
      "got b'Time:5491753,Pitch:5.94,Yaw:88.17,Roll:-177.63,Accel_x: 0.72,Accel_y: 0.69,Accel_z: -0.05,Gyro_x: 0.72,Gyro_y: 0.69,Gyro_z: -0.05,Mag_x: 0.72,Magl_y: 0.69,Mag_z: -0.05\\r\\n'\n",
      "Time:5491753,Pitch:5.94,Yaw:88.17,Roll:-177.63,Accel_x: 0.72,Accel_y: 0.69,Accel_z: -0.05,Gyro_x: 0.72,Gyro_y: 0.69,Gyro_z: -0.05,Mag_x: 0.72,Magl_y: 0.69,Mag_z: -0.05\n",
      "\n",
      "got b'Time:5491761,Pitch:5.94,Yaw:88.17,Roll:-177.63,Accel_x: 0.72,Accel_y: 0.69,Accel_z: -0.05,Gyro_x: 0.72,Gyro_y: 0.69,Gyro_z: -0.05,Mag_x: 0.72,Magl_y: 0.69,Mag_z: -0.05\\r\\n'\n",
      "Time:5491761,Pitch:5.94,Yaw:88.17,Roll:-177.63,Accel_x: 0.72,Accel_y: 0.69,Accel_z: -0.05,Gyro_x: 0.72,Gyro_y: 0.69,Gyro_z: -0.05,Mag_x: 0.72,Magl_y: 0.69,Mag_z: -0.05\n",
      "\n",
      "got b'Time:5491767,Pitch:5.94,Yaw:88.17,Roll:-177.63,Accel_x: 0.72,Accel_y: 0.69,Accel_z: -0.05,Gyro_x: 0.72,Gyro_y: 0.69,Gyro_z: -0.05,Mag_x: 0.72,Magl_y: 0.69,Mag_z: -0.05\\r\\n'\n",
      "Time:5491767,Pitch:5.94,Yaw:88.17,Roll:-177.63,Accel_x: 0.72,Accel_y: 0.69,Accel_z: -0.05,Gyro_x: 0.72,Gyro_y: 0.69,Gyro_z: -0.05,Mag_x: 0.72,Magl_y: 0.69,Mag_z: -0.05\n",
      "\n"
     ]
    },
    {
     "name": "stdout",
     "output_type": "stream",
     "text": [
      "got b'Time:5491775,Pitch:5.94,Yaw:88.17,Roll:-177.63,Accel_x: 0.72,Accel_y: 0.69,Accel_z: -0.05,Gyro_x: 0.72,Gyro_y: 0.69,Gyro_z: -0.05,Mag_x: 0.72,Magl_y: 0.69,Mag_z: -0.05\\r\\n'\n",
      "Time:5491775,Pitch:5.94,Yaw:88.17,Roll:-177.63,Accel_x: 0.72,Accel_y: 0.69,Accel_z: -0.05,Gyro_x: 0.72,Gyro_y: 0.69,Gyro_z: -0.05,Mag_x: 0.72,Magl_y: 0.69,Mag_z: -0.05\n",
      "\n",
      "got b'Time:5491782,Pitch:5.94,Yaw:88.17,Roll:-177.63,Accel_x: 0.72,Accel_y: 0.69,Accel_z: -0.05,Gyro_x: 0.72,Gyro_y: 0.69,Gyro_z: -0.05,Mag_x: 0.72,Magl_y: 0.69,Mag_z: -0.05\\r\\n'\n",
      "Time:5491782,Pitch:5.94,Yaw:88.17,Roll:-177.63,Accel_x: 0.72,Accel_y: 0.69,Accel_z: -0.05,Gyro_x: 0.72,Gyro_y: 0.69,Gyro_z: -0.05,Mag_x: 0.72,Magl_y: 0.69,Mag_z: -0.05\n",
      "\n",
      "got b'Time:5491790,Pitch:5.94,Yaw:88.17,Roll:-177.63,Accel_x: 0.72,Accel_y: 0.69,Accel_z: -0.05,Gyro_x: 0.72,Gyro_y: 0.69,Gyro_z: -0.05,Mag_x: 0.72,Magl_y: 0.69,Mag_z: -0.05\\r\\n'\n",
      "Time:5491790,Pitch:5.94,Yaw:88.17,Roll:-177.63,Accel_x: 0.72,Accel_y: 0.69,Accel_z: -0.05,Gyro_x: 0.72,Gyro_y: 0.69,Gyro_z: -0.05,Mag_x: 0.72,Magl_y: 0.69,Mag_z: -0.05\n",
      "\n",
      "got b'Time:5491797,Pitch:5.94,Yaw:88.17,Roll:-177.63,Accel_x: 0.72,Accel_y: 0.69,Accel_z: -0.05,Gyro_x: 0.72,Gyro_y: 0.69,Gyro_z: -0.05,Mag_x: 0.72,Magl_y: 0.69,Mag_z: -0.05\\r\\n'\n",
      "Time:5491797,Pitch:5.94,Yaw:88.17,Roll:-177.63,Accel_x: 0.72,Accel_y: 0.69,Accel_z: -0.05,Gyro_x: 0.72,Gyro_y: 0.69,Gyro_z: -0.05,Mag_x: 0.72,Magl_y: 0.69,Mag_z: -0.05\n",
      "\n",
      "got b'Time:5491805,Pitch:5.94,Yaw:88.17,Roll:-177.63,Accel_x: 0.72,Accel_y: 0.69,Accel_z: -0.05,Gyro_x: 0.72,Gyro_y: 0.69,Gyro_z: -0.05,Mag_x: 0.72,Magl_y: 0.69,Mag_z: -0.05\\r\\n'\n",
      "Time:5491805,Pitch:5.94,Yaw:88.17,Roll:-177.63,Accel_x: 0.72,Accel_y: 0.69,Accel_z: -0.05,Gyro_x: 0.72,Gyro_y: 0.69,Gyro_z: -0.05,Mag_x: 0.72,Magl_y: 0.69,Mag_z: -0.05\n",
      "\n",
      "got b'Time:5491812,Pitch:5.94,Yaw:88.17,Roll:-177.63,Accel_x: 0.72,Accel_y: 0.69,Accel_z: -0.05,Gyro_x: 0.72,Gyro_y: 0.69,Gyro_z: -0.05,Mag_x: 0.72,Magl_y: 0.69,Mag_z: -0.05\\r\\n'\n",
      "Time:5491812,Pitch:5.94,Yaw:88.17,Roll:-177.63,Accel_x: 0.72,Accel_y: 0.69,Accel_z: -0.05,Gyro_x: 0.72,Gyro_y: 0.69,Gyro_z: -0.05,Mag_x: 0.72,Magl_y: 0.69,Mag_z: -0.05\n",
      "\n",
      "got b'Time:5491820,Pitch:5.94,Yaw:88.17,Roll:-177.63,Accel_x: 0.72,Accel_y: 0.69,Accel_z: -0.05,Gyro_x: 0.72,Gyro_y: 0.69,Gyro_z: -0.05,Mag_x: 0.72,Magl_y: 0.69,Mag_z: -0.05\\r\\n'\n",
      "Time:5491820,Pitch:5.94,Yaw:88.17,Roll:-177.63,Accel_x: 0.72,Accel_y: 0.69,Accel_z: -0.05,Gyro_x: 0.72,Gyro_y: 0.69,Gyro_z: -0.05,Mag_x: 0.72,Magl_y: 0.69,Mag_z: -0.05\n",
      "\n",
      "got b'Time:5491826,Pitch:5.94,Yaw:88.17,Roll:-177.63,Accel_x: 0.72,Accel_y: 0.69,Accel_z: -0.05,Gyro_x: 0.72,Gyro_y: 0.69,Gyro_z: -0.05,Mag_x: 0.72,Magl_y: 0.69,Mag_z: -0.05\\r\\n'\n",
      "Time:5491826,Pitch:5.94,Yaw:88.17,Roll:-177.63,Accel_x: 0.72,Accel_y: 0.69,Accel_z: -0.05,Gyro_x: 0.72,Gyro_y: 0.69,Gyro_z: -0.05,Mag_x: 0.72,Magl_y: 0.69,Mag_z: -0.05\n",
      "\n",
      "got b'Time:5491833,Pitch:5.94,Yaw:88.17,Roll:-177.63,Accel_x: 0.72,Accel_y: 0.69,Accel_z: -0.05,Gyro_x: 0.72,Gyro_y: 0.69,Gyro_z: -0.05,Mag_x: 0.72,Magl_y: 0.69,Mag_z: -0.05\\r\\n'\n",
      "Time:5491833,Pitch:5.94,Yaw:88.17,Roll:-177.63,Accel_x: 0.72,Accel_y: 0.69,Accel_z: -0.05,Gyro_x: 0.72,Gyro_y: 0.69,Gyro_z: -0.05,Mag_x: 0.72,Magl_y: 0.69,Mag_z: -0.05\n",
      "\n",
      "got b'Time:5491841,Pitch:5.94,Yaw:88.17,Roll:-177.63,Accel_x: 0.72,Accel_y: 0.69,Accel_z: -0.05,Gyro_x: 0.72,Gyro_y: 0.69,Gyro_z: -0.05,Mag_x: 0.72,Magl_y: 0.69,Mag_z: -0.05\\r\\n'\n",
      "Time:5491841,Pitch:5.94,Yaw:88.17,Roll:-177.63,Accel_x: 0.72,Accel_y: 0.69,Accel_z: -0.05,Gyro_x: 0.72,Gyro_y: 0.69,Gyro_z: -0.05,Mag_x: 0.72,Magl_y: 0.69,Mag_z: -0.05\n",
      "\n",
      "got b'Time:5491847,Pitch:5.94,Yaw:88.17,Roll:-177.63,Accel_x: 0.72,Accel_y: 0.69,Accel_z: -0.05,Gyro_x: 0.72,Gyro_y: 0.69,Gyro_z: -0.05,Mag_x: 0.72,Magl_y: 0.69,Mag_z: -0.05\\r\\n'\n",
      "Time:5491847,Pitch:5.94,Yaw:88.17,Roll:-177.63,Accel_x: 0.72,Accel_y: 0.69,Accel_z: -0.05,Gyro_x: 0.72,Gyro_y: 0.69,Gyro_z: -0.05,Mag_x: 0.72,Magl_y: 0.69,Mag_z: -0.05\n",
      "\n",
      "got b'Time:5491853,Pitch:5.94,Yaw:88.17,Roll:-177.63,Accel_x: 0.72,Accel_y: 0.69,Accel_z: -0.05,Gyro_x: 0.72,Gyro_y: 0.69,Gyro_z: -0.05,Mag_x: 0.72,Magl_y: 0.69,Mag_z: -0.05\\r\\n'\n",
      "Time:5491853,Pitch:5.94,Yaw:88.17,Roll:-177.63,Accel_x: 0.72,Accel_y: 0.69,Accel_z: -0.05,Gyro_x: 0.72,Gyro_y: 0.69,Gyro_z: -0.05,Mag_x: 0.72,Magl_y: 0.69,Mag_z: -0.05\n",
      "\n",
      "got b'Time:5491861,Pitch:5.94,Yaw:88.17,Roll:-177.63,Accel_x: 0.72,Accel_y: 0.69,Accel_z: -0.05,Gyro_x: 0.72,Gyro_y: 0.69,Gyro_z: -0.05,Mag_x: 0.72,Magl_y: 0.69,Mag_z: -0.05\\r\\n'\n",
      "Time:5491861,Pitch:5.94,Yaw:88.17,Roll:-177.63,Accel_x: 0.72,Accel_y: 0.69,Accel_z: -0.05,Gyro_x: 0.72,Gyro_y: 0.69,Gyro_z: -0.05,Mag_x: 0.72,Magl_y: 0.69,Mag_z: -0.05\n",
      "\n",
      "got b'Time:5491867,Pitch:5.94,Yaw:88.17,Roll:-177.63,Accel_x: 0.72,Accel_y: 0.69,Accel_z: -0.05,Gyro_x: 0.72,Gyro_y: 0.69,Gyro_z: -0.05,Mag_x: 0.72,Magl_y: 0.69,Mag_z: -0.05\\r\\n'\n",
      "Time:5491867,Pitch:5.94,Yaw:88.17,Roll:-177.63,Accel_x: 0.72,Accel_y: 0.69,Accel_z: -0.05,Gyro_x: 0.72,Gyro_y: 0.69,Gyro_z: -0.05,Mag_x: 0.72,Magl_y: 0.69,Mag_z: -0.05\n",
      "\n",
      "got b'Time:5491873,Pitch:5.94,Yaw:88.17,Roll:-177.63,Accel_x: 0.72,Accel_y: 0.69,Accel_z: -0.05,Gyro_x: 0.72,Gyro_y: 0.69,Gyro_z: -0.05,Mag_x: 0.72,Magl_y: 0.69,Mag_z: -0.05\\r\\n'\n",
      "Time:5491873,Pitch:5.94,Yaw:88.17,Roll:-177.63,Accel_x: 0.72,Accel_y: 0.69,Accel_z: -0.05,Gyro_x: 0.72,Gyro_y: 0.69,Gyro_z: -0.05,Mag_x: 0.72,Magl_y: 0.69,Mag_z: -0.05\n",
      "\n",
      "got b'Time:5491881,Pitch:5.94,Yaw:88.17,Roll:-177.63,Accel_x: 0.72,Accel_y: 0.69,Accel_z: -0.05,Gyro_x: 0.72,Gyro_y: 0.69,Gyro_z: -0.05,Mag_x: 0.72,Magl_y: 0.69,Mag_z: -0.05\\r\\n'\n",
      "Time:5491881,Pitch:5.94,Yaw:88.17,Roll:-177.63,Accel_x: 0.72,Accel_y: 0.69,Accel_z: -0.05,Gyro_x: 0.72,Gyro_y: 0.69,Gyro_z: -0.05,Mag_x: 0.72,Magl_y: 0.69,Mag_z: -0.05\n",
      "\n",
      "got b'Time:5491887,Pitch:5.94,Yaw:88.17,Roll:-177.63,Accel_x: 0.72,Accel_y: 0.69,Accel_z: -0.05,Gyro_x: 0.72,Gyro_y: 0.69,Gyro_z: -0.05,Mag_x: 0.72,Magl_y: 0.69,Mag_z: -0.05\\r\\n'\n",
      "Time:5491887,Pitch:5.94,Yaw:88.17,Roll:-177.63,Accel_x: 0.72,Accel_y: 0.69,Accel_z: -0.05,Gyro_x: 0.72,Gyro_y: 0.69,Gyro_z: -0.05,Mag_x: 0.72,Magl_y: 0.69,Mag_z: -0.05\n",
      "\n",
      "got b'Time:5491895,Pitch:5.94,Yaw:88.17,Roll:-177.63,Accel_x: 0.72,Accel_y: 0.69,Accel_z: -0.05,Gyro_x: 0.72,Gyro_y: 0.69,Gyro_z: -0.05,Mag_x: 0.72,Magl_y: 0.69,Mag_z: -0.05\\r\\n'\n",
      "Time:5491895,Pitch:5.94,Yaw:88.17,Roll:-177.63,Accel_x: 0.72,Accel_y: 0.69,Accel_z: -0.05,Gyro_x: 0.72,Gyro_y: 0.69,Gyro_z: -0.05,Mag_x: 0.72,Magl_y: 0.69,Mag_z: -0.05\n",
      "\n",
      "got b'Time:5491902,Pitch:5.94,Yaw:88.17,Roll:-177.63,Accel_x: 0.72,Accel_y: 0.69,Accel_z: -0.05,Gyro_x: 0.72,Gyro_y: 0.69,Gyro_z: -0.05,Mag_x: 0.72,Magl_y: 0.69,Mag_z: -0.05\\r\\n'\n",
      "Time:5491902,Pitch:5.94,Yaw:88.17,Roll:-177.63,Accel_x: 0.72,Accel_y: 0.69,Accel_z: -0.05,Gyro_x: 0.72,Gyro_y: 0.69,Gyro_z: -0.05,Mag_x: 0.72,Magl_y: 0.69,Mag_z: -0.05\n",
      "\n",
      "got b'Time:5491909,Pitch:5.94,Yaw:88.17,Roll:-177.63,Accel_x: 0.72,Accel_y: 0.69,Accel_z: -0.05,Gyro_x: 0.72,Gyro_y: 0.69,Gyro_z: -0.05,Mag_x: 0.72,Magl_y: 0.69,Mag_z: -0.05\\r\\n'\n",
      "Time:5491909,Pitch:5.94,Yaw:88.17,Roll:-177.63,Accel_x: 0.72,Accel_y: 0.69,Accel_z: -0.05,Gyro_x: 0.72,Gyro_y: 0.69,Gyro_z: -0.05,Mag_x: 0.72,Magl_y: 0.69,Mag_z: -0.05\n",
      "\n",
      "got b'Time:5491915,Pitch:5.94,Yaw:88.17,Roll:-177.63,Accel_x: 0.72,Accel_y: 0.69,Accel_z: -0.05,Gyro_x: 0.72,Gyro_y: 0.69,Gyro_z: -0.05,Mag_x: 0.72,Magl_y: 0.69,Mag_z: -0.05\\r\\n'\n",
      "Time:5491915,Pitch:5.94,Yaw:88.17,Roll:-177.63,Accel_x: 0.72,Accel_y: 0.69,Accel_z: -0.05,Gyro_x: 0.72,Gyro_y: 0.69,Gyro_z: -0.05,Mag_x: 0.72,Magl_y: 0.69,Mag_z: -0.05\n",
      "\n",
      "got b'Time:5491922,Pitch:5.94,Yaw:88.17,Roll:-177.63,Accel_x: 0.72,Accel_y: 0.69,Accel_z: -0.05,Gyro_x: 0.72,Gyro_y: 0.69,Gyro_z: -0.05,Mag_x: 0.72,Magl_y: 0.69,Mag_z: -0.05\\r\\n'\n",
      "Time:5491922,Pitch:5.94,Yaw:88.17,Roll:-177.63,Accel_x: 0.72,Accel_y: 0.69,Accel_z: -0.05,Gyro_x: 0.72,Gyro_y: 0.69,Gyro_z: -0.05,Mag_x: 0.72,Magl_y: 0.69,Mag_z: -0.05\n",
      "\n",
      "got b'Time:5491929,Pitch:5.94,Yaw:88.17,Roll:-177.63,Accel_x: 0.72,Accel_y: 0.69,Accel_z: -0.05,Gyro_x: 0.72,Gyro_y: 0.69,Gyro_z: -0.05,Mag_x: 0.72,Magl_y: 0.69,Mag_z: -0.05\\r\\n'\n",
      "Time:5491929,Pitch:5.94,Yaw:88.17,Roll:-177.63,Accel_x: 0.72,Accel_y: 0.69,Accel_z: -0.05,Gyro_x: 0.72,Gyro_y: 0.69,Gyro_z: -0.05,Mag_x: 0.72,Magl_y: 0.69,Mag_z: -0.05\n",
      "\n",
      "got b'Time:5491936,Pitch:5.94,Yaw:88.17,Roll:-177.63,Accel_x: 0.72,Accel_y: 0.69,Accel_z: -0.05,Gyro_x: 0.72,Gyro_y: 0.69,Gyro_z: -0.05,Mag_x: 0.72,Magl_y: 0.69,Mag_z: -0.05\\r\\n'\n",
      "Time:5491936,Pitch:5.94,Yaw:88.17,Roll:-177.63,Accel_x: 0.72,Accel_y: 0.69,Accel_z: -0.05,Gyro_x: 0.72,Gyro_y: 0.69,Gyro_z: -0.05,Mag_x: 0.72,Magl_y: 0.69,Mag_z: -0.05\n"
     ]
    },
    {
     "name": "stdout",
     "output_type": "stream",
     "text": [
      "\n",
      "got b'Time:5491943,Pitch:5.94,Yaw:88.17,Roll:-177.63,Accel_x: 0.72,Accel_y: 0.69,Accel_z: -0.05,Gyro_x: 0.72,Gyro_y: 0.69,Gyro_z: -0.05,Mag_x: 0.72,Magl_y: 0.69,Mag_z: -0.05\\r\\n'\n",
      "Time:5491943,Pitch:5.94,Yaw:88.17,Roll:-177.63,Accel_x: 0.72,Accel_y: 0.69,Accel_z: -0.05,Gyro_x: 0.72,Gyro_y: 0.69,Gyro_z: -0.05,Mag_x: 0.72,Magl_y: 0.69,Mag_z: -0.05\n",
      "\n",
      "got b'Time:5491950,Pitch:5.94,Yaw:88.17,Roll:-177.63,Accel_x: 0.72,Accel_y: 0.69,Accel_z: -0.05,Gyro_x: 0.72,Gyro_y: 0.69,Gyro_z: -0.05,Mag_x: 0.72,Magl_y: 0.69,Mag_z: -0.05\\r\\n'\n",
      "Time:5491950,Pitch:5.94,Yaw:88.17,Roll:-177.63,Accel_x: 0.72,Accel_y: 0.69,Accel_z: -0.05,Gyro_x: 0.72,Gyro_y: 0.69,Gyro_z: -0.05,Mag_x: 0.72,Magl_y: 0.69,Mag_z: -0.05\n",
      "\n",
      "got b'Time:5491957,Pitch:5.94,Yaw:88.17,Roll:-177.63,Accel_x: 0.72,Accel_y: 0.69,Accel_z: -0.05,Gyro_x: 0.72,Gyro_y: 0.69,Gyro_z: -0.05,Mag_x: 0.72,Magl_y: 0.69,Mag_z: -0.05\\r\\n'\n",
      "Time:5491957,Pitch:5.94,Yaw:88.17,Roll:-177.63,Accel_x: 0.72,Accel_y: 0.69,Accel_z: -0.05,Gyro_x: 0.72,Gyro_y: 0.69,Gyro_z: -0.05,Mag_x: 0.72,Magl_y: 0.69,Mag_z: -0.05\n",
      "\n",
      "got b'Time:5491965,Pitch:5.94,Yaw:88.17,Roll:-177.63,Accel_x: 0.72,Accel_y: 0.69,Accel_z: -0.05,Gyro_x: 0.72,Gyro_y: 0.69,Gyro_z: -0.05,Mag_x: 0.72,Magl_y: 0.69,Mag_z: -0.05\\r\\n'\n",
      "Time:5491965,Pitch:5.94,Yaw:88.17,Roll:-177.63,Accel_x: 0.72,Accel_y: 0.69,Accel_z: -0.05,Gyro_x: 0.72,Gyro_y: 0.69,Gyro_z: -0.05,Mag_x: 0.72,Magl_y: 0.69,Mag_z: -0.05\n",
      "\n",
      "got b'Time:5491972,Pitch:5.94,Yaw:88.17,Roll:-177.63,Accel_x: 0.72,Accel_y: 0.69,Accel_z: -0.05,Gyro_x: 0.72,Gyro_y: 0.69,Gyro_z: -0.05,Mag_x: 0.72,Magl_y: 0.69,Mag_z: -0.05\\r\\n'\n",
      "Time:5491972,Pitch:5.94,Yaw:88.17,Roll:-177.63,Accel_x: 0.72,Accel_y: 0.69,Accel_z: -0.05,Gyro_x: 0.72,Gyro_y: 0.69,Gyro_z: -0.05,Mag_x: 0.72,Magl_y: 0.69,Mag_z: -0.05\n",
      "\n",
      "got b'Time:5491980,Pitch:5.94,Yaw:88.17,Roll:-177.63,Accel_x: 0.72,Accel_y: 0.69,Accel_z: -0.05,Gyro_x: 0.72,Gyro_y: 0.69,Gyro_z: -0.05,Mag_x: 0.72,Magl_y: 0.69,Mag_z: -0.05\\r\\n'\n",
      "Time:5491980,Pitch:5.94,Yaw:88.17,Roll:-177.63,Accel_x: 0.72,Accel_y: 0.69,Accel_z: -0.05,Gyro_x: 0.72,Gyro_y: 0.69,Gyro_z: -0.05,Mag_x: 0.72,Magl_y: 0.69,Mag_z: -0.05\n",
      "\n",
      "got b'Time:5491986,Pitch:5.94,Yaw:88.17,Roll:-177.63,Accel_x: 0.72,Accel_y: 0.69,Accel_z: -0.05,Gyro_x: 0.72,Gyro_y: 0.69,Gyro_z: -0.05,Mag_x: 0.72,Magl_y: 0.69,Mag_z: -0.05\\r\\n'\n",
      "Time:5491986,Pitch:5.94,Yaw:88.17,Roll:-177.63,Accel_x: 0.72,Accel_y: 0.69,Accel_z: -0.05,Gyro_x: 0.72,Gyro_y: 0.69,Gyro_z: -0.05,Mag_x: 0.72,Magl_y: 0.69,Mag_z: -0.05\n",
      "\n",
      "got b'Time:5491993,Pitch:5.94,Yaw:88.17,Roll:-177.63,Accel_x: 0.72,Accel_y: 0.69,Accel_z: -0.05,Gyro_x: 0.72,Gyro_y: 0.69,Gyro_z: -0.05,Mag_x: 0.72,Magl_y: 0.69,Mag_z: -0.05\\r\\n'\n",
      "Time:5491993,Pitch:5.94,Yaw:88.17,Roll:-177.63,Accel_x: 0.72,Accel_y: 0.69,Accel_z: -0.05,Gyro_x: 0.72,Gyro_y: 0.69,Gyro_z: -0.05,Mag_x: 0.72,Magl_y: 0.69,Mag_z: -0.05\n",
      "\n",
      "got b'Time:5492001,Pitch:5.94,Yaw:88.17,Roll:-177.63,Accel_x: 0.72,Accel_y: 0.69,Accel_z: -0.05,Gyro_x: 0.72,Gyro_y: 0.69,Gyro_z: -0.05,Mag_x: 0.72,Magl_y: 0.69,Mag_z: -0.05\\r\\n'\n",
      "Time:5492001,Pitch:5.94,Yaw:88.17,Roll:-177.63,Accel_x: 0.72,Accel_y: 0.69,Accel_z: -0.05,Gyro_x: 0.72,Gyro_y: 0.69,Gyro_z: -0.05,Mag_x: 0.72,Magl_y: 0.69,Mag_z: -0.05\n",
      "\n",
      "got b'Time:5492007,Pitch:5.94,Yaw:88.17,Roll:-177.63,Accel_x: 0.72,Accel_y: 0.69,Accel_z: -0.05,Gyro_x: 0.72,Gyro_y: 0.69,Gyro_z: -0.05,Mag_x: 0.72,Magl_y: 0.69,Mag_z: -0.05\\r\\n'\n",
      "Time:5492007,Pitch:5.94,Yaw:88.17,Roll:-177.63,Accel_x: 0.72,Accel_y: 0.69,Accel_z: -0.05,Gyro_x: 0.72,Gyro_y: 0.69,Gyro_z: -0.05,Mag_x: 0.72,Magl_y: 0.69,Mag_z: -0.05\n",
      "\n",
      "got b'Time:5492013,Pitch:5.94,Yaw:88.17,Roll:-177.63,Accel_x: 0.72,Accel_y: 0.69,Accel_z: -0.05,Gyro_x: 0.72,Gyro_y: 0.69,Gyro_z: -0.05,Mag_x: 0.72,Magl_y: 0.69,Mag_z: -0.05\\r\\n'\n",
      "Time:5492013,Pitch:5.94,Yaw:88.17,Roll:-177.63,Accel_x: 0.72,Accel_y: 0.69,Accel_z: -0.05,Gyro_x: 0.72,Gyro_y: 0.69,Gyro_z: -0.05,Mag_x: 0.72,Magl_y: 0.69,Mag_z: -0.05\n",
      "\n",
      "got b'Time:5492021,Pitch:5.94,Yaw:88.17,Roll:-177.63,Accel_x: 0.72,Accel_y: 0.69,Accel_z: -0.05,Gyro_x: 0.72,Gyro_y: 0.69,Gyro_z: -0.05,Mag_x: 0.72,Magl_y: 0.69,Mag_z: -0.05\\r\\n'\n",
      "Time:5492021,Pitch:5.94,Yaw:88.17,Roll:-177.63,Accel_x: 0.72,Accel_y: 0.69,Accel_z: -0.05,Gyro_x: 0.72,Gyro_y: 0.69,Gyro_z: -0.05,Mag_x: 0.72,Magl_y: 0.69,Mag_z: -0.05\n",
      "\n",
      "got b'Time:5492028,Pitch:5.94,Yaw:88.17,Roll:-177.63,Accel_x: 0.72,Accel_y: 0.69,Accel_z: -0.05,Gyro_x: 0.72,Gyro_y: 0.69,Gyro_z: -0.05,Mag_x: 0.72,Magl_y: 0.69,Mag_z: -0.05\\r\\n'\n",
      "Time:5492028,Pitch:5.94,Yaw:88.17,Roll:-177.63,Accel_x: 0.72,Accel_y: 0.69,Accel_z: -0.05,Gyro_x: 0.72,Gyro_y: 0.69,Gyro_z: -0.05,Mag_x: 0.72,Magl_y: 0.69,Mag_z: -0.05\n",
      "\n",
      "got b'Time:5492035,Pitch:5.94,Yaw:88.17,Roll:-177.63,Accel_x: 0.72,Accel_y: 0.69,Accel_z: -0.05,Gyro_x: 0.72,Gyro_y: 0.69,Gyro_z: -0.05,Mag_x: 0.72,Magl_y: 0.69,Mag_z: -0.05\\r\\n'\n",
      "Time:5492035,Pitch:5.94,Yaw:88.17,Roll:-177.63,Accel_x: 0.72,Accel_y: 0.69,Accel_z: -0.05,Gyro_x: 0.72,Gyro_y: 0.69,Gyro_z: -0.05,Mag_x: 0.72,Magl_y: 0.69,Mag_z: -0.05\n",
      "\n",
      "got b'Time:5492042,Pitch:5.94,Yaw:88.17,Roll:-177.63,Accel_x: 0.72,Accel_y: 0.69,Accel_z: -0.05,Gyro_x: 0.72,Gyro_y: 0.69,Gyro_z: -0.05,Mag_x: 0.72,Magl_y: 0.69,Mag_z: -0.05\\r\\n'\n",
      "Time:5492042,Pitch:5.94,Yaw:88.17,Roll:-177.63,Accel_x: 0.72,Accel_y: 0.69,Accel_z: -0.05,Gyro_x: 0.72,Gyro_y: 0.69,Gyro_z: -0.05,Mag_x: 0.72,Magl_y: 0.69,Mag_z: -0.05\n",
      "\n",
      "got b'Time:5492050,Pitch:5.94,Yaw:88.17,Roll:-177.63,Accel_x: 0.72,Accel_y: 0.69,Accel_z: -0.05,Gyro_x: 0.72,Gyro_y: 0.69,Gyro_z: -0.05,Mag_x: 0.72,Magl_y: 0.69,Mag_z: -0.05\\r\\n'\n",
      "Time:5492050,Pitch:5.94,Yaw:88.17,Roll:-177.63,Accel_x: 0.72,Accel_y: 0.69,Accel_z: -0.05,Gyro_x: 0.72,Gyro_y: 0.69,Gyro_z: -0.05,Mag_x: 0.72,Magl_y: 0.69,Mag_z: -0.05\n",
      "\n",
      "got b'Time:5492057,Pitch:5.94,Yaw:88.17,Roll:-177.63,Accel_x: 0.72,Accel_y: 0.69,Accel_z: -0.05,Gyro_x: 0.72,Gyro_y: 0.69,Gyro_z: -0.05,Mag_x: 0.72,Magl_y: 0.69,Mag_z: -0.05\\r\\n'\n",
      "Time:5492057,Pitch:5.94,Yaw:88.17,Roll:-177.63,Accel_x: 0.72,Accel_y: 0.69,Accel_z: -0.05,Gyro_x: 0.72,Gyro_y: 0.69,Gyro_z: -0.05,Mag_x: 0.72,Magl_y: 0.69,Mag_z: -0.05\n",
      "\n",
      "got b'Time:5492063,Pitch:5.94,Yaw:88.17,Roll:-177.63,Accel_x: 0.72,Accel_y: 0.69,Accel_z: -0.05,Gyro_x: 0.72,Gyro_y: 0.69,Gyro_z: -0.05,Mag_x: 0.72,Magl_y: 0.69,Mag_z: -0.05\\r\\n'\n",
      "Time:5492063,Pitch:5.94,Yaw:88.17,Roll:-177.63,Accel_x: 0.72,Accel_y: 0.69,Accel_z: -0.05,Gyro_x: 0.72,Gyro_y: 0.69,Gyro_z: -0.05,Mag_x: 0.72,Magl_y: 0.69,Mag_z: -0.05\n",
      "\n",
      "got b'Time:5492071,Pitch:5.94,Yaw:88.17,Roll:-177.63,Accel_x: 0.72,Accel_y: 0.69,Accel_z: -0.05,Gyro_x: 0.72,Gyro_y: 0.69,Gyro_z: -0.05,Mag_x: 0.72,Magl_y: 0.69,Mag_z: -0.05\\r\\n'\n",
      "Time:5492071,Pitch:5.94,Yaw:88.17,Roll:-177.63,Accel_x: 0.72,Accel_y: 0.69,Accel_z: -0.05,Gyro_x: 0.72,Gyro_y: 0.69,Gyro_z: -0.05,Mag_x: 0.72,Magl_y: 0.69,Mag_z: -0.05\n",
      "\n",
      "got b'Time:5492078,Pitch:5.94,Yaw:88.17,Roll:-177.63,Accel_x: 0.72,Accel_y: 0.69,Accel_z: -0.05,Gyro_x: 0.72,Gyro_y: 0.69,Gyro_z: -0.05,Mag_x: 0.72,Magl_y: 0.69,Mag_z: -0.05\\r\\n'\n",
      "Time:5492078,Pitch:5.94,Yaw:88.17,Roll:-177.63,Accel_x: 0.72,Accel_y: 0.69,Accel_z: -0.05,Gyro_x: 0.72,Gyro_y: 0.69,Gyro_z: -0.05,Mag_x: 0.72,Magl_y: 0.69,Mag_z: -0.05\n",
      "\n",
      "got b'Time:5492085,Pitch:5.94,Yaw:88.17,Roll:-177.63,Accel_x: 0.72,Accel_y: 0.69,Accel_z: -0.05,Gyro_x: 0.72,Gyro_y: 0.69,Gyro_z: -0.05,Mag_x: 0.72,Magl_y: 0.69,Mag_z: -0.05\\r\\n'\n",
      "Time:5492085,Pitch:5.94,Yaw:88.17,Roll:-177.63,Accel_x: 0.72,Accel_y: 0.69,Accel_z: -0.05,Gyro_x: 0.72,Gyro_y: 0.69,Gyro_z: -0.05,Mag_x: 0.72,Magl_y: 0.69,Mag_z: -0.05\n",
      "\n",
      "got b'Time:5492092,Pitch:5.94,Yaw:88.17,Roll:-177.63,Accel_x: 0.72,Accel_y: 0.69,Accel_z: -0.05,Gyro_x: 0.72,Gyro_y: 0.69,Gyro_z: -0.05,Mag_x: 0.72,Magl_y: 0.69,Mag_z: -0.05\\r\\n'\n",
      "Time:5492092,Pitch:5.94,Yaw:88.17,Roll:-177.63,Accel_x: 0.72,Accel_y: 0.69,Accel_z: -0.05,Gyro_x: 0.72,Gyro_y: 0.69,Gyro_z: -0.05,Mag_x: 0.72,Magl_y: 0.69,Mag_z: -0.05\n",
      "\n",
      "got b'Time:5492100,Pitch:5.94,Yaw:88.17,Roll:-177.63,Accel_x: 0.72,Accel_y: 0.69,Accel_z: -0.05,Gyro_x: 0.72,Gyro_y: 0.69,Gyro_z: -0.05,Mag_x: 0.72,Magl_y: 0.69,Mag_z: -0.05\\r\\n'\n",
      "Time:5492100,Pitch:5.94,Yaw:88.17,Roll:-177.63,Accel_x: 0.72,Accel_y: 0.69,Accel_z: -0.05,Gyro_x: 0.72,Gyro_y: 0.69,Gyro_z: -0.05,Mag_x: 0.72,Magl_y: 0.69,Mag_z: -0.05\n",
      "\n",
      "got b'Time:5492106,Pitch:5.94,Yaw:88.17,Roll:-177.63,Accel_x: 0.72,Accel_y: 0.69,Accel_z: -0.05,Gyro_x: 0.72,Gyro_y: 0.69,Gyro_z: -0.05,Mag_x: 0.72,Magl_y: 0.69,Mag_z: -0.05\\r\\n'\n",
      "Time:5492106,Pitch:5.94,Yaw:88.17,Roll:-177.63,Accel_x: 0.72,Accel_y: 0.69,Accel_z: -0.05,Gyro_x: 0.72,Gyro_y: 0.69,Gyro_z: -0.05,Mag_x: 0.72,Magl_y: 0.69,Mag_z: -0.05\n"
     ]
    },
    {
     "name": "stdout",
     "output_type": "stream",
     "text": [
      "\n",
      "got b'Time:5492112,Pitch:5.94,Yaw:88.17,Roll:-177.63,Accel_x: 0.72,Accel_y: 0.69,Accel_z: -0.05,Gyro_x: 0.72,Gyro_y: 0.69,Gyro_z: -0.05,Mag_x: 0.72,Magl_y: 0.69,Mag_z: -0.05\\r\\n'\n",
      "Time:5492112,Pitch:5.94,Yaw:88.17,Roll:-177.63,Accel_x: 0.72,Accel_y: 0.69,Accel_z: -0.05,Gyro_x: 0.72,Gyro_y: 0.69,Gyro_z: -0.05,Mag_x: 0.72,Magl_y: 0.69,Mag_z: -0.05\n",
      "\n",
      "got b'Time:5492120,Pitch:5.94,Yaw:88.17,Roll:-177.63,Accel_x: 0.72,Accel_y: 0.69,Accel_z: -0.05,Gyro_x: 0.72,Gyro_y: 0.69,Gyro_z: -0.05,Mag_x: 0.72,Magl_y: 0.69,Mag_z: -0.05\\r\\n'\n",
      "Time:5492120,Pitch:5.94,Yaw:88.17,Roll:-177.63,Accel_x: 0.72,Accel_y: 0.69,Accel_z: -0.05,Gyro_x: 0.72,Gyro_y: 0.69,Gyro_z: -0.05,Mag_x: 0.72,Magl_y: 0.69,Mag_z: -0.05\n",
      "\n",
      "got b'Time:5492128,Pitch:5.94,Yaw:88.17,Roll:-177.63,Accel_x: 0.72,Accel_y: 0.69,Accel_z: -0.05,Gyro_x: 0.72,Gyro_y: 0.69,Gyro_z: -0.05,Mag_x: 0.72,Magl_y: 0.69,Mag_z: -0.05\\r\\n'\n",
      "Time:5492128,Pitch:5.94,Yaw:88.17,Roll:-177.63,Accel_x: 0.72,Accel_y: 0.69,Accel_z: -0.05,Gyro_x: 0.72,Gyro_y: 0.69,Gyro_z: -0.05,Mag_x: 0.72,Magl_y: 0.69,Mag_z: -0.05\n",
      "\n",
      "got b'Time:5492134,Pitch:5.94,Yaw:88.17,Roll:-177.63,Accel_x: 0.72,Accel_y: 0.69,Accel_z: -0.05,Gyro_x: 0.72,Gyro_y: 0.69,Gyro_z: -0.05,Mag_x: 0.72,Magl_y: 0.69,Mag_z: -0.05\\r\\n'\n",
      "Time:5492134,Pitch:5.94,Yaw:88.17,Roll:-177.63,Accel_x: 0.72,Accel_y: 0.69,Accel_z: -0.05,Gyro_x: 0.72,Gyro_y: 0.69,Gyro_z: -0.05,Mag_x: 0.72,Magl_y: 0.69,Mag_z: -0.05\n",
      "\n",
      "got b'Time:5492140,Pitch:5.94,Yaw:88.17,Roll:-177.63,Accel_x: 0.72,Accel_y: 0.69,Accel_z: -0.05,Gyro_x: 0.72,Gyro_y: 0.69,Gyro_z: -0.05,Mag_x: 0.72,Magl_y: 0.69,Mag_z: -0.05\\r\\n'\n",
      "Time:5492140,Pitch:5.94,Yaw:88.17,Roll:-177.63,Accel_x: 0.72,Accel_y: 0.69,Accel_z: -0.05,Gyro_x: 0.72,Gyro_y: 0.69,Gyro_z: -0.05,Mag_x: 0.72,Magl_y: 0.69,Mag_z: -0.05\n",
      "\n",
      "got b'Time:5492147,Pitch:5.94,Yaw:88.17,Roll:-177.63,Accel_x: 0.72,Accel_y: 0.69,Accel_z: -0.05,Gyro_x: 0.72,Gyro_y: 0.69,Gyro_z: -0.05,Mag_x: 0.72,Magl_y: 0.69,Mag_z: -0.05\\r\\n'\n",
      "Time:5492147,Pitch:5.94,Yaw:88.17,Roll:-177.63,Accel_x: 0.72,Accel_y: 0.69,Accel_z: -0.05,Gyro_x: 0.72,Gyro_y: 0.69,Gyro_z: -0.05,Mag_x: 0.72,Magl_y: 0.69,Mag_z: -0.05\n",
      "\n",
      "got b'Time:5492154,Pitch:5.94,Yaw:88.17,Roll:-177.63,Accel_x: 0.72,Accel_y: 0.69,Accel_z: -0.05,Gyro_x: 0.72,Gyro_y: 0.69,Gyro_z: -0.05,Mag_x: 0.72,Magl_y: 0.69,Mag_z: -0.05\\r\\n'\n",
      "Time:5492154,Pitch:5.94,Yaw:88.17,Roll:-177.63,Accel_x: 0.72,Accel_y: 0.69,Accel_z: -0.05,Gyro_x: 0.72,Gyro_y: 0.69,Gyro_z: -0.05,Mag_x: 0.72,Magl_y: 0.69,Mag_z: -0.05\n",
      "\n",
      "got b'Time:5492161,Pitch:5.94,Yaw:88.17,Roll:-177.63,Accel_x: 0.72,Accel_y: 0.69,Accel_z: -0.05,Gyro_x: 0.72,Gyro_y: 0.69,Gyro_z: -0.05,Mag_x: 0.72,Magl_y: 0.69,Mag_z: -0.05\\r\\n'\n",
      "Time:5492161,Pitch:5.94,Yaw:88.17,Roll:-177.63,Accel_x: 0.72,Accel_y: 0.69,Accel_z: -0.05,Gyro_x: 0.72,Gyro_y: 0.69,Gyro_z: -0.05,Mag_x: 0.72,Magl_y: 0.69,Mag_z: -0.05\n",
      "\n",
      "got b'Time:5492168,Pitch:5.94,Yaw:88.17,Roll:-177.63,Accel_x: 0.72,Accel_y: 0.69,Accel_z: -0.05,Gyro_x: 0.72,Gyro_y: 0.69,Gyro_z: -0.05,Mag_x: 0.72,Magl_y: 0.69,Mag_z: -0.05\\r\\n'\n",
      "Time:5492168,Pitch:5.94,Yaw:88.17,Roll:-177.63,Accel_x: 0.72,Accel_y: 0.69,Accel_z: -0.05,Gyro_x: 0.72,Gyro_y: 0.69,Gyro_z: -0.05,Mag_x: 0.72,Magl_y: 0.69,Mag_z: -0.05\n",
      "\n",
      "got b'Time:5492174,Pitch:5.94,Yaw:88.17,Roll:-177.63,Accel_x: 0.72,Accel_y: 0.69,Accel_z: -0.05,Gyro_x: 0.72,Gyro_y: 0.69,Gyro_z: -0.05,Mag_x: 0.72,Magl_y: 0.69,Mag_z: -0.05\\r\\n'\n",
      "Time:5492174,Pitch:5.94,Yaw:88.17,Roll:-177.63,Accel_x: 0.72,Accel_y: 0.69,Accel_z: -0.05,Gyro_x: 0.72,Gyro_y: 0.69,Gyro_z: -0.05,Mag_x: 0.72,Magl_y: 0.69,Mag_z: -0.05\n",
      "\n",
      "got b'Time:5492182,Pitch:5.94,Yaw:88.17,Roll:-177.63,Accel_x: 0.72,Accel_y: 0.69,Accel_z: -0.05,Gyro_x: 0.72,Gyro_y: 0.69,Gyro_z: -0.05,Mag_x: 0.72,Magl_y: 0.69,Mag_z: -0.05\\r\\n'\n",
      "Time:5492182,Pitch:5.94,Yaw:88.17,Roll:-177.63,Accel_x: 0.72,Accel_y: 0.69,Accel_z: -0.05,Gyro_x: 0.72,Gyro_y: 0.69,Gyro_z: -0.05,Mag_x: 0.72,Magl_y: 0.69,Mag_z: -0.05\n",
      "\n",
      "got b'Time:5492188,Pitch:5.94,Yaw:88.17,Roll:-177.63,Accel_x: 0.72,Accel_y: 0.69,Accel_z: -0.05,Gyro_x: 0.72,Gyro_y: 0.69,Gyro_z: -0.05,Mag_x: 0.72,Magl_y: 0.69,Mag_z: -0.05\\r\\n'\n",
      "Time:5492188,Pitch:5.94,Yaw:88.17,Roll:-177.63,Accel_x: 0.72,Accel_y: 0.69,Accel_z: -0.05,Gyro_x: 0.72,Gyro_y: 0.69,Gyro_z: -0.05,Mag_x: 0.72,Magl_y: 0.69,Mag_z: -0.05\n",
      "\n",
      "got b'Time:5492194,Pitch:5.94,Yaw:88.17,Roll:-177.63,Accel_x: 0.72,Accel_y: 0.69,Accel_z: -0.05,Gyro_x: 0.72,Gyro_y: 0.69,Gyro_z: -0.05,Mag_x: 0.72,Magl_y: 0.69,Mag_z: -0.05\\r\\n'\n",
      "Time:5492194,Pitch:5.94,Yaw:88.17,Roll:-177.63,Accel_x: 0.72,Accel_y: 0.69,Accel_z: -0.05,Gyro_x: 0.72,Gyro_y: 0.69,Gyro_z: -0.05,Mag_x: 0.72,Magl_y: 0.69,Mag_z: -0.05\n",
      "\n",
      "got b'Time:5492202,Pitch:5.94,Yaw:88.17,Roll:-177.63,Accel_x: 0.72,Accel_y: 0.69,Accel_z: -0.05,Gyro_x: 0.72,Gyro_y: 0.69,Gyro_z: -0.05,Mag_x: 0.72,Magl_y: 0.69,Mag_z: -0.05\\r\\n'\n",
      "Time:5492202,Pitch:5.94,Yaw:88.17,Roll:-177.63,Accel_x: 0.72,Accel_y: 0.69,Accel_z: -0.05,Gyro_x: 0.72,Gyro_y: 0.69,Gyro_z: -0.05,Mag_x: 0.72,Magl_y: 0.69,Mag_z: -0.05\n",
      "\n",
      "got b'Time:5492208,Pitch:5.94,Yaw:88.17,Roll:-177.63,Accel_x: 0.72,Accel_y: 0.69,Accel_z: -0.05,Gyro_x: 0.72,Gyro_y: 0.69,Gyro_z: -0.05,Mag_x: 0.72,Magl_y: 0.69,Mag_z: -0.05\\r\\n'\n",
      "Time:5492208,Pitch:5.94,Yaw:88.17,Roll:-177.63,Accel_x: 0.72,Accel_y: 0.69,Accel_z: -0.05,Gyro_x: 0.72,Gyro_y: 0.69,Gyro_z: -0.05,Mag_x: 0.72,Magl_y: 0.69,Mag_z: -0.05\n",
      "\n",
      "got b'Time:5492215,Pitch:5.94,Yaw:88.17,Roll:-177.63,Accel_x: 0.72,Accel_y: 0.69,Accel_z: -0.05,Gyro_x: 0.72,Gyro_y: 0.69,Gyro_z: -0.05,Mag_x: 0.72,Magl_y: 0.69,Mag_z: -0.05\\r\\n'\n",
      "Time:5492215,Pitch:5.94,Yaw:88.17,Roll:-177.63,Accel_x: 0.72,Accel_y: 0.69,Accel_z: -0.05,Gyro_x: 0.72,Gyro_y: 0.69,Gyro_z: -0.05,Mag_x: 0.72,Magl_y: 0.69,Mag_z: -0.05\n",
      "\n",
      "got b'Time:5492222,Pitch:5.94,Yaw:88.17,Roll:-177.63,Accel_x: 0.72,Accel_y: 0.69,Accel_z: -0.05,Gyro_x: 0.72,Gyro_y: 0.69,Gyro_z: -0.05,Mag_x: 0.72,Magl_y: 0.69,Mag_z: -0.05\\r\\n'\n",
      "Time:5492222,Pitch:5.94,Yaw:88.17,Roll:-177.63,Accel_x: 0.72,Accel_y: 0.69,Accel_z: -0.05,Gyro_x: 0.72,Gyro_y: 0.69,Gyro_z: -0.05,Mag_x: 0.72,Magl_y: 0.69,Mag_z: -0.05\n",
      "\n",
      "got b'Time:5492229,Pitch:5.94,Yaw:88.17,Roll:-177.63,Accel_x: 0.72,Accel_y: 0.69,Accel_z: -0.05,Gyro_x: 0.72,Gyro_y: 0.69,Gyro_z: -0.05,Mag_x: 0.72,Magl_y: 0.69,Mag_z: -0.05\\r\\n'\n",
      "Time:5492229,Pitch:5.94,Yaw:88.17,Roll:-177.63,Accel_x: 0.72,Accel_y: 0.69,Accel_z: -0.05,Gyro_x: 0.72,Gyro_y: 0.69,Gyro_z: -0.05,Mag_x: 0.72,Magl_y: 0.69,Mag_z: -0.05\n",
      "\n",
      "got b'Time:5492236,Pitch:5.94,Yaw:88.17,Roll:-177.63,Accel_x: 0.72,Accel_y: 0.69,Accel_z: -0.05,Gyro_x: 0.72,Gyro_y: 0.69,Gyro_z: -0.05,Mag_x: 0.72,Magl_y: 0.69,Mag_z: -0.05\\r\\n'\n",
      "Time:5492236,Pitch:5.94,Yaw:88.17,Roll:-177.63,Accel_x: 0.72,Accel_y: 0.69,Accel_z: -0.05,Gyro_x: 0.72,Gyro_y: 0.69,Gyro_z: -0.05,Mag_x: 0.72,Magl_y: 0.69,Mag_z: -0.05\n",
      "\n",
      "got b'Time:5492243,Pitch:5.94,Yaw:88.17,Roll:-177.63,Accel_x: 0.72,Accel_y: 0.69,Accel_z: -0.05,Gyro_x: 0.72,Gyro_y: 0.69,Gyro_z: -0.05,Mag_x: 0.72,Magl_y: 0.69,Mag_z: -0.05\\r\\n'\n",
      "Time:5492243,Pitch:5.94,Yaw:88.17,Roll:-177.63,Accel_x: 0.72,Accel_y: 0.69,Accel_z: -0.05,Gyro_x: 0.72,Gyro_y: 0.69,Gyro_z: -0.05,Mag_x: 0.72,Magl_y: 0.69,Mag_z: -0.05\n",
      "\n",
      "got b'Time:5492250,Pitch:5.94,Yaw:88.17,Roll:-177.63,Accel_x: 0.72,Accel_y: 0.69,Accel_z: -0.05,Gyro_x: 0.72,Gyro_y: 0.69,Gyro_z: -0.05,Mag_x: 0.72,Magl_y: 0.69,Mag_z: -0.05\\r\\n'\n",
      "Time:5492250,Pitch:5.94,Yaw:88.17,Roll:-177.63,Accel_x: 0.72,Accel_y: 0.69,Accel_z: -0.05,Gyro_x: 0.72,Gyro_y: 0.69,Gyro_z: -0.05,Mag_x: 0.72,Magl_y: 0.69,Mag_z: -0.05\n",
      "\n",
      "got b'Time:5492257,Pitch:5.94,Yaw:88.17,Roll:-177.63,Accel_x: 0.72,Accel_y: 0.69,Accel_z: -0.05,Gyro_x: 0.72,Gyro_y: 0.69,Gyro_z: -0.05,Mag_x: 0.72,Magl_y: 0.69,Mag_z: -0.05\\r\\n'\n",
      "Time:5492257,Pitch:5.94,Yaw:88.17,Roll:-177.63,Accel_x: 0.72,Accel_y: 0.69,Accel_z: -0.05,Gyro_x: 0.72,Gyro_y: 0.69,Gyro_z: -0.05,Mag_x: 0.72,Magl_y: 0.69,Mag_z: -0.05\n",
      "\n",
      "got b'Time:5492264,Pitch:5.94,Yaw:88.17,Roll:-177.63,Accel_x: 0.72,Accel_y: 0.69,Accel_z: -0.05,Gyro_x: 0.72,Gyro_y: 0.69,Gyro_z: -0.05,Mag_x: 0.72,Magl_y: 0.69,Mag_z: -0.05\\r\\n'\n",
      "Time:5492264,Pitch:5.94,Yaw:88.17,Roll:-177.63,Accel_x: 0.72,Accel_y: 0.69,Accel_z: -0.05,Gyro_x: 0.72,Gyro_y: 0.69,Gyro_z: -0.05,Mag_x: 0.72,Magl_y: 0.69,Mag_z: -0.05\n",
      "\n",
      "got b'Time:5492271,Pitch:5.94,Yaw:88.17,Roll:-177.63,Accel_x: 0.72,Accel_y: 0.69,Accel_z: -0.05,Gyro_x: 0.72,Gyro_y: 0.69,Gyro_z: -0.05,Mag_x: 0.72,Magl_y: 0.69,Mag_z: -0.05\\r\\n'\n",
      "Time:5492271,Pitch:5.94,Yaw:88.17,Roll:-177.63,Accel_x: 0.72,Accel_y: 0.69,Accel_z: -0.05,Gyro_x: 0.72,Gyro_y: 0.69,Gyro_z: -0.05,Mag_x: 0.72,Magl_y: 0.69,Mag_z: -0.05\n"
     ]
    },
    {
     "name": "stdout",
     "output_type": "stream",
     "text": [
      "\n",
      "got b'Time:5492278,Pitch:5.94,Yaw:88.17,Roll:-177.63,Accel_x: 0.72,Accel_y: 0.69,Accel_z: -0.05,Gyro_x: 0.72,Gyro_y: 0.69,Gyro_z: -0.05,Mag_x: 0.72,Magl_y: 0.69,Mag_z: -0.05\\r\\n'\n",
      "Time:5492278,Pitch:5.94,Yaw:88.17,Roll:-177.63,Accel_x: 0.72,Accel_y: 0.69,Accel_z: -0.05,Gyro_x: 0.72,Gyro_y: 0.69,Gyro_z: -0.05,Mag_x: 0.72,Magl_y: 0.69,Mag_z: -0.05\n",
      "\n",
      "got b'Time:5492286,Pitch:5.94,Yaw:88.17,Roll:-177.63,Accel_x: 0.72,Accel_y: 0.69,Accel_z: -0.05,Gyro_x: 0.72,Gyro_y: 0.69,Gyro_z: -0.05,Mag_x: 0.72,Magl_y: 0.69,Mag_z: -0.05\\r\\n'\n",
      "Time:5492286,Pitch:5.94,Yaw:88.17,Roll:-177.63,Accel_x: 0.72,Accel_y: 0.69,Accel_z: -0.05,Gyro_x: 0.72,Gyro_y: 0.69,Gyro_z: -0.05,Mag_x: 0.72,Magl_y: 0.69,Mag_z: -0.05\n",
      "\n",
      "got b'Time:5492293,Pitch:5.94,Yaw:88.17,Roll:-177.63,Accel_x: 0.72,Accel_y: 0.69,Accel_z: -0.05,Gyro_x: 0.72,Gyro_y: 0.69,Gyro_z: -0.05,Mag_x: 0.72,Magl_y: 0.69,Mag_z: -0.05\\r\\n'\n",
      "Time:5492293,Pitch:5.94,Yaw:88.17,Roll:-177.63,Accel_x: 0.72,Accel_y: 0.69,Accel_z: -0.05,Gyro_x: 0.72,Gyro_y: 0.69,Gyro_z: -0.05,Mag_x: 0.72,Magl_y: 0.69,Mag_z: -0.05\n",
      "\n",
      "got b'Time:5492301,Pitch:5.94,Yaw:88.17,Roll:-177.63,Accel_x: 0.72,Accel_y: 0.69,Accel_z: -0.05,Gyro_x: 0.72,Gyro_y: 0.69,Gyro_z: -0.05,Mag_x: 0.72,Magl_y: 0.69,Mag_z: -0.05\\r\\n'\n",
      "Time:5492301,Pitch:5.94,Yaw:88.17,Roll:-177.63,Accel_x: 0.72,Accel_y: 0.69,Accel_z: -0.05,Gyro_x: 0.72,Gyro_y: 0.69,Gyro_z: -0.05,Mag_x: 0.72,Magl_y: 0.69,Mag_z: -0.05\n",
      "\n",
      "got b'Time:5492308,Pitch:5.94,Yaw:88.17,Roll:-177.63,Accel_x: 0.72,Accel_y: 0.69,Accel_z: -0.05,Gyro_x: 0.72,Gyro_y: 0.69,Gyro_z: -0.05,Mag_x: 0.72,Magl_y: 0.69,Mag_z: -0.05\\r\\n'\n",
      "Time:5492308,Pitch:5.94,Yaw:88.17,Roll:-177.63,Accel_x: 0.72,Accel_y: 0.69,Accel_z: -0.05,Gyro_x: 0.72,Gyro_y: 0.69,Gyro_z: -0.05,Mag_x: 0.72,Magl_y: 0.69,Mag_z: -0.05\n",
      "\n",
      "got b'Time:5492316,Pitch:5.94,Yaw:88.17,Roll:-177.63,Accel_x: 0.72,Accel_y: 0.69,Accel_z: -0.05,Gyro_x: 0.72,Gyro_y: 0.69,Gyro_z: -0.05,Mag_x: 0.72,Magl_y: 0.69,Mag_z: -0.05\\r\\n'\n",
      "Time:5492316,Pitch:5.94,Yaw:88.17,Roll:-177.63,Accel_x: 0.72,Accel_y: 0.69,Accel_z: -0.05,Gyro_x: 0.72,Gyro_y: 0.69,Gyro_z: -0.05,Mag_x: 0.72,Magl_y: 0.69,Mag_z: -0.05\n",
      "\n",
      "got b'Time:5492322,Pitch:5.94,Yaw:88.17,Roll:-177.63,Accel_x: 0.72,Accel_y: 0.69,Accel_z: -0.05,Gyro_x: 0.72,Gyro_y: 0.69,Gyro_z: -0.05,Mag_x: 0.72,Magl_y: 0.69,Mag_z: -0.05\\r\\n'\n",
      "Time:5492322,Pitch:5.94,Yaw:88.17,Roll:-177.63,Accel_x: 0.72,Accel_y: 0.69,Accel_z: -0.05,Gyro_x: 0.72,Gyro_y: 0.69,Gyro_z: -0.05,Mag_x: 0.72,Magl_y: 0.69,Mag_z: -0.05\n",
      "\n",
      "got b'Time:5492329,Pitch:5.94,Yaw:88.17,Roll:-177.63,Accel_x: 0.72,Accel_y: 0.69,Accel_z: -0.05,Gyro_x: 0.72,Gyro_y: 0.69,Gyro_z: -0.05,Mag_x: 0.72,Magl_y: 0.69,Mag_z: -0.05\\r\\n'\n",
      "Time:5492329,Pitch:5.94,Yaw:88.17,Roll:-177.63,Accel_x: 0.72,Accel_y: 0.69,Accel_z: -0.05,Gyro_x: 0.72,Gyro_y: 0.69,Gyro_z: -0.05,Mag_x: 0.72,Magl_y: 0.69,Mag_z: -0.05\n",
      "\n",
      "got b'Time:5492336,Pitch:5.94,Yaw:88.17,Roll:-177.63,Accel_x: 0.72,Accel_y: 0.69,Accel_z: -0.05,Gyro_x: 0.72,Gyro_y: 0.69,Gyro_z: -0.05,Mag_x: 0.72,Magl_y: 0.69,Mag_z: -0.05\\r\\n'\n",
      "Time:5492336,Pitch:5.94,Yaw:88.17,Roll:-177.63,Accel_x: 0.72,Accel_y: 0.69,Accel_z: -0.05,Gyro_x: 0.72,Gyro_y: 0.69,Gyro_z: -0.05,Mag_x: 0.72,Magl_y: 0.69,Mag_z: -0.05\n",
      "\n",
      "got b'Time:5492343,Pitch:5.94,Yaw:88.17,Roll:-177.63,Accel_x: 0.72,Accel_y: 0.69,Accel_z: -0.05,Gyro_x: 0.72,Gyro_y: 0.69,Gyro_z: -0.05,Mag_x: 0.72,Magl_y: 0.69,Mag_z: -0.05\\r\\n'\n",
      "Time:5492343,Pitch:5.94,Yaw:88.17,Roll:-177.63,Accel_x: 0.72,Accel_y: 0.69,Accel_z: -0.05,Gyro_x: 0.72,Gyro_y: 0.69,Gyro_z: -0.05,Mag_x: 0.72,Magl_y: 0.69,Mag_z: -0.05\n",
      "\n",
      "got b'Time:5492351,Pitch:5.94,Yaw:88.17,Roll:-177.63,Accel_x: 0.72,Accel_y: 0.69,Accel_z: -0.05,Gyro_x: 0.72,Gyro_y: 0.69,Gyro_z: -0.05,Mag_x: 0.72,Magl_y: 0.69,Mag_z: -0.05\\r\\n'\n",
      "Time:5492351,Pitch:5.94,Yaw:88.17,Roll:-177.63,Accel_x: 0.72,Accel_y: 0.69,Accel_z: -0.05,Gyro_x: 0.72,Gyro_y: 0.69,Gyro_z: -0.05,Mag_x: 0.72,Magl_y: 0.69,Mag_z: -0.05\n",
      "\n",
      "got b'Time:5492358,Pitch:5.94,Yaw:88.17,Roll:-177.63,Accel_x: 0.72,Accel_y: 0.69,Accel_z: -0.05,Gyro_x: 0.72,Gyro_y: 0.69,Gyro_z: -0.05,Mag_x: 0.72,Magl_y: 0.69,Mag_z: -0.05\\r\\n'\n",
      "Time:5492358,Pitch:5.94,Yaw:88.17,Roll:-177.63,Accel_x: 0.72,Accel_y: 0.69,Accel_z: -0.05,Gyro_x: 0.72,Gyro_y: 0.69,Gyro_z: -0.05,Mag_x: 0.72,Magl_y: 0.69,Mag_z: -0.05\n",
      "\n",
      "got b'Time:5492365,Pitch:5.94,Yaw:88.17,Roll:-177.63,Accel_x: 0.72,Accel_y: 0.69,Accel_z: -0.05,Gyro_x: 0.72,Gyro_y: 0.69,Gyro_z: -0.05,Mag_x: 0.72,Magl_y: 0.69,Mag_z: -0.05\\r\\n'\n",
      "Time:5492365,Pitch:5.94,Yaw:88.17,Roll:-177.63,Accel_x: 0.72,Accel_y: 0.69,Accel_z: -0.05,Gyro_x: 0.72,Gyro_y: 0.69,Gyro_z: -0.05,Mag_x: 0.72,Magl_y: 0.69,Mag_z: -0.05\n",
      "\n",
      "got b'Time:5492372,Pitch:5.94,Yaw:88.17,Roll:-177.63,Accel_x: 0.72,Accel_y: 0.69,Accel_z: -0.05,Gyro_x: 0.72,Gyro_y: 0.69,Gyro_z: -0.05,Mag_x: 0.72,Magl_y: 0.69,Mag_z: -0.05\\r\\n'\n",
      "Time:5492372,Pitch:5.94,Yaw:88.17,Roll:-177.63,Accel_x: 0.72,Accel_y: 0.69,Accel_z: -0.05,Gyro_x: 0.72,Gyro_y: 0.69,Gyro_z: -0.05,Mag_x: 0.72,Magl_y: 0.69,Mag_z: -0.05\n",
      "\n",
      "got b'Time:5492379,Pitch:5.94,Yaw:88.17,Roll:-177.63,Accel_x: 0.72,Accel_y: 0.69,Accel_z: -0.05,Gyro_x: 0.72,Gyro_y: 0.69,Gyro_z: -0.05,Mag_x: 0.72,Magl_y: 0.69,Mag_z: -0.05\\r\\n'\n",
      "Time:5492379,Pitch:5.94,Yaw:88.17,Roll:-177.63,Accel_x: 0.72,Accel_y: 0.69,Accel_z: -0.05,Gyro_x: 0.72,Gyro_y: 0.69,Gyro_z: -0.05,Mag_x: 0.72,Magl_y: 0.69,Mag_z: -0.05\n",
      "\n",
      "got b'Time:5492387,Pitch:5.94,Yaw:88.17,Roll:-177.63,Accel_x: 0.72,Accel_y: 0.69,Accel_z: -0.05,Gyro_x: 0.72,Gyro_y: 0.69,Gyro_z: -0.05,Mag_x: 0.72,Magl_y: 0.69,Mag_z: -0.05\\r\\n'\n",
      "Time:5492387,Pitch:5.94,Yaw:88.17,Roll:-177.63,Accel_x: 0.72,Accel_y: 0.69,Accel_z: -0.05,Gyro_x: 0.72,Gyro_y: 0.69,Gyro_z: -0.05,Mag_x: 0.72,Magl_y: 0.69,Mag_z: -0.05\n",
      "\n",
      "got b'Time:5492393,Pitch:5.94,Yaw:88.17,Roll:-177.63,Accel_x: 0.72,Accel_y: 0.69,Accel_z: -0.05,Gyro_x: 0.72,Gyro_y: 0.69,Gyro_z: -0.05,Mag_x: 0.72,Magl_y: 0.69,Mag_z: -0.05\\r\\n'\n",
      "Time:5492393,Pitch:5.94,Yaw:88.17,Roll:-177.63,Accel_x: 0.72,Accel_y: 0.69,Accel_z: -0.05,Gyro_x: 0.72,Gyro_y: 0.69,Gyro_z: -0.05,Mag_x: 0.72,Magl_y: 0.69,Mag_z: -0.05\n",
      "\n",
      "got b'Time:5492401,Pitch:5.94,Yaw:88.17,Roll:-177.63,Accel_x: 0.72,Accel_y: 0.69,Accel_z: -0.05,Gyro_x: 0.72,Gyro_y: 0.69,Gyro_z: -0.05,Mag_x: 0.72,Magl_y: 0.69,Mag_z: -0.05\\r\\n'\n",
      "Time:5492401,Pitch:5.94,Yaw:88.17,Roll:-177.63,Accel_x: 0.72,Accel_y: 0.69,Accel_z: -0.05,Gyro_x: 0.72,Gyro_y: 0.69,Gyro_z: -0.05,Mag_x: 0.72,Magl_y: 0.69,Mag_z: -0.05\n",
      "\n",
      "got b'Time:5492408,Pitch:5.94,Yaw:88.17,Roll:-177.63,Accel_x: 0.72,Accel_y: 0.69,Accel_z: -0.05,Gyro_x: 0.72,Gyro_y: 0.69,Gyro_z: -0.05,Mag_x: 0.72,Magl_y: 0.69,Mag_z: -0.05\\r\\n'\n",
      "Time:5492408,Pitch:5.94,Yaw:88.17,Roll:-177.63,Accel_x: 0.72,Accel_y: 0.69,Accel_z: -0.05,Gyro_x: 0.72,Gyro_y: 0.69,Gyro_z: -0.05,Mag_x: 0.72,Magl_y: 0.69,Mag_z: -0.05\n",
      "\n",
      "got b'Time:5492414,Pitch:5.94,Yaw:88.17,Roll:-177.63,Accel_x: 0.72,Accel_y: 0.69,Accel_z: -0.05,Gyro_x: 0.72,Gyro_y: 0.69,Gyro_z: -0.05,Mag_x: 0.72,Magl_y: 0.69,Mag_z: -0.05\\r\\n'\n",
      "Time:5492414,Pitch:5.94,Yaw:88.17,Roll:-177.63,Accel_x: 0.72,Accel_y: 0.69,Accel_z: -0.05,Gyro_x: 0.72,Gyro_y: 0.69,Gyro_z: -0.05,Mag_x: 0.72,Magl_y: 0.69,Mag_z: -0.05\n",
      "\n",
      "got b'Time:5492421,Pitch:5.94,Yaw:88.17,Roll:-177.63,Accel_x: 0.72,Accel_y: 0.69,Accel_z: -0.05,Gyro_x: 0.72,Gyro_y: 0.69,Gyro_z: -0.05,Mag_x: 0.72,Magl_y: 0.69,Mag_z: -0.05\\r\\n'\n",
      "Time:5492421,Pitch:5.94,Yaw:88.17,Roll:-177.63,Accel_x: 0.72,Accel_y: 0.69,Accel_z: -0.05,Gyro_x: 0.72,Gyro_y: 0.69,Gyro_z: -0.05,Mag_x: 0.72,Magl_y: 0.69,Mag_z: -0.05\n",
      "\n",
      "got b'Time:5492428,Pitch:5.94,Yaw:88.17,Roll:-177.63,Accel_x: 0.72,Accel_y: 0.69,Accel_z: -0.05,Gyro_x: 0.72,Gyro_y: 0.69,Gyro_z: -0.05,Mag_x: 0.72,Magl_y: 0.69,Mag_z: -0.05\\r\\n'\n",
      "Time:5492428,Pitch:5.94,Yaw:88.17,Roll:-177.63,Accel_x: 0.72,Accel_y: 0.69,Accel_z: -0.05,Gyro_x: 0.72,Gyro_y: 0.69,Gyro_z: -0.05,Mag_x: 0.72,Magl_y: 0.69,Mag_z: -0.05\n",
      "\n",
      "got b'Time:5492434,Pitch:5.94,Yaw:88.17,Roll:-177.63,Accel_x: 0.72,Accel_y: 0.69,Accel_z: -0.05,Gyro_x: 0.72,Gyro_y: 0.69,Gyro_z: -0.05,Mag_x: 0.72,Magl_y: 0.69,Mag_z: -0.05\\r\\n'\n",
      "Time:5492434,Pitch:5.94,Yaw:88.17,Roll:-177.63,Accel_x: 0.72,Accel_y: 0.69,Accel_z: -0.05,Gyro_x: 0.72,Gyro_y: 0.69,Gyro_z: -0.05,Mag_x: 0.72,Magl_y: 0.69,Mag_z: -0.05\n",
      "\n",
      "got b'Time:5492442,Pitch:5.94,Yaw:88.17,Roll:-177.63,Accel_x: 0.72,Accel_y: 0.69,Accel_z: -0.05,Gyro_x: 0.72,Gyro_y: 0.69,Gyro_z: -0.05,Mag_x: 0.72,Magl_y: 0.69,Mag_z: -0.05\\r\\n'\n",
      "Time:5492442,Pitch:5.94,Yaw:88.17,Roll:-177.63,Accel_x: 0.72,Accel_y: 0.69,Accel_z: -0.05,Gyro_x: 0.72,Gyro_y: 0.69,Gyro_z: -0.05,Mag_x: 0.72,Magl_y: 0.69,Mag_z: -0.05\n"
     ]
    },
    {
     "name": "stdout",
     "output_type": "stream",
     "text": [
      "\n",
      "got b'Time:5492449,Pitch:5.94,Yaw:88.17,Roll:-177.63,Accel_x: 0.72,Accel_y: 0.69,Accel_z: -0.05,Gyro_x: 0.72,Gyro_y: 0.69,Gyro_z: -0.05,Mag_x: 0.72,Magl_y: 0.69,Mag_z: -0.05\\r\\n'\n",
      "Time:5492449,Pitch:5.94,Yaw:88.17,Roll:-177.63,Accel_x: 0.72,Accel_y: 0.69,Accel_z: -0.05,Gyro_x: 0.72,Gyro_y: 0.69,Gyro_z: -0.05,Mag_x: 0.72,Magl_y: 0.69,Mag_z: -0.05\n",
      "\n",
      "got b'Time:5492456,Pitch:5.94,Yaw:88.17,Roll:-177.63,Accel_x: 0.72,Accel_y: 0.69,Accel_z: -0.05,Gyro_x: 0.72,Gyro_y: 0.69,Gyro_z: -0.05,Mag_x: 0.72,Magl_y: 0.69,Mag_z: -0.05\\r\\n'\n",
      "Time:5492456,Pitch:5.94,Yaw:88.17,Roll:-177.63,Accel_x: 0.72,Accel_y: 0.69,Accel_z: -0.05,Gyro_x: 0.72,Gyro_y: 0.69,Gyro_z: -0.05,Mag_x: 0.72,Magl_y: 0.69,Mag_z: -0.05\n",
      "\n",
      "got b'Time:5492464,Pitch:5.94,Yaw:88.17,Roll:-177.63,Accel_x: 0.72,Accel_y: 0.69,Accel_z: -0.05,Gyro_x: 0.72,Gyro_y: 0.69,Gyro_z: -0.05,Mag_x: 0.72,Magl_y: 0.69,Mag_z: -0.05\\r\\n'\n",
      "Time:5492464,Pitch:5.94,Yaw:88.17,Roll:-177.63,Accel_x: 0.72,Accel_y: 0.69,Accel_z: -0.05,Gyro_x: 0.72,Gyro_y: 0.69,Gyro_z: -0.05,Mag_x: 0.72,Magl_y: 0.69,Mag_z: -0.05\n",
      "\n",
      "got b'Time:5492471,Pitch:5.94,Yaw:88.17,Roll:-177.63,Accel_x: 0.72,Accel_y: 0.69,Accel_z: -0.05,Gyro_x: 0.72,Gyro_y: 0.69,Gyro_z: -0.05,Mag_x: 0.72,Magl_y: 0.69,Mag_z: -0.05\\r\\n'\n",
      "Time:5492471,Pitch:5.94,Yaw:88.17,Roll:-177.63,Accel_x: 0.72,Accel_y: 0.69,Accel_z: -0.05,Gyro_x: 0.72,Gyro_y: 0.69,Gyro_z: -0.05,Mag_x: 0.72,Magl_y: 0.69,Mag_z: -0.05\n",
      "\n",
      "got b'Time:5492478,Pitch:5.94,Yaw:88.17,Roll:-177.63,Accel_x: 0.72,Accel_y: 0.69,Accel_z: -0.05,Gyro_x: 0.72,Gyro_y: 0.69,Gyro_z: -0.05,Mag_x: 0.72,Magl_y: 0.69,Mag_z: -0.05\\r\\n'\n",
      "Time:5492478,Pitch:5.94,Yaw:88.17,Roll:-177.63,Accel_x: 0.72,Accel_y: 0.69,Accel_z: -0.05,Gyro_x: 0.72,Gyro_y: 0.69,Gyro_z: -0.05,Mag_x: 0.72,Magl_y: 0.69,Mag_z: -0.05\n",
      "\n",
      "got b'Time:5492486,Pitch:5.94,Yaw:88.17,Roll:-177.63,Accel_x: 0.72,Accel_y: 0.69,Accel_z: -0.05,Gyro_x: 0.72,Gyro_y: 0.69,Gyro_z: -0.05,Mag_x: 0.72,Magl_y: 0.69,Mag_z: -0.05\\r\\n'\n",
      "Time:5492486,Pitch:5.94,Yaw:88.17,Roll:-177.63,Accel_x: 0.72,Accel_y: 0.69,Accel_z: -0.05,Gyro_x: 0.72,Gyro_y: 0.69,Gyro_z: -0.05,Mag_x: 0.72,Magl_y: 0.69,Mag_z: -0.05\n",
      "\n",
      "got b'Time:5492493,Pitch:5.94,Yaw:88.17,Roll:-177.63,Accel_x: 0.72,Accel_y: 0.69,Accel_z: -0.05,Gyro_x: 0.72,Gyro_y: 0.69,Gyro_z: -0.05,Mag_x: 0.72,Magl_y: 0.69,Mag_z: -0.05\\r\\n'\n",
      "Time:5492493,Pitch:5.94,Yaw:88.17,Roll:-177.63,Accel_x: 0.72,Accel_y: 0.69,Accel_z: -0.05,Gyro_x: 0.72,Gyro_y: 0.69,Gyro_z: -0.05,Mag_x: 0.72,Magl_y: 0.69,Mag_z: -0.05\n"
     ]
    }
   ],
   "source": [
    "arduino_proc.start()"
   ]
  },
  {
   "cell_type": "code",
   "execution_count": 23,
   "id": "49723b6d",
   "metadata": {
    "scrolled": true
   },
   "outputs": [
    {
     "name": "stdout",
     "output_type": "stream",
     "text": [
      "stride_processor starting...\n",
      "decoded:  {',Gyro_x': '0.72', 'Gyro_y': '0.69', 'Gyro_z': '-0.05', 'Mag_x': '0.72', 'Magl_y': '0.69'}\n",
      "decoded:  {'Time': '5491612', 'Pitch': '5.94', 'Yaw': '88.17', 'Roll': '-177.63', 'Accel_x': '0.72', 'Accel_y': '0.69', 'Accel_z': '-0.05', 'Gyro_x': '0.72', 'Gyro_y': '0.69', 'Gyro_z': '-0.05', 'Mag_x': '0.72', 'Magl_y': '0.69'}\n",
      "decoded:  {'Time': '5491619', 'Pitch': '5.94', 'Yaw': '88.17', 'Roll': '-177.63', 'Accel_x': '0.72', 'Accel_y': '0.69', 'Accel_z': '-0.05', 'Gyro_x': '0.72', 'Gyro_y': '0.69', 'Gyro_z': '-0.05', 'Mag_x': '0.72', 'Magl_y': '0.69'}\n",
      "decoded:  {'Time': '5491626', 'Pitch': '5.94', 'Yaw': '88.17', 'Roll': '-177.63', 'Accel_x': '0.72', 'Accel_y': '0.69', 'Accel_z': '-0.05', 'Gyro_x': '0.72', 'Gyro_y': '0.69', 'Gyro_z': '-0.05', 'Mag_x': '0.72', 'Magl_y': '0.69'}\n",
      "decoded:  {'Time': '5491632', 'Pitch': '5.94', 'Yaw': '88.17', 'Roll': '-177.63', 'Accel_x': '0.72', 'Accel_y': '0.69', 'Accel_z': '-0.05', 'Gyro_x': '0.72', 'Gyro_y': '0.69', 'Gyro_z': '-0.05', 'Mag_x': '0.72', 'Magl_y': '0.69'}\n",
      "decoded:  {'Time': '5491640', 'Pitch': '5.94', 'Yaw': '88.17', 'Roll': '-177.63', 'Accel_x': '0.72', 'Accel_y': '0.69', 'Accel_z': '-0.05', 'Gyro_x': '0.72', 'Gyro_y': '0.69', 'Gyro_z': '-0.05', 'Mag_x': '0.72', 'Magl_y': '0.69'}\n",
      "decoded:  {'Time': '5491647', 'Pitch': '5.94', 'Yaw': '88.17', 'Roll': '-177.63', 'Accel_x': '0.72', 'Accel_y': '0.69', 'Accel_z': '-0.05', 'Gyro_x': '0.72', 'Gyro_y': '0.69', 'Gyro_z': '-0.05', 'Mag_x': '0.72', 'Magl_y': '0.69'}\n",
      "finished writing this one stride, size:  6\n",
      "decoded:  {'Time': '5491654', 'Pitch': '5.94', 'Yaw': '88.17', 'Roll': '-177.63', 'Accel_x': '0.72', 'Accel_y': '0.69', 'Accel_z': '-0.05', 'Gyro_x': '0.72', 'Gyro_y': '0.69', 'Gyro_z': '-0.05', 'Mag_x': '0.72', 'Magl_y': '0.69'}\n",
      "decoded:  {'Time': '5491662', 'Pitch': '5.94', 'Yaw': '88.17', 'Roll': '-177.63', 'Accel_x': '0.72', 'Accel_y': '0.69', 'Accel_z': '-0.05', 'Gyro_x': '0.72', 'Gyro_y': '0.69', 'Gyro_z': '-0.05', 'Mag_x': '0.72', 'Magl_y': '0.69'}\n",
      "decoded:  {'Time': '5491669', 'Pitch': '5.94', 'Yaw': '88.17', 'Roll': '-177.63', 'Accel_x': '0.72', 'Accel_y': '0.69', 'Accel_z': '-0.05', 'Gyro_x': '0.72', 'Gyro_y': '0.69', 'Gyro_z': '-0.05', 'Mag_x': '0.72', 'Magl_y': '0.69'}\n",
      "decoded:  {'Time': '5491676', 'Pitch': '5.94', 'Yaw': '88.17', 'Roll': '-177.63', 'Accel_x': '0.72', 'Accel_y': '0.69', 'Accel_z': '-0.05', 'Gyro_x': '0.72', 'Gyro_y': '0.69', 'Gyro_z': '-0.05', 'Mag_x': '0.72', 'Magl_y': '0.69'}\n",
      "decoded:  {'Time': '5491682', 'Pitch': '5.94', 'Yaw': '88.17', 'Roll': '-177.63', 'Accel_x': '0.72', 'Accel_y': '0.69', 'Accel_z': '-0.05', 'Gyro_x': '0.72', 'Gyro_y': '0.69', 'Gyro_z': '-0.05', 'Mag_x': '0.72', 'Magl_y': '0.69'}\n",
      "decoded:  {'Time': '5491690', 'Pitch': '5.94', 'Yaw': '88.17', 'Roll': '-177.63', 'Accel_x': '0.72', 'Accel_y': '0.69', 'Accel_z': '-0.05', 'Gyro_x': '0.72', 'Gyro_y': '0.69', 'Gyro_z': '-0.05', 'Mag_x': '0.72', 'Magl_y': '0.69'}\n",
      "decoded:  {'Time': '5491697', 'Pitch': '5.94', 'Yaw': '88.17', 'Roll': '-177.63', 'Accel_x': '0.72', 'Accel_y': '0.69', 'Accel_z': '-0.05', 'Gyro_x': '0.72', 'Gyro_y': '0.69', 'Gyro_z': '-0.05', 'Mag_x': '0.72', 'Magl_y': '0.69'}\n",
      "finished writing this one stride, size:  6\n",
      "decoded:  {'Time': '5491704', 'Pitch': '5.94', 'Yaw': '88.17', 'Roll': '-177.63', 'Accel_x': '0.72', 'Accel_y': '0.69', 'Accel_z': '-0.05', 'Gyro_x': '0.72', 'Gyro_y': '0.69', 'Gyro_z': '-0.05', 'Mag_x': '0.72', 'Magl_y': '0.69'}\n",
      "decoded:  {'Time': '5491711', 'Pitch': '5.94', 'Yaw': '88.17', 'Roll': '-177.63', 'Accel_x': '0.72', 'Accel_y': '0.69', 'Accel_z': '-0.05', 'Gyro_x': '0.72', 'Gyro_y': '0.69', 'Gyro_z': '-0.05', 'Mag_x': '0.72', 'Magl_y': '0.69'}\n",
      "decoded:  {'Time': '5491719', 'Pitch': '5.94', 'Yaw': '88.17', 'Roll': '-177.63', 'Accel_x': '0.72', 'Accel_y': '0.69', 'Accel_z': '-0.05', 'Gyro_x': '0.72', 'Gyro_y': '0.69', 'Gyro_z': '-0.05', 'Mag_x': '0.72', 'Magl_y': '0.69'}\n",
      "decoded:  {'Time': '5491726', 'Pitch': '5.94', 'Yaw': '88.17', 'Roll': '-177.63', 'Accel_x': '0.72', 'Accel_y': '0.69', 'Accel_z': '-0.05', 'Gyro_x': '0.72', 'Gyro_y': '0.69', 'Gyro_z': '-0.05', 'Mag_x': '0.72', 'Magl_y': '0.69'}\n",
      "decoded:  {'Time': '5491733', 'Pitch': '5.94', 'Yaw': '88.17', 'Roll': '-177.63', 'Accel_x': '0.72', 'Accel_y': '0.69', 'Accel_z': '-0.05', 'Gyro_x': '0.72', 'Gyro_y': '0.69', 'Gyro_z': '-0.05', 'Mag_x': '0.72', 'Magl_y': '0.69'}\n",
      "decoded:  {'Time': '5491740', 'Pitch': '5.94', 'Yaw': '88.17', 'Roll': '-177.63', 'Accel_x': '0.72', 'Accel_y': '0.69', 'Accel_z': '-0.05', 'Gyro_x': '0.72', 'Gyro_y': '0.69', 'Gyro_z': '-0.05', 'Mag_x': '0.72', 'Magl_y': '0.69'}\n",
      "decoded:  {'Time': '5491747', 'Pitch': '5.94', 'Yaw': '88.17', 'Roll': '-177.63', 'Accel_x': '0.72', 'Accel_y': '0.69', 'Accel_z': '-0.05', 'Gyro_x': '0.72', 'Gyro_y': '0.69', 'Gyro_z': '-0.05', 'Mag_x': '0.72', 'Magl_y': '0.69'}\n",
      "finished writing this one stride, size:  6\n",
      "decoded:  {'Time': '5491753', 'Pitch': '5.94', 'Yaw': '88.17', 'Roll': '-177.63', 'Accel_x': '0.72', 'Accel_y': '0.69', 'Accel_z': '-0.05', 'Gyro_x': '0.72', 'Gyro_y': '0.69', 'Gyro_z': '-0.05', 'Mag_x': '0.72', 'Magl_y': '0.69'}\n",
      "decoded:  {'Time': '5491761', 'Pitch': '5.94', 'Yaw': '88.17', 'Roll': '-177.63', 'Accel_x': '0.72', 'Accel_y': '0.69', 'Accel_z': '-0.05', 'Gyro_x': '0.72', 'Gyro_y': '0.69', 'Gyro_z': '-0.05', 'Mag_x': '0.72', 'Magl_y': '0.69'}\n",
      "decoded:  {'Time': '5491767', 'Pitch': '5.94', 'Yaw': '88.17', 'Roll': '-177.63', 'Accel_x': '0.72', 'Accel_y': '0.69', 'Accel_z': '-0.05', 'Gyro_x': '0.72', 'Gyro_y': '0.69', 'Gyro_z': '-0.05', 'Mag_x': '0.72', 'Magl_y': '0.69'}\n",
      "decoded:  {'Time': '5491775', 'Pitch': '5.94', 'Yaw': '88.17', 'Roll': '-177.63', 'Accel_x': '0.72', 'Accel_y': '0.69', 'Accel_z': '-0.05', 'Gyro_x': '0.72', 'Gyro_y': '0.69', 'Gyro_z': '-0.05', 'Mag_x': '0.72', 'Magl_y': '0.69'}\n",
      "decoded:  {'Time': '5491782', 'Pitch': '5.94', 'Yaw': '88.17', 'Roll': '-177.63', 'Accel_x': '0.72', 'Accel_y': '0.69', 'Accel_z': '-0.05', 'Gyro_x': '0.72', 'Gyro_y': '0.69', 'Gyro_z': '-0.05', 'Mag_x': '0.72', 'Magl_y': '0.69'}\n",
      "decoded:  {'Time': '5491790', 'Pitch': '5.94', 'Yaw': '88.17', 'Roll': '-177.63', 'Accel_x': '0.72', 'Accel_y': '0.69', 'Accel_z': '-0.05', 'Gyro_x': '0.72', 'Gyro_y': '0.69', 'Gyro_z': '-0.05', 'Mag_x': '0.72', 'Magl_y': '0.69'}\n",
      "decoded:  {'Time': '5491797', 'Pitch': '5.94', 'Yaw': '88.17', 'Roll': '-177.63', 'Accel_x': '0.72', 'Accel_y': '0.69', 'Accel_z': '-0.05', 'Gyro_x': '0.72', 'Gyro_y': '0.69', 'Gyro_z': '-0.05', 'Mag_x': '0.72', 'Magl_y': '0.69'}\n",
      "finished writing this one stride, size:  6\n",
      "decoded:  {'Time': '5491805', 'Pitch': '5.94', 'Yaw': '88.17', 'Roll': '-177.63', 'Accel_x': '0.72', 'Accel_y': '0.69', 'Accel_z': '-0.05', 'Gyro_x': '0.72', 'Gyro_y': '0.69', 'Gyro_z': '-0.05', 'Mag_x': '0.72', 'Magl_y': '0.69'}\n",
      "decoded:  {'Time': '5491812', 'Pitch': '5.94', 'Yaw': '88.17', 'Roll': '-177.63', 'Accel_x': '0.72', 'Accel_y': '0.69', 'Accel_z': '-0.05', 'Gyro_x': '0.72', 'Gyro_y': '0.69', 'Gyro_z': '-0.05', 'Mag_x': '0.72', 'Magl_y': '0.69'}\n",
      "decoded:  {'Time': '5491820', 'Pitch': '5.94', 'Yaw': '88.17', 'Roll': '-177.63', 'Accel_x': '0.72', 'Accel_y': '0.69', 'Accel_z': '-0.05', 'Gyro_x': '0.72', 'Gyro_y': '0.69', 'Gyro_z': '-0.05', 'Mag_x': '0.72', 'Magl_y': '0.69'}\n",
      "decoded:  {'Time': '5491826', 'Pitch': '5.94', 'Yaw': '88.17', 'Roll': '-177.63', 'Accel_x': '0.72', 'Accel_y': '0.69', 'Accel_z': '-0.05', 'Gyro_x': '0.72', 'Gyro_y': '0.69', 'Gyro_z': '-0.05', 'Mag_x': '0.72', 'Magl_y': '0.69'}\n",
      "decoded:  {'Time': '5491833', 'Pitch': '5.94', 'Yaw': '88.17', 'Roll': '-177.63', 'Accel_x': '0.72', 'Accel_y': '0.69', 'Accel_z': '-0.05', 'Gyro_x': '0.72', 'Gyro_y': '0.69', 'Gyro_z': '-0.05', 'Mag_x': '0.72', 'Magl_y': '0.69'}\n",
      "decoded:  {'Time': '5491841', 'Pitch': '5.94', 'Yaw': '88.17', 'Roll': '-177.63', 'Accel_x': '0.72', 'Accel_y': '0.69', 'Accel_z': '-0.05', 'Gyro_x': '0.72', 'Gyro_y': '0.69', 'Gyro_z': '-0.05', 'Mag_x': '0.72', 'Magl_y': '0.69'}\n",
      "decoded:  {'Time': '5491847', 'Pitch': '5.94', 'Yaw': '88.17', 'Roll': '-177.63', 'Accel_x': '0.72', 'Accel_y': '0.69', 'Accel_z': '-0.05', 'Gyro_x': '0.72', 'Gyro_y': '0.69', 'Gyro_z': '-0.05', 'Mag_x': '0.72', 'Magl_y': '0.69'}\n",
      "finished writing this one stride, size:  6\n"
     ]
    },
    {
     "name": "stdout",
     "output_type": "stream",
     "text": [
      "decoded:  {'Time': '5491853', 'Pitch': '5.94', 'Yaw': '88.17', 'Roll': '-177.63', 'Accel_x': '0.72', 'Accel_y': '0.69', 'Accel_z': '-0.05', 'Gyro_x': '0.72', 'Gyro_y': '0.69', 'Gyro_z': '-0.05', 'Mag_x': '0.72', 'Magl_y': '0.69'}\n",
      "decoded:  {'Time': '5491861', 'Pitch': '5.94', 'Yaw': '88.17', 'Roll': '-177.63', 'Accel_x': '0.72', 'Accel_y': '0.69', 'Accel_z': '-0.05', 'Gyro_x': '0.72', 'Gyro_y': '0.69', 'Gyro_z': '-0.05', 'Mag_x': '0.72', 'Magl_y': '0.69'}\n",
      "decoded:  {'Time': '5491867', 'Pitch': '5.94', 'Yaw': '88.17', 'Roll': '-177.63', 'Accel_x': '0.72', 'Accel_y': '0.69', 'Accel_z': '-0.05', 'Gyro_x': '0.72', 'Gyro_y': '0.69', 'Gyro_z': '-0.05', 'Mag_x': '0.72', 'Magl_y': '0.69'}\n",
      "decoded:  {'Time': '5491873', 'Pitch': '5.94', 'Yaw': '88.17', 'Roll': '-177.63', 'Accel_x': '0.72', 'Accel_y': '0.69', 'Accel_z': '-0.05', 'Gyro_x': '0.72', 'Gyro_y': '0.69', 'Gyro_z': '-0.05', 'Mag_x': '0.72', 'Magl_y': '0.69'}\n",
      "decoded:  {'Time': '5491881', 'Pitch': '5.94', 'Yaw': '88.17', 'Roll': '-177.63', 'Accel_x': '0.72', 'Accel_y': '0.69', 'Accel_z': '-0.05', 'Gyro_x': '0.72', 'Gyro_y': '0.69', 'Gyro_z': '-0.05', 'Mag_x': '0.72', 'Magl_y': '0.69'}\n",
      "decoded:  {'Time': '5491887', 'Pitch': '5.94', 'Yaw': '88.17', 'Roll': '-177.63', 'Accel_x': '0.72', 'Accel_y': '0.69', 'Accel_z': '-0.05', 'Gyro_x': '0.72', 'Gyro_y': '0.69', 'Gyro_z': '-0.05', 'Mag_x': '0.72', 'Magl_y': '0.69'}\n",
      "decoded:  {'Time': '5491895', 'Pitch': '5.94', 'Yaw': '88.17', 'Roll': '-177.63', 'Accel_x': '0.72', 'Accel_y': '0.69', 'Accel_z': '-0.05', 'Gyro_x': '0.72', 'Gyro_y': '0.69', 'Gyro_z': '-0.05', 'Mag_x': '0.72', 'Magl_y': '0.69'}\n",
      "finished writing this one stride, size:  6\n",
      "decoded:  {'Time': '5491902', 'Pitch': '5.94', 'Yaw': '88.17', 'Roll': '-177.63', 'Accel_x': '0.72', 'Accel_y': '0.69', 'Accel_z': '-0.05', 'Gyro_x': '0.72', 'Gyro_y': '0.69', 'Gyro_z': '-0.05', 'Mag_x': '0.72', 'Magl_y': '0.69'}\n",
      "decoded:  {'Time': '5491909', 'Pitch': '5.94', 'Yaw': '88.17', 'Roll': '-177.63', 'Accel_x': '0.72', 'Accel_y': '0.69', 'Accel_z': '-0.05', 'Gyro_x': '0.72', 'Gyro_y': '0.69', 'Gyro_z': '-0.05', 'Mag_x': '0.72', 'Magl_y': '0.69'}\n",
      "decoded:  {'Time': '5491915', 'Pitch': '5.94', 'Yaw': '88.17', 'Roll': '-177.63', 'Accel_x': '0.72', 'Accel_y': '0.69', 'Accel_z': '-0.05', 'Gyro_x': '0.72', 'Gyro_y': '0.69', 'Gyro_z': '-0.05', 'Mag_x': '0.72', 'Magl_y': '0.69'}\n",
      "decoded:  {'Time': '5491922', 'Pitch': '5.94', 'Yaw': '88.17', 'Roll': '-177.63', 'Accel_x': '0.72', 'Accel_y': '0.69', 'Accel_z': '-0.05', 'Gyro_x': '0.72', 'Gyro_y': '0.69', 'Gyro_z': '-0.05', 'Mag_x': '0.72', 'Magl_y': '0.69'}\n",
      "decoded:  {'Time': '5491929', 'Pitch': '5.94', 'Yaw': '88.17', 'Roll': '-177.63', 'Accel_x': '0.72', 'Accel_y': '0.69', 'Accel_z': '-0.05', 'Gyro_x': '0.72', 'Gyro_y': '0.69', 'Gyro_z': '-0.05', 'Mag_x': '0.72', 'Magl_y': '0.69'}\n",
      "decoded:  {'Time': '5491936', 'Pitch': '5.94', 'Yaw': '88.17', 'Roll': '-177.63', 'Accel_x': '0.72', 'Accel_y': '0.69', 'Accel_z': '-0.05', 'Gyro_x': '0.72', 'Gyro_y': '0.69', 'Gyro_z': '-0.05', 'Mag_x': '0.72', 'Magl_y': '0.69'}\n",
      "decoded:  {'Time': '5491943', 'Pitch': '5.94', 'Yaw': '88.17', 'Roll': '-177.63', 'Accel_x': '0.72', 'Accel_y': '0.69', 'Accel_z': '-0.05', 'Gyro_x': '0.72', 'Gyro_y': '0.69', 'Gyro_z': '-0.05', 'Mag_x': '0.72', 'Magl_y': '0.69'}\n",
      "finished writing this one stride, size:  6\n",
      "decoded:  {'Time': '5491950', 'Pitch': '5.94', 'Yaw': '88.17', 'Roll': '-177.63', 'Accel_x': '0.72', 'Accel_y': '0.69', 'Accel_z': '-0.05', 'Gyro_x': '0.72', 'Gyro_y': '0.69', 'Gyro_z': '-0.05', 'Mag_x': '0.72', 'Magl_y': '0.69'}\n",
      "decoded:  {'Time': '5491957', 'Pitch': '5.94', 'Yaw': '88.17', 'Roll': '-177.63', 'Accel_x': '0.72', 'Accel_y': '0.69', 'Accel_z': '-0.05', 'Gyro_x': '0.72', 'Gyro_y': '0.69', 'Gyro_z': '-0.05', 'Mag_x': '0.72', 'Magl_y': '0.69'}\n",
      "decoded:  {'Time': '5491965', 'Pitch': '5.94', 'Yaw': '88.17', 'Roll': '-177.63', 'Accel_x': '0.72', 'Accel_y': '0.69', 'Accel_z': '-0.05', 'Gyro_x': '0.72', 'Gyro_y': '0.69', 'Gyro_z': '-0.05', 'Mag_x': '0.72', 'Magl_y': '0.69'}\n",
      "decoded:  {'Time': '5491972', 'Pitch': '5.94', 'Yaw': '88.17', 'Roll': '-177.63', 'Accel_x': '0.72', 'Accel_y': '0.69', 'Accel_z': '-0.05', 'Gyro_x': '0.72', 'Gyro_y': '0.69', 'Gyro_z': '-0.05', 'Mag_x': '0.72', 'Magl_y': '0.69'}\n",
      "decoded:  {'Time': '5491980', 'Pitch': '5.94', 'Yaw': '88.17', 'Roll': '-177.63', 'Accel_x': '0.72', 'Accel_y': '0.69', 'Accel_z': '-0.05', 'Gyro_x': '0.72', 'Gyro_y': '0.69', 'Gyro_z': '-0.05', 'Mag_x': '0.72', 'Magl_y': '0.69'}\n",
      "decoded:  {'Time': '5491986', 'Pitch': '5.94', 'Yaw': '88.17', 'Roll': '-177.63', 'Accel_x': '0.72', 'Accel_y': '0.69', 'Accel_z': '-0.05', 'Gyro_x': '0.72', 'Gyro_y': '0.69', 'Gyro_z': '-0.05', 'Mag_x': '0.72', 'Magl_y': '0.69'}\n",
      "decoded:  {'Time': '5491993', 'Pitch': '5.94', 'Yaw': '88.17', 'Roll': '-177.63', 'Accel_x': '0.72', 'Accel_y': '0.69', 'Accel_z': '-0.05', 'Gyro_x': '0.72', 'Gyro_y': '0.69', 'Gyro_z': '-0.05', 'Mag_x': '0.72', 'Magl_y': '0.69'}\n",
      "finished writing this one stride, size:  6\n",
      "decoded:  {'Time': '5492001', 'Pitch': '5.94', 'Yaw': '88.17', 'Roll': '-177.63', 'Accel_x': '0.72', 'Accel_y': '0.69', 'Accel_z': '-0.05', 'Gyro_x': '0.72', 'Gyro_y': '0.69', 'Gyro_z': '-0.05', 'Mag_x': '0.72', 'Magl_y': '0.69'}\n",
      "decoded:  {'Time': '5492007', 'Pitch': '5.94', 'Yaw': '88.17', 'Roll': '-177.63', 'Accel_x': '0.72', 'Accel_y': '0.69', 'Accel_z': '-0.05', 'Gyro_x': '0.72', 'Gyro_y': '0.69', 'Gyro_z': '-0.05', 'Mag_x': '0.72', 'Magl_y': '0.69'}\n",
      "decoded:  {'Time': '5492013', 'Pitch': '5.94', 'Yaw': '88.17', 'Roll': '-177.63', 'Accel_x': '0.72', 'Accel_y': '0.69', 'Accel_z': '-0.05', 'Gyro_x': '0.72', 'Gyro_y': '0.69', 'Gyro_z': '-0.05', 'Mag_x': '0.72', 'Magl_y': '0.69'}\n",
      "decoded:  {'Time': '5492021', 'Pitch': '5.94', 'Yaw': '88.17', 'Roll': '-177.63', 'Accel_x': '0.72', 'Accel_y': '0.69', 'Accel_z': '-0.05', 'Gyro_x': '0.72', 'Gyro_y': '0.69', 'Gyro_z': '-0.05', 'Mag_x': '0.72', 'Magl_y': '0.69'}\n",
      "decoded:  {'Time': '5492028', 'Pitch': '5.94', 'Yaw': '88.17', 'Roll': '-177.63', 'Accel_x': '0.72', 'Accel_y': '0.69', 'Accel_z': '-0.05', 'Gyro_x': '0.72', 'Gyro_y': '0.69', 'Gyro_z': '-0.05', 'Mag_x': '0.72', 'Magl_y': '0.69'}\n",
      "decoded:  {'Time': '5492035', 'Pitch': '5.94', 'Yaw': '88.17', 'Roll': '-177.63', 'Accel_x': '0.72', 'Accel_y': '0.69', 'Accel_z': '-0.05', 'Gyro_x': '0.72', 'Gyro_y': '0.69', 'Gyro_z': '-0.05', 'Mag_x': '0.72', 'Magl_y': '0.69'}\n",
      "decoded:  {'Time': '5492042', 'Pitch': '5.94', 'Yaw': '88.17', 'Roll': '-177.63', 'Accel_x': '0.72', 'Accel_y': '0.69', 'Accel_z': '-0.05', 'Gyro_x': '0.72', 'Gyro_y': '0.69', 'Gyro_z': '-0.05', 'Mag_x': '0.72', 'Magl_y': '0.69'}\n",
      "finished writing this one stride, size:  6\n",
      "decoded:  {'Time': '5492050', 'Pitch': '5.94', 'Yaw': '88.17', 'Roll': '-177.63', 'Accel_x': '0.72', 'Accel_y': '0.69', 'Accel_z': '-0.05', 'Gyro_x': '0.72', 'Gyro_y': '0.69', 'Gyro_z': '-0.05', 'Mag_x': '0.72', 'Magl_y': '0.69'}\n",
      "decoded:  {'Time': '5492057', 'Pitch': '5.94', 'Yaw': '88.17', 'Roll': '-177.63', 'Accel_x': '0.72', 'Accel_y': '0.69', 'Accel_z': '-0.05', 'Gyro_x': '0.72', 'Gyro_y': '0.69', 'Gyro_z': '-0.05', 'Mag_x': '0.72', 'Magl_y': '0.69'}\n",
      "decoded:  {'Time': '5492063', 'Pitch': '5.94', 'Yaw': '88.17', 'Roll': '-177.63', 'Accel_x': '0.72', 'Accel_y': '0.69', 'Accel_z': '-0.05', 'Gyro_x': '0.72', 'Gyro_y': '0.69', 'Gyro_z': '-0.05', 'Mag_x': '0.72', 'Magl_y': '0.69'}\n",
      "decoded:  {'Time': '5492071', 'Pitch': '5.94', 'Yaw': '88.17', 'Roll': '-177.63', 'Accel_x': '0.72', 'Accel_y': '0.69', 'Accel_z': '-0.05', 'Gyro_x': '0.72', 'Gyro_y': '0.69', 'Gyro_z': '-0.05', 'Mag_x': '0.72', 'Magl_y': '0.69'}\n",
      "decoded:  {'Time': '5492078', 'Pitch': '5.94', 'Yaw': '88.17', 'Roll': '-177.63', 'Accel_x': '0.72', 'Accel_y': '0.69', 'Accel_z': '-0.05', 'Gyro_x': '0.72', 'Gyro_y': '0.69', 'Gyro_z': '-0.05', 'Mag_x': '0.72', 'Magl_y': '0.69'}\n",
      "decoded:  {'Time': '5492085', 'Pitch': '5.94', 'Yaw': '88.17', 'Roll': '-177.63', 'Accel_x': '0.72', 'Accel_y': '0.69', 'Accel_z': '-0.05', 'Gyro_x': '0.72', 'Gyro_y': '0.69', 'Gyro_z': '-0.05', 'Mag_x': '0.72', 'Magl_y': '0.69'}\n"
     ]
    },
    {
     "name": "stdout",
     "output_type": "stream",
     "text": [
      "decoded:  {'Time': '5492092', 'Pitch': '5.94', 'Yaw': '88.17', 'Roll': '-177.63', 'Accel_x': '0.72', 'Accel_y': '0.69', 'Accel_z': '-0.05', 'Gyro_x': '0.72', 'Gyro_y': '0.69', 'Gyro_z': '-0.05', 'Mag_x': '0.72', 'Magl_y': '0.69'}\n",
      "finished writing this one stride, size:  6\n",
      "decoded:  {'Time': '5492100', 'Pitch': '5.94', 'Yaw': '88.17', 'Roll': '-177.63', 'Accel_x': '0.72', 'Accel_y': '0.69', 'Accel_z': '-0.05', 'Gyro_x': '0.72', 'Gyro_y': '0.69', 'Gyro_z': '-0.05', 'Mag_x': '0.72', 'Magl_y': '0.69'}\n",
      "decoded:  {'Time': '5492106', 'Pitch': '5.94', 'Yaw': '88.17', 'Roll': '-177.63', 'Accel_x': '0.72', 'Accel_y': '0.69', 'Accel_z': '-0.05', 'Gyro_x': '0.72', 'Gyro_y': '0.69', 'Gyro_z': '-0.05', 'Mag_x': '0.72', 'Magl_y': '0.69'}\n",
      "decoded:  {'Time': '5492112', 'Pitch': '5.94', 'Yaw': '88.17', 'Roll': '-177.63', 'Accel_x': '0.72', 'Accel_y': '0.69', 'Accel_z': '-0.05', 'Gyro_x': '0.72', 'Gyro_y': '0.69', 'Gyro_z': '-0.05', 'Mag_x': '0.72', 'Magl_y': '0.69'}\n",
      "decoded:  {'Time': '5492120', 'Pitch': '5.94', 'Yaw': '88.17', 'Roll': '-177.63', 'Accel_x': '0.72', 'Accel_y': '0.69', 'Accel_z': '-0.05', 'Gyro_x': '0.72', 'Gyro_y': '0.69', 'Gyro_z': '-0.05', 'Mag_x': '0.72', 'Magl_y': '0.69'}\n",
      "decoded:  {'Time': '5492128', 'Pitch': '5.94', 'Yaw': '88.17', 'Roll': '-177.63', 'Accel_x': '0.72', 'Accel_y': '0.69', 'Accel_z': '-0.05', 'Gyro_x': '0.72', 'Gyro_y': '0.69', 'Gyro_z': '-0.05', 'Mag_x': '0.72', 'Magl_y': '0.69'}\n",
      "decoded:  {'Time': '5492134', 'Pitch': '5.94', 'Yaw': '88.17', 'Roll': '-177.63', 'Accel_x': '0.72', 'Accel_y': '0.69', 'Accel_z': '-0.05', 'Gyro_x': '0.72', 'Gyro_y': '0.69', 'Gyro_z': '-0.05', 'Mag_x': '0.72', 'Magl_y': '0.69'}\n",
      "decoded:  {'Time': '5492140', 'Pitch': '5.94', 'Yaw': '88.17', 'Roll': '-177.63', 'Accel_x': '0.72', 'Accel_y': '0.69', 'Accel_z': '-0.05', 'Gyro_x': '0.72', 'Gyro_y': '0.69', 'Gyro_z': '-0.05', 'Mag_x': '0.72', 'Magl_y': '0.69'}\n",
      "finished writing this one stride, size:  6\n",
      "decoded:  {'Time': '5492147', 'Pitch': '5.94', 'Yaw': '88.17', 'Roll': '-177.63', 'Accel_x': '0.72', 'Accel_y': '0.69', 'Accel_z': '-0.05', 'Gyro_x': '0.72', 'Gyro_y': '0.69', 'Gyro_z': '-0.05', 'Mag_x': '0.72', 'Magl_y': '0.69'}\n",
      "decoded:  {'Time': '5492154', 'Pitch': '5.94', 'Yaw': '88.17', 'Roll': '-177.63', 'Accel_x': '0.72', 'Accel_y': '0.69', 'Accel_z': '-0.05', 'Gyro_x': '0.72', 'Gyro_y': '0.69', 'Gyro_z': '-0.05', 'Mag_x': '0.72', 'Magl_y': '0.69'}\n",
      "decoded:  {'Time': '5492161', 'Pitch': '5.94', 'Yaw': '88.17', 'Roll': '-177.63', 'Accel_x': '0.72', 'Accel_y': '0.69', 'Accel_z': '-0.05', 'Gyro_x': '0.72', 'Gyro_y': '0.69', 'Gyro_z': '-0.05', 'Mag_x': '0.72', 'Magl_y': '0.69'}\n",
      "decoded:  {'Time': '5492168', 'Pitch': '5.94', 'Yaw': '88.17', 'Roll': '-177.63', 'Accel_x': '0.72', 'Accel_y': '0.69', 'Accel_z': '-0.05', 'Gyro_x': '0.72', 'Gyro_y': '0.69', 'Gyro_z': '-0.05', 'Mag_x': '0.72', 'Magl_y': '0.69'}\n",
      "decoded:  {'Time': '5492174', 'Pitch': '5.94', 'Yaw': '88.17', 'Roll': '-177.63', 'Accel_x': '0.72', 'Accel_y': '0.69', 'Accel_z': '-0.05', 'Gyro_x': '0.72', 'Gyro_y': '0.69', 'Gyro_z': '-0.05', 'Mag_x': '0.72', 'Magl_y': '0.69'}\n",
      "decoded:  {'Time': '5492182', 'Pitch': '5.94', 'Yaw': '88.17', 'Roll': '-177.63', 'Accel_x': '0.72', 'Accel_y': '0.69', 'Accel_z': '-0.05', 'Gyro_x': '0.72', 'Gyro_y': '0.69', 'Gyro_z': '-0.05', 'Mag_x': '0.72', 'Magl_y': '0.69'}\n",
      "decoded:  {'Time': '5492188', 'Pitch': '5.94', 'Yaw': '88.17', 'Roll': '-177.63', 'Accel_x': '0.72', 'Accel_y': '0.69', 'Accel_z': '-0.05', 'Gyro_x': '0.72', 'Gyro_y': '0.69', 'Gyro_z': '-0.05', 'Mag_x': '0.72', 'Magl_y': '0.69'}\n",
      "finished writing this one stride, size:  6\n",
      "decoded:  {'Time': '5492194', 'Pitch': '5.94', 'Yaw': '88.17', 'Roll': '-177.63', 'Accel_x': '0.72', 'Accel_y': '0.69', 'Accel_z': '-0.05', 'Gyro_x': '0.72', 'Gyro_y': '0.69', 'Gyro_z': '-0.05', 'Mag_x': '0.72', 'Magl_y': '0.69'}\n",
      "decoded:  {'Time': '5492202', 'Pitch': '5.94', 'Yaw': '88.17', 'Roll': '-177.63', 'Accel_x': '0.72', 'Accel_y': '0.69', 'Accel_z': '-0.05', 'Gyro_x': '0.72', 'Gyro_y': '0.69', 'Gyro_z': '-0.05', 'Mag_x': '0.72', 'Magl_y': '0.69'}\n",
      "decoded:  {'Time': '5492208', 'Pitch': '5.94', 'Yaw': '88.17', 'Roll': '-177.63', 'Accel_x': '0.72', 'Accel_y': '0.69', 'Accel_z': '-0.05', 'Gyro_x': '0.72', 'Gyro_y': '0.69', 'Gyro_z': '-0.05', 'Mag_x': '0.72', 'Magl_y': '0.69'}\n",
      "decoded:  {'Time': '5492215', 'Pitch': '5.94', 'Yaw': '88.17', 'Roll': '-177.63', 'Accel_x': '0.72', 'Accel_y': '0.69', 'Accel_z': '-0.05', 'Gyro_x': '0.72', 'Gyro_y': '0.69', 'Gyro_z': '-0.05', 'Mag_x': '0.72', 'Magl_y': '0.69'}\n",
      "decoded:  {'Time': '5492222', 'Pitch': '5.94', 'Yaw': '88.17', 'Roll': '-177.63', 'Accel_x': '0.72', 'Accel_y': '0.69', 'Accel_z': '-0.05', 'Gyro_x': '0.72', 'Gyro_y': '0.69', 'Gyro_z': '-0.05', 'Mag_x': '0.72', 'Magl_y': '0.69'}\n",
      "decoded:  {'Time': '5492229', 'Pitch': '5.94', 'Yaw': '88.17', 'Roll': '-177.63', 'Accel_x': '0.72', 'Accel_y': '0.69', 'Accel_z': '-0.05', 'Gyro_x': '0.72', 'Gyro_y': '0.69', 'Gyro_z': '-0.05', 'Mag_x': '0.72', 'Magl_y': '0.69'}\n",
      "decoded:  {'Time': '5492236', 'Pitch': '5.94', 'Yaw': '88.17', 'Roll': '-177.63', 'Accel_x': '0.72', 'Accel_y': '0.69', 'Accel_z': '-0.05', 'Gyro_x': '0.72', 'Gyro_y': '0.69', 'Gyro_z': '-0.05', 'Mag_x': '0.72', 'Magl_y': '0.69'}\n",
      "finished writing this one stride, size:  6\n",
      "decoded:  {'Time': '5492243', 'Pitch': '5.94', 'Yaw': '88.17', 'Roll': '-177.63', 'Accel_x': '0.72', 'Accel_y': '0.69', 'Accel_z': '-0.05', 'Gyro_x': '0.72', 'Gyro_y': '0.69', 'Gyro_z': '-0.05', 'Mag_x': '0.72', 'Magl_y': '0.69'}\n",
      "decoded:  {'Time': '5492250', 'Pitch': '5.94', 'Yaw': '88.17', 'Roll': '-177.63', 'Accel_x': '0.72', 'Accel_y': '0.69', 'Accel_z': '-0.05', 'Gyro_x': '0.72', 'Gyro_y': '0.69', 'Gyro_z': '-0.05', 'Mag_x': '0.72', 'Magl_y': '0.69'}\n",
      "decoded:  {'Time': '5492257', 'Pitch': '5.94', 'Yaw': '88.17', 'Roll': '-177.63', 'Accel_x': '0.72', 'Accel_y': '0.69', 'Accel_z': '-0.05', 'Gyro_x': '0.72', 'Gyro_y': '0.69', 'Gyro_z': '-0.05', 'Mag_x': '0.72', 'Magl_y': '0.69'}\n",
      "decoded:  {'Time': '5492264', 'Pitch': '5.94', 'Yaw': '88.17', 'Roll': '-177.63', 'Accel_x': '0.72', 'Accel_y': '0.69', 'Accel_z': '-0.05', 'Gyro_x': '0.72', 'Gyro_y': '0.69', 'Gyro_z': '-0.05', 'Mag_x': '0.72', 'Magl_y': '0.69'}\n",
      "decoded:  {'Time': '5492271', 'Pitch': '5.94', 'Yaw': '88.17', 'Roll': '-177.63', 'Accel_x': '0.72', 'Accel_y': '0.69', 'Accel_z': '-0.05', 'Gyro_x': '0.72', 'Gyro_y': '0.69', 'Gyro_z': '-0.05', 'Mag_x': '0.72', 'Magl_y': '0.69'}\n",
      "decoded:  {'Time': '5492278', 'Pitch': '5.94', 'Yaw': '88.17', 'Roll': '-177.63', 'Accel_x': '0.72', 'Accel_y': '0.69', 'Accel_z': '-0.05', 'Gyro_x': '0.72', 'Gyro_y': '0.69', 'Gyro_z': '-0.05', 'Mag_x': '0.72', 'Magl_y': '0.69'}\n",
      "decoded:  {'Time': '5492286', 'Pitch': '5.94', 'Yaw': '88.17', 'Roll': '-177.63', 'Accel_x': '0.72', 'Accel_y': '0.69', 'Accel_z': '-0.05', 'Gyro_x': '0.72', 'Gyro_y': '0.69', 'Gyro_z': '-0.05', 'Mag_x': '0.72', 'Magl_y': '0.69'}\n",
      "finished writing this one stride, size:  6\n",
      "decoded:  {'Time': '5492293', 'Pitch': '5.94', 'Yaw': '88.17', 'Roll': '-177.63', 'Accel_x': '0.72', 'Accel_y': '0.69', 'Accel_z': '-0.05', 'Gyro_x': '0.72', 'Gyro_y': '0.69', 'Gyro_z': '-0.05', 'Mag_x': '0.72', 'Magl_y': '0.69'}\n",
      "decoded:  {'Time': '5492301', 'Pitch': '5.94', 'Yaw': '88.17', 'Roll': '-177.63', 'Accel_x': '0.72', 'Accel_y': '0.69', 'Accel_z': '-0.05', 'Gyro_x': '0.72', 'Gyro_y': '0.69', 'Gyro_z': '-0.05', 'Mag_x': '0.72', 'Magl_y': '0.69'}\n",
      "decoded:  {'Time': '5492308', 'Pitch': '5.94', 'Yaw': '88.17', 'Roll': '-177.63', 'Accel_x': '0.72', 'Accel_y': '0.69', 'Accel_z': '-0.05', 'Gyro_x': '0.72', 'Gyro_y': '0.69', 'Gyro_z': '-0.05', 'Mag_x': '0.72', 'Magl_y': '0.69'}\n",
      "decoded:  {'Time': '5492316', 'Pitch': '5.94', 'Yaw': '88.17', 'Roll': '-177.63', 'Accel_x': '0.72', 'Accel_y': '0.69', 'Accel_z': '-0.05', 'Gyro_x': '0.72', 'Gyro_y': '0.69', 'Gyro_z': '-0.05', 'Mag_x': '0.72', 'Magl_y': '0.69'}\n",
      "decoded:  {'Time': '5492322', 'Pitch': '5.94', 'Yaw': '88.17', 'Roll': '-177.63', 'Accel_x': '0.72', 'Accel_y': '0.69', 'Accel_z': '-0.05', 'Gyro_x': '0.72', 'Gyro_y': '0.69', 'Gyro_z': '-0.05', 'Mag_x': '0.72', 'Magl_y': '0.69'}\n"
     ]
    },
    {
     "name": "stdout",
     "output_type": "stream",
     "text": [
      "decoded:  {'Time': '5492329', 'Pitch': '5.94', 'Yaw': '88.17', 'Roll': '-177.63', 'Accel_x': '0.72', 'Accel_y': '0.69', 'Accel_z': '-0.05', 'Gyro_x': '0.72', 'Gyro_y': '0.69', 'Gyro_z': '-0.05', 'Mag_x': '0.72', 'Magl_y': '0.69'}\n",
      "decoded:  {'Time': '5492336', 'Pitch': '5.94', 'Yaw': '88.17', 'Roll': '-177.63', 'Accel_x': '0.72', 'Accel_y': '0.69', 'Accel_z': '-0.05', 'Gyro_x': '0.72', 'Gyro_y': '0.69', 'Gyro_z': '-0.05', 'Mag_x': '0.72', 'Magl_y': '0.69'}\n",
      "finished writing this one stride, size:  6\n",
      "decoded:  {'Time': '5492343', 'Pitch': '5.94', 'Yaw': '88.17', 'Roll': '-177.63', 'Accel_x': '0.72', 'Accel_y': '0.69', 'Accel_z': '-0.05', 'Gyro_x': '0.72', 'Gyro_y': '0.69', 'Gyro_z': '-0.05', 'Mag_x': '0.72', 'Magl_y': '0.69'}\n",
      "decoded:  {'Time': '5492351', 'Pitch': '5.94', 'Yaw': '88.17', 'Roll': '-177.63', 'Accel_x': '0.72', 'Accel_y': '0.69', 'Accel_z': '-0.05', 'Gyro_x': '0.72', 'Gyro_y': '0.69', 'Gyro_z': '-0.05', 'Mag_x': '0.72', 'Magl_y': '0.69'}\n",
      "decoded:  {'Time': '5492358', 'Pitch': '5.94', 'Yaw': '88.17', 'Roll': '-177.63', 'Accel_x': '0.72', 'Accel_y': '0.69', 'Accel_z': '-0.05', 'Gyro_x': '0.72', 'Gyro_y': '0.69', 'Gyro_z': '-0.05', 'Mag_x': '0.72', 'Magl_y': '0.69'}\n",
      "decoded:  {'Time': '5492365', 'Pitch': '5.94', 'Yaw': '88.17', 'Roll': '-177.63', 'Accel_x': '0.72', 'Accel_y': '0.69', 'Accel_z': '-0.05', 'Gyro_x': '0.72', 'Gyro_y': '0.69', 'Gyro_z': '-0.05', 'Mag_x': '0.72', 'Magl_y': '0.69'}\n",
      "decoded:  {'Time': '5492372', 'Pitch': '5.94', 'Yaw': '88.17', 'Roll': '-177.63', 'Accel_x': '0.72', 'Accel_y': '0.69', 'Accel_z': '-0.05', 'Gyro_x': '0.72', 'Gyro_y': '0.69', 'Gyro_z': '-0.05', 'Mag_x': '0.72', 'Magl_y': '0.69'}\n",
      "decoded:  {'Time': '5492379', 'Pitch': '5.94', 'Yaw': '88.17', 'Roll': '-177.63', 'Accel_x': '0.72', 'Accel_y': '0.69', 'Accel_z': '-0.05', 'Gyro_x': '0.72', 'Gyro_y': '0.69', 'Gyro_z': '-0.05', 'Mag_x': '0.72', 'Magl_y': '0.69'}\n",
      "decoded:  {'Time': '5492387', 'Pitch': '5.94', 'Yaw': '88.17', 'Roll': '-177.63', 'Accel_x': '0.72', 'Accel_y': '0.69', 'Accel_z': '-0.05', 'Gyro_x': '0.72', 'Gyro_y': '0.69', 'Gyro_z': '-0.05', 'Mag_x': '0.72', 'Magl_y': '0.69'}\n",
      "finished writing this one stride, size:  6\n",
      "decoded:  {'Time': '5492393', 'Pitch': '5.94', 'Yaw': '88.17', 'Roll': '-177.63', 'Accel_x': '0.72', 'Accel_y': '0.69', 'Accel_z': '-0.05', 'Gyro_x': '0.72', 'Gyro_y': '0.69', 'Gyro_z': '-0.05', 'Mag_x': '0.72', 'Magl_y': '0.69'}\n",
      "decoded:  {'Time': '5492401', 'Pitch': '5.94', 'Yaw': '88.17', 'Roll': '-177.63', 'Accel_x': '0.72', 'Accel_y': '0.69', 'Accel_z': '-0.05', 'Gyro_x': '0.72', 'Gyro_y': '0.69', 'Gyro_z': '-0.05', 'Mag_x': '0.72', 'Magl_y': '0.69'}\n",
      "decoded:  {'Time': '5492408', 'Pitch': '5.94', 'Yaw': '88.17', 'Roll': '-177.63', 'Accel_x': '0.72', 'Accel_y': '0.69', 'Accel_z': '-0.05', 'Gyro_x': '0.72', 'Gyro_y': '0.69', 'Gyro_z': '-0.05', 'Mag_x': '0.72', 'Magl_y': '0.69'}\n",
      "decoded:  {'Time': '5492414', 'Pitch': '5.94', 'Yaw': '88.17', 'Roll': '-177.63', 'Accel_x': '0.72', 'Accel_y': '0.69', 'Accel_z': '-0.05', 'Gyro_x': '0.72', 'Gyro_y': '0.69', 'Gyro_z': '-0.05', 'Mag_x': '0.72', 'Magl_y': '0.69'}\n",
      "decoded:  {'Time': '5492421', 'Pitch': '5.94', 'Yaw': '88.17', 'Roll': '-177.63', 'Accel_x': '0.72', 'Accel_y': '0.69', 'Accel_z': '-0.05', 'Gyro_x': '0.72', 'Gyro_y': '0.69', 'Gyro_z': '-0.05', 'Mag_x': '0.72', 'Magl_y': '0.69'}\n",
      "decoded:  {'Time': '5492428', 'Pitch': '5.94', 'Yaw': '88.17', 'Roll': '-177.63', 'Accel_x': '0.72', 'Accel_y': '0.69', 'Accel_z': '-0.05', 'Gyro_x': '0.72', 'Gyro_y': '0.69', 'Gyro_z': '-0.05', 'Mag_x': '0.72', 'Magl_y': '0.69'}\n",
      "decoded:  {'Time': '5492434', 'Pitch': '5.94', 'Yaw': '88.17', 'Roll': '-177.63', 'Accel_x': '0.72', 'Accel_y': '0.69', 'Accel_z': '-0.05', 'Gyro_x': '0.72', 'Gyro_y': '0.69', 'Gyro_z': '-0.05', 'Mag_x': '0.72', 'Magl_y': '0.69'}\n",
      "finished writing this one stride, size:  6\n",
      "decoded:  {'Time': '5492442', 'Pitch': '5.94', 'Yaw': '88.17', 'Roll': '-177.63', 'Accel_x': '0.72', 'Accel_y': '0.69', 'Accel_z': '-0.05', 'Gyro_x': '0.72', 'Gyro_y': '0.69', 'Gyro_z': '-0.05', 'Mag_x': '0.72', 'Magl_y': '0.69'}\n",
      "decoded:  {'Time': '5492449', 'Pitch': '5.94', 'Yaw': '88.17', 'Roll': '-177.63', 'Accel_x': '0.72', 'Accel_y': '0.69', 'Accel_z': '-0.05', 'Gyro_x': '0.72', 'Gyro_y': '0.69', 'Gyro_z': '-0.05', 'Mag_x': '0.72', 'Magl_y': '0.69'}\n",
      "decoded:  {'Time': '5492456', 'Pitch': '5.94', 'Yaw': '88.17', 'Roll': '-177.63', 'Accel_x': '0.72', 'Accel_y': '0.69', 'Accel_z': '-0.05', 'Gyro_x': '0.72', 'Gyro_y': '0.69', 'Gyro_z': '-0.05', 'Mag_x': '0.72', 'Magl_y': '0.69'}\n",
      "decoded:  {'Time': '5492464', 'Pitch': '5.94', 'Yaw': '88.17', 'Roll': '-177.63', 'Accel_x': '0.72', 'Accel_y': '0.69', 'Accel_z': '-0.05', 'Gyro_x': '0.72', 'Gyro_y': '0.69', 'Gyro_z': '-0.05', 'Mag_x': '0.72', 'Magl_y': '0.69'}\n",
      "decoded:  {'Time': '5492471', 'Pitch': '5.94', 'Yaw': '88.17', 'Roll': '-177.63', 'Accel_x': '0.72', 'Accel_y': '0.69', 'Accel_z': '-0.05', 'Gyro_x': '0.72', 'Gyro_y': '0.69', 'Gyro_z': '-0.05', 'Mag_x': '0.72', 'Magl_y': '0.69'}\n",
      "decoded:  {'Time': '5492478', 'Pitch': '5.94', 'Yaw': '88.17', 'Roll': '-177.63', 'Accel_x': '0.72', 'Accel_y': '0.69', 'Accel_z': '-0.05', 'Gyro_x': '0.72', 'Gyro_y': '0.69', 'Gyro_z': '-0.05', 'Mag_x': '0.72', 'Magl_y': '0.69'}\n",
      "decoded:  {'Time': '5492486', 'Pitch': '5.94', 'Yaw': '88.17', 'Roll': '-177.63', 'Accel_x': '0.72', 'Accel_y': '0.69', 'Accel_z': '-0.05', 'Gyro_x': '0.72', 'Gyro_y': '0.69', 'Gyro_z': '-0.05', 'Mag_x': '0.72', 'Magl_y': '0.69'}\n",
      "finished writing this one stride, size:  6\n"
     ]
    }
   ],
   "source": [
    "stride_process.start()"
   ]
  },
  {
   "cell_type": "code",
   "execution_count": null,
   "id": "fb31679a",
   "metadata": {},
   "outputs": [],
   "source": []
  },
  {
   "cell_type": "code",
   "execution_count": null,
   "id": "a5822b54",
   "metadata": {},
   "outputs": [],
   "source": []
  },
  {
   "cell_type": "code",
   "execution_count": null,
   "id": "ead1a17c",
   "metadata": {
    "scrolled": true
   },
   "outputs": [],
   "source": []
  },
  {
   "cell_type": "code",
   "execution_count": null,
   "id": "51b889f3",
   "metadata": {},
   "outputs": [],
   "source": []
  },
  {
   "cell_type": "code",
   "execution_count": 24,
   "id": "70320e1d",
   "metadata": {},
   "outputs": [],
   "source": [
    "# arduino_proc.join()\n",
    "# stride_process.join()\n",
    "arduino_proc.terminate()\n",
    "stride_process.terminate()"
   ]
  },
  {
   "cell_type": "code",
   "execution_count": null,
   "id": "e0d49dfa",
   "metadata": {},
   "outputs": [],
   "source": []
  },
  {
   "cell_type": "code",
   "execution_count": null,
   "id": "7dd20c05",
   "metadata": {},
   "outputs": [],
   "source": []
  },
  {
   "cell_type": "code",
   "execution_count": null,
   "id": "f983546a",
   "metadata": {},
   "outputs": [],
   "source": []
  },
  {
   "cell_type": "code",
   "execution_count": null,
   "id": "3b729b45",
   "metadata": {},
   "outputs": [],
   "source": [
    "x = 1"
   ]
  },
  {
   "cell_type": "code",
   "execution_count": null,
   "id": "e756506a",
   "metadata": {},
   "outputs": [],
   "source": []
  },
  {
   "cell_type": "code",
   "execution_count": null,
   "id": "f70fb027",
   "metadata": {},
   "outputs": [],
   "source": []
  },
  {
   "cell_type": "code",
   "execution_count": null,
   "id": "99e7986d",
   "metadata": {},
   "outputs": [],
   "source": []
  },
  {
   "cell_type": "code",
   "execution_count": null,
   "id": "af5c267f",
   "metadata": {},
   "outputs": [],
   "source": []
  },
  {
   "cell_type": "code",
   "execution_count": null,
   "id": "301afedd",
   "metadata": {},
   "outputs": [],
   "source": []
  },
  {
   "cell_type": "code",
   "execution_count": 25,
   "id": "f83d27cc",
   "metadata": {},
   "outputs": [
    {
     "data": {
      "text/plain": [
       "<multiprocess.queues.SimpleQueue at 0x12e88af40>"
      ]
     },
     "execution_count": 25,
     "metadata": {},
     "output_type": "execute_result"
    }
   ],
   "source": [
    "total_data"
   ]
  },
  {
   "cell_type": "code",
   "execution_count": 26,
   "id": "ee8cc16f",
   "metadata": {},
   "outputs": [
    {
     "data": {
      "text/plain": [
       "False"
      ]
     },
     "execution_count": 26,
     "metadata": {},
     "output_type": "execute_result"
    }
   ],
   "source": [
    "total_data.empty()"
   ]
  },
  {
   "cell_type": "code",
   "execution_count": 29,
   "id": "c860bfe0",
   "metadata": {},
   "outputs": [],
   "source": [
    "stride_1 = total_data.get()"
   ]
  },
  {
   "cell_type": "code",
   "execution_count": 30,
   "id": "867eeccc",
   "metadata": {
    "scrolled": true
   },
   "outputs": [
    {
     "data": {
      "text/plain": [
       "[{',Gyro_x': '0.72',\n",
       "  'Gyro_y': '0.69',\n",
       "  'Gyro_z': '-0.05',\n",
       "  'Mag_x': '0.72',\n",
       "  'Magl_y': '0.69'},\n",
       " {'Time': '5491612',\n",
       "  'Pitch': '5.94',\n",
       "  'Yaw': '88.17',\n",
       "  'Roll': '-177.63',\n",
       "  'Accel_x': '0.72',\n",
       "  'Accel_y': '0.69',\n",
       "  'Accel_z': '-0.05',\n",
       "  'Gyro_x': '0.72',\n",
       "  'Gyro_y': '0.69',\n",
       "  'Gyro_z': '-0.05',\n",
       "  'Mag_x': '0.72',\n",
       "  'Magl_y': '0.69'},\n",
       " {'Time': '5491619',\n",
       "  'Pitch': '5.94',\n",
       "  'Yaw': '88.17',\n",
       "  'Roll': '-177.63',\n",
       "  'Accel_x': '0.72',\n",
       "  'Accel_y': '0.69',\n",
       "  'Accel_z': '-0.05',\n",
       "  'Gyro_x': '0.72',\n",
       "  'Gyro_y': '0.69',\n",
       "  'Gyro_z': '-0.05',\n",
       "  'Mag_x': '0.72',\n",
       "  'Magl_y': '0.69'},\n",
       " {'Time': '5491626',\n",
       "  'Pitch': '5.94',\n",
       "  'Yaw': '88.17',\n",
       "  'Roll': '-177.63',\n",
       "  'Accel_x': '0.72',\n",
       "  'Accel_y': '0.69',\n",
       "  'Accel_z': '-0.05',\n",
       "  'Gyro_x': '0.72',\n",
       "  'Gyro_y': '0.69',\n",
       "  'Gyro_z': '-0.05',\n",
       "  'Mag_x': '0.72',\n",
       "  'Magl_y': '0.69'},\n",
       " {'Time': '5491632',\n",
       "  'Pitch': '5.94',\n",
       "  'Yaw': '88.17',\n",
       "  'Roll': '-177.63',\n",
       "  'Accel_x': '0.72',\n",
       "  'Accel_y': '0.69',\n",
       "  'Accel_z': '-0.05',\n",
       "  'Gyro_x': '0.72',\n",
       "  'Gyro_y': '0.69',\n",
       "  'Gyro_z': '-0.05',\n",
       "  'Mag_x': '0.72',\n",
       "  'Magl_y': '0.69'},\n",
       " {'Time': '5491640',\n",
       "  'Pitch': '5.94',\n",
       "  'Yaw': '88.17',\n",
       "  'Roll': '-177.63',\n",
       "  'Accel_x': '0.72',\n",
       "  'Accel_y': '0.69',\n",
       "  'Accel_z': '-0.05',\n",
       "  'Gyro_x': '0.72',\n",
       "  'Gyro_y': '0.69',\n",
       "  'Gyro_z': '-0.05',\n",
       "  'Mag_x': '0.72',\n",
       "  'Magl_y': '0.69'}]"
      ]
     },
     "execution_count": 30,
     "metadata": {},
     "output_type": "execute_result"
    }
   ],
   "source": [
    "stride_1"
   ]
  },
  {
   "cell_type": "code",
   "execution_count": null,
   "id": "dab91f90",
   "metadata": {},
   "outputs": [],
   "source": []
  },
  {
   "cell_type": "code",
   "execution_count": null,
   "id": "3c21cfa9",
   "metadata": {},
   "outputs": [],
   "source": []
  },
  {
   "cell_type": "code",
   "execution_count": null,
   "id": "5ea3cefa",
   "metadata": {},
   "outputs": [],
   "source": []
  },
  {
   "cell_type": "code",
   "execution_count": null,
   "id": "0e0e2280",
   "metadata": {},
   "outputs": [],
   "source": [
    "ard_pid"
   ]
  },
  {
   "cell_type": "code",
   "execution_count": null,
   "id": "67d8c50c",
   "metadata": {},
   "outputs": [],
   "source": []
  },
  {
   "cell_type": "code",
   "execution_count": null,
   "id": "1a599673",
   "metadata": {},
   "outputs": [],
   "source": [
    "os.kill(ard_pid, signal.SIGTERM)"
   ]
  },
  {
   "cell_type": "code",
   "execution_count": null,
   "id": "5ca1d4b1",
   "metadata": {},
   "outputs": [],
   "source": []
  },
  {
   "cell_type": "code",
   "execution_count": null,
   "id": "aa976c09",
   "metadata": {},
   "outputs": [],
   "source": []
  },
  {
   "cell_type": "code",
   "execution_count": null,
   "id": "8468d801",
   "metadata": {},
   "outputs": [],
   "source": [
    "# start\n",
    "# arduino_thread.start()\n",
    "# stride_thread.start()\n",
    "# arduino_process.start()\n"
   ]
  },
  {
   "cell_type": "code",
   "execution_count": null,
   "id": "87f9272e",
   "metadata": {},
   "outputs": [],
   "source": [
    "# stride_process.start()"
   ]
  },
  {
   "cell_type": "code",
   "execution_count": null,
   "id": "ed3af5fe",
   "metadata": {
    "scrolled": true
   },
   "outputs": [],
   "source": [
    "# end\n",
    "# arduino_thread.join()\n",
    "# stride_thread.join()\n",
    "# arduino_process.terminate()\n",
    "# stride_process.terminate()\n",
    "pool.close()\n",
    "pool.join()"
   ]
  },
  {
   "cell_type": "code",
   "execution_count": null,
   "id": "7081bcc3",
   "metadata": {},
   "outputs": [],
   "source": []
  },
  {
   "cell_type": "code",
   "execution_count": null,
   "id": "c0d66265",
   "metadata": {},
   "outputs": [],
   "source": []
  },
  {
   "cell_type": "code",
   "execution_count": null,
   "id": "14ee10d1",
   "metadata": {},
   "outputs": [],
   "source": []
  },
  {
   "cell_type": "code",
   "execution_count": null,
   "id": "2cccc161",
   "metadata": {},
   "outputs": [],
   "source": []
  },
  {
   "cell_type": "code",
   "execution_count": null,
   "id": "b400c55f",
   "metadata": {},
   "outputs": [],
   "source": []
  },
  {
   "cell_type": "code",
   "execution_count": null,
   "id": "34af822e",
   "metadata": {},
   "outputs": [],
   "source": []
  },
  {
   "cell_type": "code",
   "execution_count": null,
   "id": "70f50528",
   "metadata": {},
   "outputs": [],
   "source": []
  },
  {
   "cell_type": "code",
   "execution_count": null,
   "id": "25cc2347",
   "metadata": {},
   "outputs": [],
   "source": []
  },
  {
   "cell_type": "code",
   "execution_count": 1,
   "id": "8f07afd7",
   "metadata": {},
   "outputs": [],
   "source": []
  },
  {
   "cell_type": "code",
   "execution_count": null,
   "id": "39948cd2",
   "metadata": {},
   "outputs": [],
   "source": []
  },
  {
   "cell_type": "code",
   "execution_count": null,
   "id": "02534705",
   "metadata": {
    "scrolled": true
   },
   "outputs": [],
   "source": []
  },
  {
   "cell_type": "code",
   "execution_count": null,
   "id": "4b446c10",
   "metadata": {},
   "outputs": [],
   "source": []
  },
  {
   "cell_type": "code",
   "execution_count": null,
   "id": "f09a1ffc",
   "metadata": {},
   "outputs": [],
   "source": []
  },
  {
   "cell_type": "code",
   "execution_count": null,
   "id": "472e17e4",
   "metadata": {},
   "outputs": [],
   "source": []
  },
  {
   "cell_type": "code",
   "execution_count": null,
   "id": "6160cf6e",
   "metadata": {},
   "outputs": [],
   "source": []
  },
  {
   "cell_type": "code",
   "execution_count": null,
   "id": "1020622d",
   "metadata": {},
   "outputs": [],
   "source": [
    "manager"
   ]
  },
  {
   "cell_type": "code",
   "execution_count": 27,
   "id": "938eb16e",
   "metadata": {},
   "outputs": [
    {
     "data": {
      "text/plain": [
       "<multiprocess.queues.SimpleQueue at 0x12e8ecac0>"
      ]
     },
     "execution_count": 27,
     "metadata": {},
     "output_type": "execute_result"
    }
   ],
   "source": [
    "usb_reading_queue"
   ]
  },
  {
   "cell_type": "code",
   "execution_count": null,
   "id": "3a0a068a",
   "metadata": {},
   "outputs": [],
   "source": [
    "usb_reading_queue"
   ]
  },
  {
   "cell_type": "code",
   "execution_count": null,
   "id": "db00e538",
   "metadata": {},
   "outputs": [],
   "source": [
    "usb_reading_queue.put(\"hi\")"
   ]
  },
  {
   "cell_type": "code",
   "execution_count": 28,
   "id": "48385a56",
   "metadata": {
    "scrolled": true
   },
   "outputs": [
    {
     "data": {
      "text/plain": [
       "True"
      ]
     },
     "execution_count": 28,
     "metadata": {},
     "output_type": "execute_result"
    }
   ],
   "source": [
    "usb_reading_queue.empty()"
   ]
  },
  {
   "cell_type": "code",
   "execution_count": null,
   "id": "ec70bf48",
   "metadata": {},
   "outputs": [],
   "source": [
    "x = usb_reading_queue.get()"
   ]
  },
  {
   "cell_type": "code",
   "execution_count": null,
   "id": "b7bdad49",
   "metadata": {
    "scrolled": true
   },
   "outputs": [],
   "source": [
    "x"
   ]
  },
  {
   "cell_type": "code",
   "execution_count": null,
   "id": "3874193c",
   "metadata": {},
   "outputs": [],
   "source": [
    "total_data"
   ]
  },
  {
   "cell_type": "code",
   "execution_count": null,
   "id": "9c6647a4",
   "metadata": {},
   "outputs": [],
   "source": [
    "total_data.empty()"
   ]
  },
  {
   "cell_type": "code",
   "execution_count": null,
   "id": "bac5d723",
   "metadata": {},
   "outputs": [],
   "source": [
    "strideX = total_data.get()"
   ]
  },
  {
   "cell_type": "code",
   "execution_count": null,
   "id": "b4000b46",
   "metadata": {},
   "outputs": [],
   "source": [
    "strideX"
   ]
  },
  {
   "cell_type": "code",
   "execution_count": null,
   "id": "50be41ed",
   "metadata": {},
   "outputs": [],
   "source": []
  },
  {
   "cell_type": "code",
   "execution_count": null,
   "id": "73707456",
   "metadata": {
    "scrolled": false
   },
   "outputs": [],
   "source": [
    "usb_reading_queue.qsize()"
   ]
  },
  {
   "cell_type": "code",
   "execution_count": null,
   "id": "9721114e",
   "metadata": {},
   "outputs": [],
   "source": []
  },
  {
   "cell_type": "code",
   "execution_count": null,
   "id": "3d022e7b",
   "metadata": {},
   "outputs": [],
   "source": []
  },
  {
   "cell_type": "code",
   "execution_count": null,
   "id": "224ea244",
   "metadata": {},
   "outputs": [],
   "source": []
  },
  {
   "cell_type": "code",
   "execution_count": null,
   "id": "7a559262",
   "metadata": {},
   "outputs": [],
   "source": []
  },
  {
   "cell_type": "code",
   "execution_count": null,
   "id": "cc5d2ea3",
   "metadata": {},
   "outputs": [],
   "source": []
  },
  {
   "cell_type": "code",
   "execution_count": null,
   "id": "199553b1",
   "metadata": {},
   "outputs": [],
   "source": []
  },
  {
   "cell_type": "code",
   "execution_count": null,
   "id": "018cc16c",
   "metadata": {},
   "outputs": [],
   "source": []
  },
  {
   "cell_type": "code",
   "execution_count": null,
   "id": "c714ea30",
   "metadata": {},
   "outputs": [],
   "source": []
  },
  {
   "cell_type": "code",
   "execution_count": null,
   "id": "930e3d5c",
   "metadata": {},
   "outputs": [],
   "source": [
    "# ///scratch"
   ]
  },
  {
   "cell_type": "code",
   "execution_count": null,
   "id": "0d1295b8",
   "metadata": {},
   "outputs": [],
   "source": [
    "usb_reading_queue = Queue()\n",
    "while True:\n",
    "    try:\n",
    "        ser_bytes = ser.readline()\n",
    "        try:\n",
    "            print(\"got: \", ser_bytes)\n",
    "            decoded_bytes = ser_bytes.decode('ascii')\n",
    "            row = process_serial_out(decoded_bytes)\n",
    "            print(decoded_bytes)\n",
    "            usb_reading_queue.put(row)\n",
    "        except:\n",
    "            print_exc()\n",
    "            print(\"exception reading one line from arduino\")\n",
    "            continue\n",
    "    except:\n",
    "        print_exc()\n",
    "        print(\"Keyboard Interrupt\")\n",
    "        break"
   ]
  },
  {
   "cell_type": "code",
   "execution_count": null,
   "id": "b491e9f9",
   "metadata": {},
   "outputs": [],
   "source": [
    "usb_reading_queue.put(1)\n",
    "usb_reading_queue.get()"
   ]
  },
  {
   "cell_type": "code",
   "execution_count": null,
   "id": "e065b9bb",
   "metadata": {},
   "outputs": [],
   "source": []
  },
  {
   "cell_type": "code",
   "execution_count": null,
   "id": "cda309db",
   "metadata": {},
   "outputs": [],
   "source": [
    "ser_bytes = b'time=6384885,accel_x= 0.00,accel_y= -0.02,accel_z= 0.00,gyro_x= -0.00,gyro_y= -0.00,gyro_z= 0.00,mag_x= 20.69,mag_y= 11.00,mag_z= -47.19,orientation_x= 300.62,orientation_y= 4.50,orientation_z= -2.06\\r\\n'\n",
    "decoded_bytes = ser_bytes.decode('ascii')\n",
    "row = process_serial_out(decoded_bytes)\n",
    "print(decoded_bytes)\n",
    "usb_reading_queue.put(row)\n",
    "\n"
   ]
  },
  {
   "cell_type": "code",
   "execution_count": null,
   "id": "d23909e6",
   "metadata": {},
   "outputs": [],
   "source": [
    "usb_reading_queue."
   ]
  },
  {
   "cell_type": "code",
   "execution_count": null,
   "id": "882fa329",
   "metadata": {},
   "outputs": [],
   "source": []
  },
  {
   "cell_type": "code",
   "execution_count": null,
   "id": "8a108863",
   "metadata": {},
   "outputs": [],
   "source": []
  },
  {
   "cell_type": "code",
   "execution_count": null,
   "id": "410399b6",
   "metadata": {},
   "outputs": [],
   "source": [
    "sdf = (source.map(pd.read_csv)                  # stream of Pandas dataframes\n",
    "             .to_dataframe(example=...))        # logical streaming dataframe\n"
   ]
  },
  {
   "cell_type": "code",
   "execution_count": null,
   "id": "fca88059",
   "metadata": {
    "scrolled": false
   },
   "outputs": [],
   "source": [
    "\n",
    "this_stride = []\n",
    "full_data = []\n",
    "data_chunk = []\n",
    "while True:\n",
    "#     if [chu]\n",
    "    try:\n",
    "        ser_bytes = ser.readline()\n",
    "        try:\n",
    "            decoded_bytes = ser_bytes.decode('ascii')\n",
    "            row = process_serial_out(decoded_bytes)\n",
    "            print(decoded_bytes)\n",
    "            data_chunk.append(row)\n",
    "        except:\n",
    "            print(\"exception?\")\n",
    "            continue\n",
    "#         with open(\"test_data.csv\",\"a\") as f:\n",
    "#             writer = csv.writer(f,delimiter=\",\")\n",
    "#             writer.writerow([time.time(),decoded_bytes])\n",
    "#         y_var = np.append(y_var,decoded_bytes)\n",
    "#         y_var = y_var[1:plot_window+1]\n",
    "#         line.set_ydata(y_var)\n",
    "#         ax.relim()\n",
    "#         ax.autoscale_view()\n",
    "#         fig.canvas.draw()\n",
    "#         fig.canvas.flush_events()\n",
    "    except:\n",
    "        print(\"Keyboard Interrupt\")\n",
    "        break"
   ]
  },
  {
   "cell_type": "code",
   "execution_count": null,
   "id": "6c6d6bf7",
   "metadata": {},
   "outputs": [],
   "source": []
  },
  {
   "cell_type": "code",
   "execution_count": null,
   "id": "1cdad830",
   "metadata": {},
   "outputs": [],
   "source": []
  },
  {
   "cell_type": "code",
   "execution_count": null,
   "id": "f195ff72",
   "metadata": {},
   "outputs": [],
   "source": [
    "dummy = {'Time':'5948', 'Pitch': '3.65',\n",
    " 'Yaw': '-119.85',\n",
    " 'Roll': '179.54',\n",
    " 'Accel_x': '-0.50',\n",
    " 'Accel_y': '0.86',\n",
    " 'Accel_z': '0.02',\n",
    " 'Gyro_x': '-0.50',\n",
    " 'Gyro_y': '0.86',\n",
    " 'Gyro_z': '0.02',\n",
    " 'Mag_x': '-0.50',\n",
    " 'Magl_y': '0.86',\n",
    " 'Mag_z': '0.02'}"
   ]
  },
  {
   "cell_type": "code",
   "execution_count": null,
   "id": "81514e4e",
   "metadata": {},
   "outputs": [],
   "source": [
    "pd.DataFrame([dummy, dummy])"
   ]
  },
  {
   "cell_type": "code",
   "execution_count": null,
   "id": "00ac28b8",
   "metadata": {},
   "outputs": [],
   "source": []
  },
  {
   "cell_type": "code",
   "execution_count": null,
   "id": "ac06ed13",
   "metadata": {},
   "outputs": [],
   "source": []
  },
  {
   "cell_type": "code",
   "execution_count": null,
   "id": "6c22a401",
   "metadata": {},
   "outputs": [],
   "source": [
    "df = pd.DataFrame(dummy, columns = [\n",
    "    'Yaw'\n",
    ",'Roll'\n",
    ",'Accel_x'\n",
    ",'Accel_y'\n",
    ",'Accel_z'\n",
    ",'Gyro_x'\n",
    ",'Gyro_y'\n",
    ",'Gyro_z'\n",
    ",'Mag_x' \n",
    ",'Magl_y'\n",
    ",'Mag_z'])\n"
   ]
  },
  {
   "cell_type": "code",
   "execution_count": null,
   "id": "f82c3acd",
   "metadata": {},
   "outputs": [],
   "source": []
  },
  {
   "cell_type": "code",
   "execution_count": null,
   "id": "0056b89e",
   "metadata": {},
   "outputs": [],
   "source": []
  },
  {
   "cell_type": "code",
   "execution_count": null,
   "id": "28dcbef9",
   "metadata": {},
   "outputs": [],
   "source": [
    "pd.DataFrame.from_dict(dummy, orient='columns', dtype=None,typ='series')\n"
   ]
  },
  {
   "cell_type": "code",
   "execution_count": null,
   "id": "8d1d2a3c",
   "metadata": {},
   "outputs": [],
   "source": []
  },
  {
   "cell_type": "code",
   "execution_count": null,
   "id": "2c969948",
   "metadata": {},
   "outputs": [],
   "source": []
  },
  {
   "cell_type": "code",
   "execution_count": null,
   "id": "a220e88a",
   "metadata": {},
   "outputs": [],
   "source": []
  },
  {
   "cell_type": "code",
   "execution_count": null,
   "id": "1ca6550e",
   "metadata": {},
   "outputs": [],
   "source": []
  },
  {
   "cell_type": "code",
   "execution_count": null,
   "id": "af3a1e09",
   "metadata": {},
   "outputs": [],
   "source": []
  },
  {
   "cell_type": "code",
   "execution_count": null,
   "id": "b1e683d4",
   "metadata": {},
   "outputs": [],
   "source": [
    "# serialPort = serial.Serial(port = portAddr, baudrate=115200, bytesize=8, timeout=2, stopbits=serial.STOPBITS_ONE)"
   ]
  },
  {
   "cell_type": "code",
   "execution_count": null,
   "id": "d4be6594",
   "metadata": {},
   "outputs": [],
   "source": []
  },
  {
   "cell_type": "code",
   "execution_count": null,
   "id": "dd302e84",
   "metadata": {
    "scrolled": true
   },
   "outputs": [],
   "source": [
    "with open('hexdatafile.dat', 'wb') as datafile:\n",
    "    datafile.write(ser.read(10000))"
   ]
  },
  {
   "cell_type": "code",
   "execution_count": null,
   "id": "b7b3d04a",
   "metadata": {},
   "outputs": [],
   "source": []
  },
  {
   "cell_type": "code",
   "execution_count": null,
   "id": "ade574d6",
   "metadata": {},
   "outputs": [],
   "source": []
  },
  {
   "cell_type": "code",
   "execution_count": null,
   "id": "4a2d9c8d",
   "metadata": {},
   "outputs": [],
   "source": [
    "msg = \"Pitch:3.65,Yaw:-119.85,Roll:179.54,Accel_x: -0.50,Accel_y: 0.86,Accel_z: 0.02,Gyro_x: -0.50,Gyro_y: 0.86,Gyro_z: 0.02,Mag_x: -0.50,Magl_y: 0.86,Mag_z: 0.02\"\n",
    "msg += \",\""
   ]
  },
  {
   "cell_type": "code",
   "execution_count": null,
   "id": "9d77b13d",
   "metadata": {},
   "outputs": [],
   "source": [
    "findall = re.findall(r'(?P<var>.*?):(?P<out>.*?),', msg)"
   ]
  },
  {
   "cell_type": "code",
   "execution_count": null,
   "id": "8c94eb43",
   "metadata": {},
   "outputs": [],
   "source": [
    "extracted = {k.strip(): v.strip() for k,v in findall}"
   ]
  },
  {
   "cell_type": "code",
   "execution_count": null,
   "id": "6c3d4731",
   "metadata": {},
   "outputs": [],
   "source": [
    "extracted"
   ]
  },
  {
   "cell_type": "code",
   "execution_count": null,
   "id": "d8d11306",
   "metadata": {},
   "outputs": [],
   "source": []
  },
  {
   "cell_type": "code",
   "execution_count": null,
   "id": "425e57f7",
   "metadata": {},
   "outputs": [],
   "source": []
  },
  {
   "cell_type": "code",
   "execution_count": null,
   "id": "7d0c5b1d",
   "metadata": {},
   "outputs": [],
   "source": []
  },
  {
   "cell_type": "code",
   "execution_count": null,
   "id": "6b1a14b9",
   "metadata": {},
   "outputs": [],
   "source": []
  },
  {
   "cell_type": "code",
   "execution_count": null,
   "id": "b98ac2f9",
   "metadata": {},
   "outputs": [],
   "source": []
  },
  {
   "cell_type": "code",
   "execution_count": null,
   "id": "148b9cd0",
   "metadata": {},
   "outputs": [],
   "source": []
  }
 ],
 "metadata": {
  "kernelspec": {
   "display_name": "Python 3",
   "language": "python",
   "name": "python3"
  },
  "language_info": {
   "codemirror_mode": {
    "name": "ipython",
    "version": 3
   },
   "file_extension": ".py",
   "mimetype": "text/x-python",
   "name": "python",
   "nbconvert_exporter": "python",
   "pygments_lexer": "ipython3",
   "version": "3.9.5"
  }
 },
 "nbformat": 4,
 "nbformat_minor": 5
}
