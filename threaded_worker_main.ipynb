{
 "cells": [
  {
   "cell_type": "code",
   "execution_count": null,
   "id": "4d6654a8",
   "metadata": {
    "scrolled": true
   },
   "outputs": [],
   "source": [
    "import serial\n",
    "\n",
    "import time\n",
    "import csv\n",
    "import matplotlib\n",
    "matplotlib.use(\"tkAgg\")\n",
    "import matplotlib.pyplot as plt\n",
    "import numpy as np\n",
    "\n",
    "import re\n",
    "import pandas as pd\n",
    "import dask.dataframe as dd\n",
    "import streamz.dataframe as sdf\n",
    "# from streamz.dataframe import StreamingDataFrame\n",
    "\n",
    "# import threading, queue\n",
    "import multiprocess as mp\n",
    "# from multiprocessing import Process, Pipe\n",
    "import signal\n",
    "import os\n",
    "from subprocess import check_output\n",
    "\n",
    "from scipy.ndimage import gaussian_filter1d"
   ]
  },
  {
   "cell_type": "code",
   "execution_count": null,
   "id": "bafc8d9b",
   "metadata": {},
   "outputs": [],
   "source": [
    "portAddr = \"/dev/cu.usbmodem14101\"\n",
    "baud = 115200"
   ]
  },
  {
   "cell_type": "code",
   "execution_count": null,
   "id": "59493c4d",
   "metadata": {},
   "outputs": [],
   "source": [
    "ser = serial.Serial(\n",
    "    port=portAddr,\n",
    "    baudrate=baud,\n",
    "    bytesize=8,\n",
    "    timeout=2,\n",
    "    stopbits=serial.STOPBITS_ONE\n",
    ")\n",
    "ser.flushInput()\n",
    "\n"
   ]
  },
  {
   "cell_type": "markdown",
   "id": "fe2d8098",
   "metadata": {},
   "source": [
    "This just is a utility fn to extract values out of string we get from usb"
   ]
  },
  {
   "cell_type": "code",
   "execution_count": null,
   "id": "9cb77b2a",
   "metadata": {},
   "outputs": [],
   "source": [
    "def process_serial_out(ascii_string):\n",
    "    ascii_string += ','\n",
    "    findall = re.findall(r'(?P<var>.*?)=(?P<out>.*?),', ascii_string)\n",
    "    extracted = {k.strip().lower(): float(v.strip()) for k,v in findall}\n",
    "    return extracted"
   ]
  },
  {
   "cell_type": "markdown",
   "id": "feac05b7",
   "metadata": {},
   "source": [
    "This is the first worker. USB -> arduino_worker -> usb_reading_queue"
   ]
  },
  {
   "cell_type": "code",
   "execution_count": null,
   "id": "1c546184",
   "metadata": {},
   "outputs": [],
   "source": [
    "\n",
    "def arduino_worker(queue):\n",
    "    print(\"worker starting...\")\n",
    "    while True:\n",
    "        try:\n",
    "            ser_bytes = ser.readline()\n",
    "            try:\n",
    "                print(\"got\", ser_bytes)\n",
    "                decoded_bytes = ser_bytes.decode('ascii')\n",
    "                try:\n",
    "                    row = process_serial_out(decoded_bytes)\n",
    "                except:\n",
    "                    continue\n",
    "                print(decoded_bytes)\n",
    "                queue.put(row)\n",
    "            except:\n",
    "                print_exc()\n",
    "                print(\"exception reading one line from arduino\")\n",
    "                continue\n",
    "        except:\n",
    "            print_exc()\n",
    "            print(\"Keyboard Interrupt\")\n",
    "            break"
   ]
  },
  {
   "cell_type": "markdown",
   "id": "85bbdf49",
   "metadata": {},
   "source": [
    "Prathik's code, with small modifications that might not be smart"
   ]
  },
  {
   "cell_type": "code",
   "execution_count": null,
   "id": "77d7932b",
   "metadata": {},
   "outputs": [],
   "source": [
    "## NOTE!! MKIMMINS: this now has accel z smooth in each stride object.\n",
    "class Stride:\n",
    "    def __init__(self, df_walk_data, start_idx, stop_idx, accel_z_smooth):\n",
    "        self.start_idx = start_idx\n",
    "        self.stop_idx = stop_idx\n",
    "        self.df_walk_data = df_walk_data\n",
    "        self.accel_z_smooth = accel_z_smooth\n",
    "\n",
    "        total_disp, integral1, integral2 = get_displacement_of_walk_segment (df_walk_data, start_idx, stop_idx)\n",
    "        self.horizontal_length = abs(total_disp)\n",
    "        self.time_duration = (df_walk_data.time[self.stop_idx] - df_walk_data.time[self.start_idx])/1000\n",
    "        self.speed = self.horizontal_length/self.time_duration #m/s\n",
    "\n",
    "\n",
    "def get_displacement_of_walk_segment(df_data, start_idx, end_idx):\n",
    "    # first integration\n",
    "    integral_0 = df_data.accel_z[start_idx:end_idx]\n",
    "\n",
    "    # first integral\n",
    "    cumsum = 0\n",
    "    integral_1 = []\n",
    "    for idx, elem in enumerate(integral_0):\n",
    "        delta_time = (df_data.time[start_idx+idx+1] - df_data.time[start_idx+idx] ) / 1000\n",
    "        cumsum += elem * delta_time\n",
    "        integral_1.append(cumsum)\n",
    "    \n",
    "    # second integral\n",
    "    cumsum = 0\n",
    "    integral_2 = []\n",
    "    for idx, elem in enumerate(integral_1):\n",
    "        delta_time = (df_data.time[start_idx+idx+1] - df_data.time[start_idx+idx] ) / 1000\n",
    "        cumsum += elem * delta_time\n",
    "        integral_2.append(cumsum)\n",
    "    \n",
    "    # total_displacement, first_integral, second_integral\n",
    "    return cumsum, integral_1, integral_2\n",
    "\n",
    "# TODO Mkimmins : segment increased to 500!\n",
    "# segment_length = 100\n",
    "segment_length = 100\n",
    "temp_segment_compute_limit_start = 0\n",
    "temp_segment_compute_limit_end = 400\n",
    "# temp_segment_compute_limit_end = len(readings)\n",
    "total_walk = []\n",
    "# strides = []\n",
    "\n",
    "# Algorithm Constants\n",
    "start_quiet_noise_idx = 0\n",
    "end_quiet_noise_idx = 100 # 1 second sigma calibration\n",
    "STRIDE_TIMEOUT = 500\n",
    "num_of_stddev = 3\n",
    "gaussian_filter_sigma = 5\n"
   ]
  },
  {
   "cell_type": "markdown",
   "id": "f8c13e2f",
   "metadata": {},
   "source": [
    "The third worker logic. this is where we do the calculations. \n",
    "total_data -> process_calculate_strides -> total_strides\n",
    "This stores each strides to total_strides. Might cut this out as non-worker just simple cell you run for ease"
   ]
  },
  {
   "cell_type": "code",
   "execution_count": null,
   "id": "0f4d4a59",
   "metadata": {},
   "outputs": [],
   "source": [
    "\n",
    "def process_calculate_strides(total_data, total_strides):\n",
    "    print(\"starting calculate_strides...\")\n",
    "    while True:\n",
    "        try:\n",
    "            walk_segment = total_data.get()\n",
    "            print (\"processing one segment chunk\")\n",
    "#             print(\"the segment: \", walk_segment)\n",
    "            for k in walk_segment:total_walk.append(k) \n",
    "            df_walk = pd.DataFrame(total_walk)\n",
    "            df_walk.time = df_walk.time - df_walk.time[0] # reset time from start of stream\n",
    "            # Filter out accel_z\n",
    "            accel_z_smooth = gaussian_filter1d(df_walk.accel_z, gaussian_filter_sigma)\n",
    "            # Define Baseline Noise\n",
    "\n",
    "            accel_z_std = np.std(df_walk.accel_z[start_quiet_noise_idx:end_quiet_noise_idx], axis=0)\n",
    "            accel_z_mean = np.mean(df_walk.accel_z[start_quiet_noise_idx:end_quiet_noise_idx])\n",
    "            upper_limit = accel_z_mean + num_of_stddev * accel_z_std\n",
    "            lower_limit = accel_z_mean - num_of_stddev * accel_z_std\n",
    "\n",
    "            # Determining Stride\n",
    "            # Stride Class with auto-compute all chracterisitcs\n",
    "            stride_under = False\n",
    "            stride_over = False\n",
    "            start_stride_idx, end_stride_idx = None, None\n",
    "            # Determining Stride\n",
    "            # Stride Class with auto-compute all chracterisitcs\n",
    "            stride_under = False\n",
    "            stride_over = False\n",
    "            start_stride_idx, end_stride_idx = None, None\n",
    "\n",
    "            for idx, data in enumerate(accel_z_smooth):\n",
    "                # timeout\n",
    "                if start_stride_idx and idx-start_stride_idx > STRIDE_TIMEOUT:\n",
    "                    start_stride_idx = None\n",
    "                    stride_under = False\n",
    "                    stride_over = False\n",
    "                if (data < lower_limit) and (not stride_under and not stride_over):\n",
    "                    # Heal off the ground\n",
    "                    stride_under = True\n",
    "                    start_stride_idx = idx\n",
    "                elif (data > upper_limit) and (stride_under and not stride_over):\n",
    "                    stride_under = False\n",
    "                    stride_over = True\n",
    "                elif (data < upper_limit) and (not stride_under and stride_over):\n",
    "                    stride_under = False\n",
    "                    stride_over = False   \n",
    "                    end_stride_idx = idx\n",
    "                    curr_stride = Stride (df_walk, start_stride_idx, end_stride_idx, accel_z_smooth)\n",
    "                    print(\"end of reading for one stride.\")\n",
    "                    total_strides.put(curr_stride)\n",
    "        except:\n",
    "            print_exc()\n",
    "            print(\"exception in stride processor worker\")\n"
   ]
  },
  {
   "cell_type": "markdown",
   "id": "db5b72fc",
   "metadata": {},
   "source": [
    "The second worker.\n",
    "It takes usb reads and chunks by segment_length, saves to total_data queue\n",
    "usb_reading_queue -> stride_processor_worker -> total_data"
   ]
  },
  {
   "cell_type": "code",
   "execution_count": null,
   "id": "23b048aa",
   "metadata": {},
   "outputs": [],
   "source": [
    "\n",
    "\n",
    "#worker to process one stride boundary, sort data into buckets\n",
    "def stride_processor_worker(total_data, raw_stream):\n",
    "    this_segment = []\n",
    "    print(\"stride_processor starting...\")\n",
    "    while True:\n",
    "        #Infinitely 1. appends to this_segment, then when boundary is met,\n",
    "        #appends that stride to total_data, reinitializes this_segment\n",
    "        #and loops forever.\n",
    "        try:\n",
    "            row = raw_stream.get()\n",
    "            print (\"decoded: \", row)\n",
    "            if len(this_segment) > segment_length:\n",
    "                #put away the current stride in total data as one stride\n",
    "                total_data.put(this_segment)\n",
    "                print(\"finished writing this one stride, size: \", len(this_segment))\n",
    "                #reinitialize the stride queue\n",
    "                this_segment = []\n",
    "            else:\n",
    "                this_segment.append(row)\n",
    "        except:\n",
    "            print_exc()\n",
    "            print(\"exception in stride processor worker\")\n",
    "            \n",
    "    "
   ]
  },
  {
   "cell_type": "code",
   "execution_count": null,
   "id": "6393412c",
   "metadata": {},
   "outputs": [],
   "source": [
    "# overall structure:\n",
    "# total_data = [stride1, stride2,,,,,,stride500]\n",
    "# stride1 = [{r1}, {r2}, {r3}]"
   ]
  },
  {
   "cell_type": "code",
   "execution_count": 1,
   "id": "980edca6",
   "metadata": {},
   "outputs": [],
   "source": [
    "######### start 'main' ########"
   ]
  },
  {
   "cell_type": "markdown",
   "id": "9ceb3cdc",
   "metadata": {},
   "source": [
    "# treat this as main of code: when all the runtime things happen"
   ]
  },
  {
   "cell_type": "markdown",
   "id": "b99df91c",
   "metadata": {},
   "source": [
    "Set up multithreading contexts, and initialize global queue"
   ]
  },
  {
   "cell_type": "code",
   "execution_count": null,
   "id": "e3bb0478",
   "metadata": {
    "scrolled": true
   },
   "outputs": [],
   "source": [
    "pool = mp.Pool()\n",
    "manager = mp.Manager()\n",
    "usb_reading_queue = mp.SimpleQueue() # This queue holds all individual readings that are parsed.\n",
    "total_data = mp.SimpleQueue() #This queue holds all chunked readings that are emptied from reading queue\n",
    "total_strides = mp.SimpleQueue() #This queue drains total_data and chunks into strides with Prathik's computation\n",
    "\n"
   ]
  },
  {
   "cell_type": "markdown",
   "id": "81c13e6a",
   "metadata": {},
   "source": [
    "#  set up worker threads"
   ]
  },
  {
   "cell_type": "code",
   "execution_count": null,
   "id": "b120ff87",
   "metadata": {},
   "outputs": [],
   "source": [
    "stride_process = mp.Process(target=stride_processor_worker, args=[total_data, usb_reading_queue])\n"
   ]
  },
  {
   "cell_type": "code",
   "execution_count": null,
   "id": "fee241b8",
   "metadata": {
    "scrolled": false
   },
   "outputs": [],
   "source": [
    "arduino_proc = mp.Process(target=arduino_worker, args=[usb_reading_queue])\n"
   ]
  },
  {
   "cell_type": "code",
   "execution_count": null,
   "id": "86fd5e22",
   "metadata": {},
   "outputs": [],
   "source": [
    "strides_compute_proc = mp.Process(target=process_calculate_strides, args=[total_data, total_strides])"
   ]
  },
  {
   "cell_type": "markdown",
   "id": "6ff9903b",
   "metadata": {},
   "source": [
    "# start threads"
   ]
  },
  {
   "cell_type": "code",
   "execution_count": null,
   "id": "e2e682b7",
   "metadata": {
    "scrolled": true
   },
   "outputs": [],
   "source": [
    "arduino_proc.start()"
   ]
  },
  {
   "cell_type": "code",
   "execution_count": null,
   "id": "a032245b",
   "metadata": {
    "scrolled": true
   },
   "outputs": [],
   "source": [
    "stride_process.start()"
   ]
  },
  {
   "cell_type": "code",
   "execution_count": null,
   "id": "32926b8b",
   "metadata": {
    "scrolled": true
   },
   "outputs": [],
   "source": [
    "strides_compute_proc.start()"
   ]
  },
  {
   "cell_type": "markdown",
   "id": "e7014d94",
   "metadata": {},
   "source": [
    "ONLY run this cell when you want to kill the processes.\n",
    "if you want to inspect the intermediary queues, just kill the processes prior to that\n",
    "so that the previous processes can put into queue without it being drained."
   ]
  },
  {
   "cell_type": "markdown",
   "id": "6aad193f",
   "metadata": {},
   "source": [
    "# kill threads"
   ]
  },
  {
   "cell_type": "code",
   "execution_count": null,
   "id": "895aab30",
   "metadata": {},
   "outputs": [],
   "source": [
    "# arduino_proc.join()\n",
    "# stride_process.join()\n",
    "# strides_compute_proc.join()\n",
    "arduino_proc.terminate()\n",
    "stride_process.terminate()\n",
    "strides_compute_proc.terminate()"
   ]
  },
  {
   "cell_type": "code",
   "execution_count": null,
   "id": "8f4935db",
   "metadata": {
    "scrolled": true
   },
   "outputs": [],
   "source": []
  },
  {
   "cell_type": "code",
   "execution_count": null,
   "id": "bb904e10",
   "metadata": {},
   "outputs": [],
   "source": []
  },
  {
   "cell_type": "markdown",
   "id": "4d512850",
   "metadata": {},
   "source": [
    "# SCRATCHWORK BEGINS HERE"
   ]
  },
  {
   "cell_type": "code",
   "execution_count": null,
   "id": "b5fda3a8",
   "metadata": {},
   "outputs": [],
   "source": [
    "total_strides"
   ]
  },
  {
   "cell_type": "code",
   "execution_count": null,
   "id": "ad5bf606",
   "metadata": {},
   "outputs": [],
   "source": [
    "total_strides.empty()"
   ]
  },
  {
   "cell_type": "code",
   "execution_count": null,
   "id": "83c25efd",
   "metadata": {
    "scrolled": true
   },
   "outputs": [],
   "source": [
    "one_stride = total_strides.get()"
   ]
  },
  {
   "cell_type": "code",
   "execution_count": null,
   "id": "85033f83",
   "metadata": {},
   "outputs": [],
   "source": [
    "one_stride"
   ]
  },
  {
   "cell_type": "code",
   "execution_count": null,
   "id": "50a1b5a0",
   "metadata": {},
   "outputs": [],
   "source": [
    "df_walk = one_stride.df_walk_data\n",
    "accel_z_smooth = one_stride.accel_z_smooth"
   ]
  },
  {
   "cell_type": "code",
   "execution_count": null,
   "id": "5a321155",
   "metadata": {},
   "outputs": [],
   "source": []
  },
  {
   "cell_type": "code",
   "execution_count": null,
   "id": "c28b2867",
   "metadata": {},
   "outputs": [],
   "source": [
    "fig = plt.figure(figsize=(14, 4), dpi=80)"
   ]
  },
  {
   "cell_type": "code",
   "execution_count": null,
   "id": "76987d91",
   "metadata": {},
   "outputs": [],
   "source": [
    "plt.plot(df_walk.time,df_walk.accel_z)\n",
    "plt.plot(df_walk.time,accel_z_smooth)\n",
    "plt.axhline(y=upper_limit, color='r', linestyle='-')\n",
    "plt.axhline(y=lower_limit, color='r', linestyle='-')\n"
   ]
  },
  {
   "cell_type": "code",
   "execution_count": null,
   "id": "9611848f",
   "metadata": {},
   "outputs": [],
   "source": []
  },
  {
   "cell_type": "code",
   "execution_count": null,
   "id": "f6ac531c",
   "metadata": {},
   "outputs": [],
   "source": [
    "\n",
    "while True:\n",
    "    try:\n",
    "        plt.plot(df_walk.time,df_walk.accel_z)\n",
    "        plt.plot(df_walk.time,accel_z_smooth)\n",
    "        plt.axhline(y=upper_limit, color='r', linestyle='-')\n",
    "        plt.axhline(y=lower_limit, color='r', linestyle='-')\n",
    "#         plt.show()\n",
    "        plt.draw()\n",
    "        print (\"Number of Strides: \", len(strides))\n",
    "        for idx, stride in enumerate(strides):\n",
    "            print (\"Stride \", idx, \" :\") \n",
    "            print (\"Stride Start Time: \", df_walk.time[stride.start_idx]/1000)\n",
    "            print (\"Stride End Time: \", df_walk.time[stride.stop_idx]/1000)\n",
    "            print (\"Stride Length (m):\", stride.horizontal_length)\n",
    "            print (\"Stride Time Duration (sec): \", stride.time_duration)\n",
    "            print (\"Stride Time Duration (m/s): \", stride.speed)\n",
    "\n",
    "        time.sleep(2)\n",
    "    except:\n",
    "        print(\"exception in plotting loop\")\n"
   ]
  },
  {
   "cell_type": "code",
   "execution_count": null,
   "id": "f1a39207",
   "metadata": {},
   "outputs": [],
   "source": []
  },
  {
   "cell_type": "code",
   "execution_count": null,
   "id": "684ea38b",
   "metadata": {},
   "outputs": [],
   "source": []
  },
  {
   "cell_type": "code",
   "execution_count": null,
   "id": "c6a320c3",
   "metadata": {},
   "outputs": [],
   "source": []
  },
  {
   "cell_type": "code",
   "execution_count": null,
   "id": "5bc7c313",
   "metadata": {},
   "outputs": [],
   "source": []
  },
  {
   "cell_type": "code",
   "execution_count": null,
   "id": "cbbeb341",
   "metadata": {},
   "outputs": [],
   "source": []
  },
  {
   "cell_type": "code",
   "execution_count": null,
   "id": "d0e68ce7",
   "metadata": {},
   "outputs": [],
   "source": []
  },
  {
   "cell_type": "code",
   "execution_count": null,
   "id": "97731705",
   "metadata": {},
   "outputs": [],
   "source": []
  },
  {
   "cell_type": "code",
   "execution_count": null,
   "id": "44347511",
   "metadata": {},
   "outputs": [],
   "source": []
  },
  {
   "cell_type": "code",
   "execution_count": null,
   "id": "2d325679",
   "metadata": {},
   "outputs": [],
   "source": []
  },
  {
   "cell_type": "code",
   "execution_count": null,
   "id": "62155f42",
   "metadata": {},
   "outputs": [],
   "source": []
  },
  {
   "cell_type": "code",
   "execution_count": null,
   "id": "cb80fac1",
   "metadata": {},
   "outputs": [],
   "source": []
  },
  {
   "cell_type": "code",
   "execution_count": null,
   "id": "6a812b8d",
   "metadata": {},
   "outputs": [],
   "source": [
    "total_data.empty()"
   ]
  },
  {
   "cell_type": "code",
   "execution_count": null,
   "id": "15b21964",
   "metadata": {},
   "outputs": [],
   "source": [
    "total_strides.empty()"
   ]
  },
  {
   "cell_type": "code",
   "execution_count": null,
   "id": "3b560349",
   "metadata": {},
   "outputs": [],
   "source": []
  },
  {
   "cell_type": "code",
   "execution_count": null,
   "id": "87df4b14",
   "metadata": {},
   "outputs": [],
   "source": [
    "\n",
    "                    \n",
    "                    \n",
    "                    # print ((df_walk.shape))\n",
    "            fig = plt.figure(figsize=(14, 4), dpi=80)\n",
    "            plt.plot(df_walk.time,df_walk.accel_z)\n",
    "            plt.plot(df_walk.time,accel_z_smooth)\n",
    "            plt.axhline(y=upper_limit, color='r', linestyle='-')\n",
    "            plt.axhline(y=lower_limit, color='r', linestyle='-')\n",
    "            plt.show()\n",
    "            print (\"Number of Strides: \", len(strides))\n",
    "            for idx, stride in enumerate(strides):\n",
    "                print (\"Stride \", idx, \" :\") \n",
    "                print (\"Stride Start Time: \", df_walk.time[stride.start_idx]/1000)\n",
    "                print (\"Stride End Time: \", df_walk.time[stride.stop_idx]/1000)\n",
    "                print (\"Stride Length (m):\", stride.horizontal_length)\n",
    "                print (\"Stride Time Duration (sec): \", stride.time_duration)\n",
    "                print (\"Stride Time Duration (m/s): \", stride.speed)\n",
    "\n",
    "            time.sleep(1)"
   ]
  },
  {
   "cell_type": "code",
   "execution_count": null,
   "id": "ec1b1e24",
   "metadata": {},
   "outputs": [],
   "source": []
  },
  {
   "cell_type": "code",
   "execution_count": null,
   "id": "9075327c",
   "metadata": {},
   "outputs": [],
   "source": []
  },
  {
   "cell_type": "code",
   "execution_count": null,
   "id": "a4d5d5dd",
   "metadata": {},
   "outputs": [],
   "source": []
  },
  {
   "cell_type": "code",
   "execution_count": null,
   "id": "ade2800b",
   "metadata": {},
   "outputs": [],
   "source": []
  },
  {
   "cell_type": "code",
   "execution_count": null,
   "id": "56411058",
   "metadata": {},
   "outputs": [],
   "source": []
  },
  {
   "cell_type": "code",
   "execution_count": null,
   "id": "42e0a190",
   "metadata": {},
   "outputs": [],
   "source": []
  },
  {
   "cell_type": "code",
   "execution_count": null,
   "id": "04badf88",
   "metadata": {},
   "outputs": [],
   "source": []
  },
  {
   "cell_type": "code",
   "execution_count": null,
   "id": "723c865c",
   "metadata": {},
   "outputs": [],
   "source": [
    "total_data"
   ]
  },
  {
   "cell_type": "code",
   "execution_count": null,
   "id": "89097bb7",
   "metadata": {},
   "outputs": [],
   "source": [
    "total_data.empty()"
   ]
  },
  {
   "cell_type": "code",
   "execution_count": null,
   "id": "28eed128",
   "metadata": {},
   "outputs": [],
   "source": [
    "stride_1 = total_data.get()"
   ]
  },
  {
   "cell_type": "code",
   "execution_count": null,
   "id": "f27a2f6e",
   "metadata": {
    "scrolled": true
   },
   "outputs": [],
   "source": [
    "stride_1"
   ]
  },
  {
   "cell_type": "code",
   "execution_count": null,
   "id": "61fda9f7",
   "metadata": {},
   "outputs": [],
   "source": []
  },
  {
   "cell_type": "code",
   "execution_count": null,
   "id": "f8dfdd9f",
   "metadata": {},
   "outputs": [],
   "source": []
  },
  {
   "cell_type": "code",
   "execution_count": null,
   "id": "4120a9d7",
   "metadata": {},
   "outputs": [],
   "source": []
  },
  {
   "cell_type": "code",
   "execution_count": null,
   "id": "d8d11306",
   "metadata": {},
   "outputs": [],
   "source": []
  },
  {
   "cell_type": "code",
   "execution_count": null,
   "id": "425e57f7",
   "metadata": {},
   "outputs": [],
   "source": []
  },
  {
   "cell_type": "code",
   "execution_count": null,
   "id": "7d0c5b1d",
   "metadata": {},
   "outputs": [],
   "source": []
  },
  {
   "cell_type": "code",
   "execution_count": null,
   "id": "6b1a14b9",
   "metadata": {},
   "outputs": [],
   "source": []
  },
  {
   "cell_type": "code",
   "execution_count": null,
   "id": "b98ac2f9",
   "metadata": {},
   "outputs": [],
   "source": []
  },
  {
   "cell_type": "code",
   "execution_count": null,
   "id": "176e0ca9",
   "metadata": {},
   "outputs": [],
   "source": [
    "# scratch"
   ]
  },
  {
   "cell_type": "code",
   "execution_count": null,
   "id": "6b8eb81c",
   "metadata": {
    "scrolled": true
   },
   "outputs": [],
   "source": [
    "walk_segment = total_data.get()\n",
    "print(\"the segment: \", walk_segment)\n",
    "for k in walk_segment:total_walk.append(k) \n",
    "df_walk = pd.DataFrame(total_walk)\n",
    "df_walk.time = df_walk.time - df_walk.time[0] # reset time from start of stream\n",
    "# Filter out accel_z\n",
    "accel_z_smooth = gaussian_filter1d(df_walk.accel_z, gaussian_filter_sigma)\n",
    "# Define Baseline Noise\n",
    "\n",
    "accel_z_std = np.std(df_walk.accel_z[start_quiet_noise_idx:end_quiet_noise_idx], axis=0)\n",
    "accel_z_mean = np.mean(df_walk.accel_z[start_quiet_noise_idx:end_quiet_noise_idx])\n",
    "upper_limit = accel_z_mean + num_of_stddev * accel_z_std\n",
    "lower_limit = accel_z_mean - num_of_stddev * accel_z_std\n",
    "\n",
    "# Determining Stride\n",
    "# Stride Class with auto-compute all chracterisitcs\n",
    "stride_under = False\n",
    "stride_over = False\n",
    "start_stride_idx, end_stride_idx = None, None\n"
   ]
  },
  {
   "cell_type": "code",
   "execution_count": null,
   "id": "310c2999",
   "metadata": {
    "scrolled": true
   },
   "outputs": [],
   "source": [
    "\n",
    "# Determining Stride\n",
    "# Stride Class with auto-compute all chracterisitcs\n",
    "stride_under = False\n",
    "stride_over = False\n",
    "start_stride_idx, end_stride_idx = None, None\n",
    "\n",
    "for idx, data in enumerate(accel_z_smooth):\n",
    "    # timeout\n",
    "    if start_stride_idx and idx-start_stride_idx > STRIDE_TIMEOUT:\n",
    "        start_stride_idx = None\n",
    "        stride_under = False\n",
    "        stride_over = False\n",
    "    if (data < lower_limit) and (not stride_under and not stride_over):\n",
    "        # Heal off the ground\n",
    "        stride_under = True\n",
    "        start_stride_idx = idx\n",
    "    elif (data > upper_limit) and (stride_under and not stride_over):\n",
    "        stride_under = False\n",
    "        stride_over = True\n",
    "    elif (data < upper_limit) and (not stride_under and stride_over):\n",
    "        stride_under = False\n",
    "        stride_over = False   \n",
    "        end_stride_idx = idx\n",
    "        curr_stride = Stride (df_walk, start_stride_idx, end_stride_idx)\n",
    "        strides.append(curr_stride)\n",
    "\n"
   ]
  },
  {
   "cell_type": "code",
   "execution_count": null,
   "id": "ee5bff51",
   "metadata": {},
   "outputs": [],
   "source": [
    "for idx, data in enumerate(accel_z_smooth):\n",
    "    print(\"idx: \", idx)\n",
    "    print(\"data: \", data)"
   ]
  },
  {
   "cell_type": "code",
   "execution_count": null,
   "id": "d039fe24",
   "metadata": {},
   "outputs": [],
   "source": []
  },
  {
   "cell_type": "code",
   "execution_count": null,
   "id": "717b94c3",
   "metadata": {
    "scrolled": true
   },
   "outputs": [],
   "source": [
    "strides"
   ]
  },
  {
   "cell_type": "code",
   "execution_count": null,
   "id": "148b9cd0",
   "metadata": {},
   "outputs": [],
   "source": [
    "decoded_bytes = \"time=38758,accel_x= 0.03,accel_y= 0.03,accel_z= -0.39,gyro_x= 0.00,gyro_y= -0.00,gyro_z= -0.00,mag_x= 4.50,mag_y= 3.06,mag_z= -10.50,orientation_x= 359.94,orientation_y= 4.31,orientation_z= 0.44\""
   ]
  },
  {
   "cell_type": "code",
   "execution_count": null,
   "id": "755f761d",
   "metadata": {},
   "outputs": [],
   "source": [
    "row = process_serial_out(decoded_bytes)\n",
    "print(decoded_bytes)"
   ]
  },
  {
   "cell_type": "code",
   "execution_count": null,
   "id": "7a3977c7",
   "metadata": {},
   "outputs": [],
   "source": [
    "ascii_string = decoded_bytes\n",
    "ascii_string += ','\n",
    "findall = re.findall(r'(?P<var>.*?)=(?P<out>.*?),', ascii_string)\n",
    "extracted = {k.strip().lower(): float(v.strip()) for k,v in findall}\n"
   ]
  },
  {
   "cell_type": "code",
   "execution_count": null,
   "id": "63c57dca",
   "metadata": {},
   "outputs": [],
   "source": [
    "extracted"
   ]
  },
  {
   "cell_type": "code",
   "execution_count": null,
   "id": "c4d3deee",
   "metadata": {},
   "outputs": [],
   "source": []
  },
  {
   "cell_type": "code",
   "execution_count": null,
   "id": "01bd2695",
   "metadata": {},
   "outputs": [],
   "source": []
  }
 ],
 "metadata": {
  "kernelspec": {
   "display_name": "Python 3",
   "language": "python",
   "name": "python3"
  },
  "language_info": {
   "codemirror_mode": {
    "name": "ipython",
    "version": 3
   },
   "file_extension": ".py",
   "mimetype": "text/x-python",
   "name": "python",
   "nbconvert_exporter": "python",
   "pygments_lexer": "ipython3",
   "version": "3.9.5"
  }
 },
 "nbformat": 4,
 "nbformat_minor": 5
}
